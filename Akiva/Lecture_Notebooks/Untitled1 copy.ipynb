{
 "metadata": {
  "name": "",
  "signature": "sha256:5fbcc10ed0d689685b4913d0477a2b238704da44c091a3cb060fff84b654c5da"
 },
 "nbformat": 3,
 "nbformat_minor": 0,
 "worksheets": [
  {
   "cells": [
    {
     "cell_type": "code",
     "collapsed": false,
     "input": [
      "import pandas as pd\n",
      "form sklearn.preprocessing import polynomialFeatures\n",
      "\n",
      "\n",
      "heights_vs_weights= pd.Dataframe(heights = [150,130,140, 145,170]\n",
      "weights = [50,75,96,120,150]\n",
      "{'heights': hights\n",
      " 'weights': weights\n",
      " })\n",
      "\n",
      "heights_vs_weights\n",
      "\n",
      "from sklearn.linear_model import LinearRegression\n",
      "\n",
      "x=heights_vs_weights[['heights']]\n",
      "x=heights_vs_weights[['weights']]\n",
      "\n",
      "regressor.fit(x,y)\n",
      "\n",
      "regressor = LinearRegression()\n",
      "\n",
      "print x.shape\n",
      "print y.shape\n",
      "\n",
      "from sklearn.preprocesing import PolynomialFeatures\n",
      "\n"
     ],
     "language": "python",
     "metadata": {},
     "outputs": [
      {
       "ename": "SyntaxError",
       "evalue": "invalid syntax (<ipython-input-4-f47ab21efde5>, line 2)",
       "output_type": "pyerr",
       "traceback": [
        "\u001b[0;36m  File \u001b[0;32m\"<ipython-input-4-f47ab21efde5>\"\u001b[0;36m, line \u001b[0;32m2\u001b[0m\n\u001b[0;31m    form sklearn.preprocessing import polynomialFeatures\u001b[0m\n\u001b[0m               ^\u001b[0m\n\u001b[0;31mSyntaxError\u001b[0m\u001b[0;31m:\u001b[0m invalid syntax\n"
       ]
      }
     ],
     "prompt_number": 4
    }
   ],
   "metadata": {}
  }
 ]
}