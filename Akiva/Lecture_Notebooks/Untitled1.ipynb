{
 "metadata": {
  "name": "",
  "signature": "sha256:f52ee6279f1004b3379b31bef434cf0715f4c1b8f8ea66389b7cc7900bfb2970"
 },
 "nbformat": 3,
 "nbformat_minor": 0,
 "worksheets": []
}