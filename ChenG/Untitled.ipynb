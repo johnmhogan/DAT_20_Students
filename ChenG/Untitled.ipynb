{
 "cells": [
  {
   "cell_type": "code",
   "execution_count": 1,
   "metadata": {
    "collapsed": true
   },
   "outputs": [],
   "source": [
    "# Imports\n",
    "import pandas as pd\n",
    "import matplotlib.pyplot as plt\n",
    "\n",
    "# This allows plots to appear directly in the notebook\n",
    "%matplotlib inline\n"
   ]
  },
  {
   "cell_type": "code",
   "execution_count": 32,
   "metadata": {
    "collapsed": false
   },
   "outputs": [
    {
     "data": {
      "text/plain": [
       "Index([u'Name', u'Click', u'UniqueClick', u'Price', u'Rank', u'Rating', u'See', u'FreeVersion', u'Mac', u'Windowsphone', u'Linux', u'Disk', u'Sharing', u'Explorer', u'Folder', u'Search', u'Version', u'Backup'], dtype='object')"
      ]
     },
     "execution_count": 32,
     "metadata": {},
     "output_type": "execute_result"
    }
   ],
   "source": [
    "# Load data\n",
    "data=pd.read_csv('OnlineBackup.csv')\n",
    "\n",
    "# Describe data\n",
    "data.head()\n",
    "data.columns"
   ]
  },
  {
   "cell_type": "code",
   "execution_count": 35,
   "metadata": {
    "collapsed": false
   },
   "outputs": [
    {
     "name": "stdout",
     "output_type": "stream",
     "text": [
      "67.1849588691\n",
      "[   0.44564255  -12.36932027   22.71004774   -3.4164195    48.35708118\n",
      "  -14.29217243   -0.55311449 -106.42877186   -8.63475161  -34.43902962\n",
      "   89.96056595  -45.31478255   -3.4164195   -14.29217243   32.33700255]\n"
     ]
    },
    {
     "data": {
      "text/plain": [
       "[('Price', 0.44564255133048947),\n",
       " ('Rank', -12.369320274376296),\n",
       " ('Rating', 22.710047743489341),\n",
       " ('See', -3.4164194989810062),\n",
       " ('FreeVersion', 48.357081176558388),\n",
       " ('Mac', -14.292172428182806),\n",
       " ('Windowsphone', -0.55311448925061768),\n",
       " ('Linux', -106.42877186247023),\n",
       " ('Disk', -8.6347516054579962),\n",
       " ('Sharing', -34.439029620667775),\n",
       " ('Explorer', 89.960565954499273),\n",
       " ('Folder', -45.314782549866493),\n",
       " ('Search', -3.4164194989810168),\n",
       " ('Version', -14.292172428182861),\n",
       " ('Backup', 32.337002554446656)]"
      ]
     },
     "execution_count": 35,
     "metadata": {},
     "output_type": "execute_result"
    }
   ],
   "source": [
    "feature_cols=['Price', 'Rank', 'Rating', 'See', 'FreeVersion', 'Mac', 'Windowsphone', 'Linux', 'Disk', 'Sharing', 'Explorer', 'Folder', 'Search', 'Version', 'Backup']\n",
    "X=data[feature_cols]\n",
    "X.head()\n",
    "y=data.UniqueClick\n",
    "y.head()\n",
    "\n",
    "from sklearn.linear_model import LinearRegression\n",
    "lm=LinearRegression()\n",
    "lm.fit(X,y)\n",
    "print lm.intercept_\n",
    "print lm.coef_\n",
    "zip(feature_cols,lm.coef_)\n",
    "#X.head(30)"
   ]
  }
 ],
 "metadata": {
  "kernelspec": {
   "display_name": "Python 2",
   "language": "python",
   "name": "python2"
  },
  "language_info": {
   "codemirror_mode": {
    "name": "ipython",
    "version": 2
   },
   "file_extension": ".py",
   "mimetype": "text/x-python",
   "name": "python",
   "nbconvert_exporter": "python",
   "pygments_lexer": "ipython2",
   "version": "2.7.6"
  }
 },
 "nbformat": 4,
 "nbformat_minor": 0
}
