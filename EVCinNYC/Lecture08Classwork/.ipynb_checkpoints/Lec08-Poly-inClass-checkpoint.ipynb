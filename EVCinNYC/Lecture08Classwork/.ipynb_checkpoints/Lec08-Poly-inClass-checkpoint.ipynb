{
 "metadata": {
  "name": "",
  "signature": "sha256:2006475aa11f71094353e2ffacac13921dc8fe28ec8e971438557ef03e928e10"
 },
 "nbformat": 3,
 "nbformat_minor": 0,
 "worksheets": []
}