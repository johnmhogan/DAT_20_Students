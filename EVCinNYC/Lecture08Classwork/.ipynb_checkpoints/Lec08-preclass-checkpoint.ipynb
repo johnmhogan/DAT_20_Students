{
 "metadata": {
  "name": "",
  "signature": "sha256:3f3839521e027b5970dc60351670ebea6b6837bfb6a46df0ffb6fa711ef0787c"
 },
 "nbformat": 3,
 "nbformat_minor": 0,
 "worksheets": [
  {
   "cells": [
    {
     "cell_type": "code",
     "collapsed": false,
     "input": [
      "#Detecing Credit Defaults - Classification\n",
      "\n",
      "import numpy as np\n",
      "import pandas as pd\n",
      "import matplotlib.pyplot as plt\n",
      "import matplotlib\n",
      "from matplotlib.colors import ListedColormap\n",
      "%matplotlib inline\n",
      "url = '/Users/EVC/GA/upstream/DAT_20_Students/EVCinNYC/data/Default.csv'\n",
      "df = pd.read_csv(url)"
     ],
     "language": "python",
     "metadata": {},
     "outputs": [],
     "prompt_number": 2
    },
    {
     "cell_type": "code",
     "collapsed": false,
     "input": [],
     "language": "python",
     "metadata": {},
     "outputs": []
    }
   ],
   "metadata": {}
  }
 ]
}