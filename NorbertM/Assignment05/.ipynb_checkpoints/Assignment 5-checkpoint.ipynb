{
 "metadata": {
  "name": "",
  "signature": "sha256:f94740e3fcf8b7474dd9115c60fc0ba11b6aca4a76570cc30b2e1c1b698e6a99"
 },
 "nbformat": 3,
 "nbformat_minor": 0,
 "worksheets": [
  {
   "cells": [
    {
     "cell_type": "markdown",
     "metadata": {},
     "source": [
      "#Assignment 5 for GA20NYC\n",
      "###Norbert Markowicz"
     ]
    },
    {
     "cell_type": "markdown",
     "metadata": {},
     "source": [
      "####Part I"
     ]
    },
    {
     "cell_type": "code",
     "collapsed": false,
     "input": [
      "%matplotlib inline\n",
      "\n",
      "import matplotlib.pyplot as plt\n",
      "import numpy as np\n",
      "import pandas as pd\n",
      "\n",
      "#from sklearn.linear_model import LinearRegression\n",
      "#Using Statsmodels\n",
      "import statsmodels.formula.api as smf"
     ],
     "language": "python",
     "metadata": {},
     "outputs": [],
     "prompt_number": 32
    },
    {
     "cell_type": "code",
     "collapsed": false,
     "input": [
      "#Read in the bikeshare data to a pandas dataframe just as you did for the previous assignment.\n",
      "df = pd.read_csv('/Users/norb/Dropbox/Data_Sets/bikeshare.csv', delimiter=',', header=0).drop('instant', axis=1)\n",
      "print \"Number of rows: %i\" % df.shape[0]\n",
      "df.head(5)  # print the first 5 rows"
     ],
     "language": "python",
     "metadata": {},
     "outputs": [
      {
       "output_type": "stream",
       "stream": "stdout",
       "text": [
        "Number of rows: 17379\n"
       ]
      },
      {
       "html": [
        "<div style=\"max-height:1000px;max-width:1500px;overflow:auto;\">\n",
        "<table border=\"1\" class=\"dataframe\">\n",
        "  <thead>\n",
        "    <tr style=\"text-align: right;\">\n",
        "      <th></th>\n",
        "      <th>dteday</th>\n",
        "      <th>season</th>\n",
        "      <th>yr</th>\n",
        "      <th>mnth</th>\n",
        "      <th>hr</th>\n",
        "      <th>holiday</th>\n",
        "      <th>weekday</th>\n",
        "      <th>workingday</th>\n",
        "      <th>weathersit</th>\n",
        "      <th>temp</th>\n",
        "      <th>atemp</th>\n",
        "      <th>hum</th>\n",
        "      <th>windspeed</th>\n",
        "      <th>casual</th>\n",
        "      <th>registered</th>\n",
        "      <th>cnt</th>\n",
        "    </tr>\n",
        "  </thead>\n",
        "  <tbody>\n",
        "    <tr>\n",
        "      <th>0</th>\n",
        "      <td> 2011-01-01</td>\n",
        "      <td> 1</td>\n",
        "      <td> 0</td>\n",
        "      <td> 1</td>\n",
        "      <td> 0</td>\n",
        "      <td> 0</td>\n",
        "      <td> 6</td>\n",
        "      <td> 0</td>\n",
        "      <td> 1</td>\n",
        "      <td> 0.24</td>\n",
        "      <td> 0.2879</td>\n",
        "      <td> 0.81</td>\n",
        "      <td> 0</td>\n",
        "      <td> 3</td>\n",
        "      <td> 13</td>\n",
        "      <td> 16</td>\n",
        "    </tr>\n",
        "    <tr>\n",
        "      <th>1</th>\n",
        "      <td> 2011-01-01</td>\n",
        "      <td> 1</td>\n",
        "      <td> 0</td>\n",
        "      <td> 1</td>\n",
        "      <td> 1</td>\n",
        "      <td> 0</td>\n",
        "      <td> 6</td>\n",
        "      <td> 0</td>\n",
        "      <td> 1</td>\n",
        "      <td> 0.22</td>\n",
        "      <td> 0.2727</td>\n",
        "      <td> 0.80</td>\n",
        "      <td> 0</td>\n",
        "      <td> 8</td>\n",
        "      <td> 32</td>\n",
        "      <td> 40</td>\n",
        "    </tr>\n",
        "    <tr>\n",
        "      <th>2</th>\n",
        "      <td> 2011-01-01</td>\n",
        "      <td> 1</td>\n",
        "      <td> 0</td>\n",
        "      <td> 1</td>\n",
        "      <td> 2</td>\n",
        "      <td> 0</td>\n",
        "      <td> 6</td>\n",
        "      <td> 0</td>\n",
        "      <td> 1</td>\n",
        "      <td> 0.22</td>\n",
        "      <td> 0.2727</td>\n",
        "      <td> 0.80</td>\n",
        "      <td> 0</td>\n",
        "      <td> 5</td>\n",
        "      <td> 27</td>\n",
        "      <td> 32</td>\n",
        "    </tr>\n",
        "    <tr>\n",
        "      <th>3</th>\n",
        "      <td> 2011-01-01</td>\n",
        "      <td> 1</td>\n",
        "      <td> 0</td>\n",
        "      <td> 1</td>\n",
        "      <td> 3</td>\n",
        "      <td> 0</td>\n",
        "      <td> 6</td>\n",
        "      <td> 0</td>\n",
        "      <td> 1</td>\n",
        "      <td> 0.24</td>\n",
        "      <td> 0.2879</td>\n",
        "      <td> 0.75</td>\n",
        "      <td> 0</td>\n",
        "      <td> 3</td>\n",
        "      <td> 10</td>\n",
        "      <td> 13</td>\n",
        "    </tr>\n",
        "    <tr>\n",
        "      <th>4</th>\n",
        "      <td> 2011-01-01</td>\n",
        "      <td> 1</td>\n",
        "      <td> 0</td>\n",
        "      <td> 1</td>\n",
        "      <td> 4</td>\n",
        "      <td> 0</td>\n",
        "      <td> 6</td>\n",
        "      <td> 0</td>\n",
        "      <td> 1</td>\n",
        "      <td> 0.24</td>\n",
        "      <td> 0.2879</td>\n",
        "      <td> 0.75</td>\n",
        "      <td> 0</td>\n",
        "      <td> 0</td>\n",
        "      <td>  1</td>\n",
        "      <td>  1</td>\n",
        "    </tr>\n",
        "  </tbody>\n",
        "</table>\n",
        "</div>"
       ],
       "metadata": {},
       "output_type": "pyout",
       "prompt_number": 3,
       "text": [
        "       dteday  season  yr  mnth  hr  holiday  weekday  workingday  weathersit  \\\n",
        "0  2011-01-01       1   0     1   0        0        6           0           1   \n",
        "1  2011-01-01       1   0     1   1        0        6           0           1   \n",
        "2  2011-01-01       1   0     1   2        0        6           0           1   \n",
        "3  2011-01-01       1   0     1   3        0        6           0           1   \n",
        "4  2011-01-01       1   0     1   4        0        6           0           1   \n",
        "\n",
        "   temp   atemp   hum  windspeed  casual  registered  cnt  \n",
        "0  0.24  0.2879  0.81          0       3          13   16  \n",
        "1  0.22  0.2727  0.80          0       8          32   40  \n",
        "2  0.22  0.2727  0.80          0       5          27   32  \n",
        "3  0.24  0.2879  0.75          0       3          10   13  \n",
        "4  0.24  0.2879  0.75          0       0           1    1  "
       ]
      }
     ],
     "prompt_number": 3
    },
    {
     "cell_type": "code",
     "collapsed": false,
     "input": [
      "#Split the dataframe horizontally into two separate dataframes each having N/2 rows. \n",
      "#Call the dataframe with first N/2 rows bikeshare_train, and the latter half bikeshare_test\n",
      "bikeshare_train = df.head(df.shape[0]/2)"
     ],
     "language": "python",
     "metadata": {},
     "outputs": [],
     "prompt_number": 6
    },
    {
     "cell_type": "code",
     "collapsed": false,
     "input": [
      "bikeshare_test = df.tail(df.shape[0]/2 + 1)"
     ],
     "language": "python",
     "metadata": {},
     "outputs": [],
     "prompt_number": 13
    },
    {
     "cell_type": "code",
     "collapsed": false,
     "input": [
      "#Sanity check on the record count\n",
      "bikeshare_test.shape[0] + bikeshare_train.shape[0]"
     ],
     "language": "python",
     "metadata": {},
     "outputs": [
      {
       "metadata": {},
       "output_type": "pyout",
       "prompt_number": 17,
       "text": [
        "17379"
       ]
      }
     ],
     "prompt_number": 17
    },
    {
     "cell_type": "code",
     "collapsed": false,
     "input": [
      "#Describe the error (in terms of R^2) between the model you just calculated and the bikeshare_test. \n",
      "#Is this higher or lower than the R^2 of the previous step? What's the reason for this difference?\n",
      "\n",
      "# create X and y on the test slice\n",
      "feature_cols = ['temp', 'atemp', 'hum', 'workingday', 'hr', 'weathersit']\n",
      "X2 = bikeshare_test[feature_cols] #feature vector\n",
      "y2 = bikeshare_test.cnt #target variable\n",
      "\n",
      "lm2 = LinearRegression()\n",
      "lm2.fit(X2, y2)\n",
      "\n",
      "# print intercept and coefficients\n",
      "print lm2.intercept_\n",
      "print lm2.coef_\n",
      "\n",
      "# pair the feature names with the coefficients\n",
      "print zip(feature_cols, lm2.coef_)\n",
      "\n",
      "# calculate the R-squared\n",
      "lm2.score(X2, y2)\n"
     ],
     "language": "python",
     "metadata": {},
     "outputs": [
      {
       "output_type": "stream",
       "stream": "stdout",
       "text": [
        "79.1422172933\n",
        "[ 113.68498769  286.80558472 -245.03837141   11.31280745    9.25156394\n",
        "   -3.09310142]\n",
        "[('temp', 113.68498768662366), ('atemp', 286.80558472041889), ('hum', -245.03837140920962), ('workingday', 11.312807453470112), ('hr', 9.251563942876917), ('weathersit', -3.0931014211381793)]\n"
       ]
      },
      {
       "metadata": {},
       "output_type": "pyout",
       "prompt_number": 31,
       "text": [
        "0.33924780765944773"
       ]
      }
     ],
     "prompt_number": 31
    },
    {
     "cell_type": "code",
     "collapsed": false,
     "input": [
      "# create a fitted model in one line\n",
      "lm = smf.ols(formula='cnt ~ temp + atemp + hum + workingday + hr + weathersit', data=bikeshare_train).fit()\n",
      "\n",
      "# print the coefficients\n",
      "print \"Coefficients:\\n\",lm.params,'\\n'\n",
      "\n",
      "# print the R^2\n",
      "print \"R^2 for Training Set is: \",lm.rsquared"
     ],
     "language": "python",
     "metadata": {},
     "outputs": [
      {
       "output_type": "stream",
       "stream": "stdout",
       "text": [
        "Coefficients:\n",
        "Intercept      24.428790\n",
        "temp          137.351792\n",
        "atemp         153.756465\n",
        "hum          -127.719737\n",
        "workingday     -1.073853\n",
        "hr              6.031383\n",
        "weathersit     -4.797226\n",
        "dtype: float64 \n",
        "\n",
        "R^2 for Training Set is:  0.36711033766\n"
       ]
      }
     ],
     "prompt_number": 44
    },
    {
     "cell_type": "code",
     "collapsed": false,
     "input": [
      "# create a fitted model in one line\n",
      "lm = smf.ols(formula='cnt ~ temp + atemp + hum + workingday + hr + weathersit', data=bikeshare_test).fit()\n",
      "\n",
      "# print the coefficients\n",
      "print \"Coefficients:\\n\",lm.params,'\\n'\n",
      "\n",
      "# print the R^2\n",
      "print \"R^2 for Test Set is: \",lm.rsquared\n",
      "\n",
      "print(lm.summary())"
     ],
     "language": "python",
     "metadata": {},
     "outputs": [
      {
       "output_type": "stream",
       "stream": "stdout",
       "text": [
        "Coefficients:\n",
        "Intercept      79.142217\n",
        "temp          113.684988\n",
        "atemp         286.805585\n",
        "hum          -245.038371\n",
        "workingday     11.312807\n",
        "hr              9.251564\n",
        "weathersit     -3.093101\n",
        "dtype: float64 \n",
        "\n",
        "R^2 for Test Set is:  0.339247807659\n",
        "                            OLS Regression Results                            \n",
        "==============================================================================\n",
        "Dep. Variable:                    cnt   R-squared:                       0.339\n",
        "Model:                            OLS   Adj. R-squared:                  0.339\n",
        "Method:                 Least Squares   F-statistic:                     743.0\n",
        "Date:                Fri, 03 Apr 2015   Prob (F-statistic):               0.00\n",
        "Time:                        17:52:43   Log-Likelihood:                -56960.\n",
        "No. Observations:                8690   AIC:                         1.139e+05\n",
        "Df Residuals:                    8683   BIC:                         1.140e+05\n",
        "Df Model:                           6                                         \n",
        "==============================================================================\n",
        "                 coef    std err          t      P>|t|      [95.0% Conf. Int.]\n",
        "------------------------------------------------------------------------------\n",
        "Intercept     79.1422     10.005      7.910      0.000        59.530    98.754\n",
        "temp         113.6850     53.231      2.136      0.033         9.340   218.030\n",
        "atemp        286.8056     59.677      4.806      0.000       169.825   403.786\n",
        "hum         -245.0384     11.452    -21.398      0.000      -267.486  -222.590\n",
        "workingday    11.3128      3.934      2.876      0.004         3.601    19.024\n",
        "hr             9.2516      0.282     32.803      0.000         8.699     9.804\n",
        "weathersit    -3.0931      3.285     -0.942      0.346        -9.532     3.345\n",
        "==============================================================================\n",
        "Omnibus:                     1462.254   Durbin-Watson:                   0.556\n",
        "Prob(Omnibus):                  0.000   Jarque-Bera (JB):             2396.319\n",
        "Skew:                           1.138   Prob(JB):                         0.00\n",
        "Kurtosis:                       4.199   Cond. No.                         592.\n",
        "==============================================================================\n"
       ]
      }
     ],
     "prompt_number": 47
    },
    {
     "cell_type": "code",
     "collapsed": false,
     "input": [
      "bikeshare_testpredicted_counts = lm.predict(bikeshare_test)\n",
      "\n",
      "bikeshare_testpredicted = bikeshare_test\n",
      "bikeshare_testpredicted.cnt = bikeshare_testpredicted_counts"
     ],
     "language": "python",
     "metadata": {},
     "outputs": [],
     "prompt_number": 58
    },
    {
     "cell_type": "code",
     "collapsed": false,
     "input": [
      "\n",
      "lm2 = smf.ols(formula='cnt ~ temp + atemp + hum + workingday + hr + weathersit', data=bikeshare_testpredicted).fit()\n",
      "\n",
      "# print the coefficients\n",
      "print \"Coefficients:\\n\",lm2.params,'\\n'\n",
      "\n",
      "# print the R^2\n",
      "print \"R^2 for Predicted Values for Test Feature Set is: \",lm2.rsquared\n",
      "\n",
      "print(lm2.summary())"
     ],
     "language": "python",
     "metadata": {},
     "outputs": [
      {
       "output_type": "stream",
       "stream": "stdout",
       "text": [
        "Coefficients:\n",
        "Intercept      79.142217\n",
        "temp          113.684988\n",
        "atemp         286.805585\n",
        "hum          -245.038371\n",
        "workingday     11.312807\n",
        "hr              9.251564\n",
        "weathersit     -3.093101\n",
        "dtype: float64 \n",
        "\n",
        "R^2 for Predicted Values for Test Feature Set is:  1.0\n",
        "                            OLS Regression Results                            \n",
        "==============================================================================\n",
        "Dep. Variable:                    cnt   R-squared:                       1.000\n",
        "Model:                            OLS   Adj. R-squared:                  1.000\n",
        "Method:                 Least Squares   F-statistic:                 4.020e+30\n",
        "Date:                Fri, 03 Apr 2015   Prob (F-statistic):               0.00\n",
        "Time:                        19:22:29   Log-Likelihood:             2.2050e+05\n",
        "No. Observations:                8690   AIC:                        -4.410e+05\n",
        "Df Residuals:                    8683   BIC:                        -4.409e+05\n",
        "Df Model:                           6                                         \n",
        "==============================================================================\n",
        "                 coef    std err          t      P>|t|      [95.0% Conf. Int.]\n",
        "------------------------------------------------------------------------------\n",
        "Intercept     79.1422   1.36e-13   5.82e+14      0.000        79.142    79.142\n",
        "temp         113.6850   7.24e-13   1.57e+14      0.000       113.685   113.685\n",
        "atemp        286.8056   8.11e-13   3.53e+14      0.000       286.806   286.806\n",
        "hum         -245.0384   1.56e-13  -1.57e+15      0.000      -245.038  -245.038\n",
        "workingday    11.3128   5.35e-14   2.12e+14      0.000        11.313    11.313\n",
        "hr             9.2516   3.83e-15   2.41e+15      0.000         9.252     9.252\n",
        "weathersit    -3.0931   4.47e-14  -6.93e+13      0.000        -3.093    -3.093\n",
        "==============================================================================\n",
        "Omnibus:                    90808.781   Durbin-Watson:                   0.165\n",
        "Prob(Omnibus):                  0.000   Jarque-Bera (JB):              654.494\n",
        "Skew:                          -0.111   Prob(JB):                    7.56e-143\n",
        "Kurtosis:                       1.674   Cond. No.                         592.\n",
        "==============================================================================\n"
       ]
      }
     ],
     "prompt_number": 60
    },
    {
     "cell_type": "code",
     "collapsed": false,
     "input": [
      "#Create a binary variable for rush hour defined by 6-9am & 4-6pm."
     ],
     "language": "python",
     "metadata": {},
     "outputs": []
    }
   ],
   "metadata": {}
  }
 ]
}