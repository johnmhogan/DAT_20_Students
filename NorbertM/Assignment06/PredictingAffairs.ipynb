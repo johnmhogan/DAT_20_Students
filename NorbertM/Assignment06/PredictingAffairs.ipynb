{
 "metadata": {
  "name": "",
  "signature": "sha256:6f8ff2b4863d61d7fac819e9f55cbee5a75c0dc7b39195ca867a3215e76d10ba"
 },
 "nbformat": 3,
 "nbformat_minor": 0,
 "worksheets": [
  {
   "cells": [
    {
     "cell_type": "code",
     "collapsed": false,
     "input": [
      "#Norbert Markowicz Assignment 6"
     ],
     "language": "python",
     "metadata": {},
     "outputs": []
    },
    {
     "cell_type": "markdown",
     "metadata": {},
     "source": [
      "# Assignment 6: Predicting affairs in marriages\n",
      "\n",
      "*Due: 4/16*\n",
      "\n",
      "**Work through the following code and complete the instructions are at the end**\n",
      "\n",
      "## Step 1: Load and explore the data"
     ]
    },
    {
     "cell_type": "code",
     "collapsed": false,
     "input": [
      "import numpy as np\n",
      "import pandas as pd\n",
      "import statsmodels.api as sm\n",
      "import matplotlib.pyplot as plt\n",
      "\n",
      "from sklearn.linear_model import LogisticRegression\n",
      "from sklearn.cross_validation import train_test_split\n",
      "\n",
      "%matplotlib inline"
     ],
     "language": "python",
     "metadata": {},
     "outputs": [],
     "prompt_number": 2
    },
    {
     "cell_type": "code",
     "collapsed": false,
     "input": [
      "# Load the affairs dataset from statsmodels. You can find details on the dataset here:\n",
      "# http://statsmodels.sourceforge.net/0.5.0/datasets/generated/fair.html\n",
      "dta = sm.datasets.fair.load_pandas().data\n",
      "\n",
      "# Let's \"affair\" column: 1 represents a marriage with an affairs, 0 represents no affair\n",
      "dta['affair'] = (dta.affairs > 0).astype(int)\n",
      "\n",
      "# Always preview the data to make sure the structure of the data frame is as you expect..\n",
      "dta.head()"
     ],
     "language": "python",
     "metadata": {},
     "outputs": [
      {
       "html": [
        "<div style=\"max-height:1000px;max-width:1500px;overflow:auto;\">\n",
        "<table border=\"1\" class=\"dataframe\">\n",
        "  <thead>\n",
        "    <tr style=\"text-align: right;\">\n",
        "      <th></th>\n",
        "      <th>rate_marriage</th>\n",
        "      <th>age</th>\n",
        "      <th>yrs_married</th>\n",
        "      <th>children</th>\n",
        "      <th>religious</th>\n",
        "      <th>educ</th>\n",
        "      <th>occupation</th>\n",
        "      <th>occupation_husb</th>\n",
        "      <th>affairs</th>\n",
        "      <th>affair</th>\n",
        "    </tr>\n",
        "  </thead>\n",
        "  <tbody>\n",
        "    <tr>\n",
        "      <th>0</th>\n",
        "      <td> 3</td>\n",
        "      <td> 32</td>\n",
        "      <td>  9.0</td>\n",
        "      <td> 3</td>\n",
        "      <td> 3</td>\n",
        "      <td> 17</td>\n",
        "      <td> 2</td>\n",
        "      <td> 5</td>\n",
        "      <td> 0.111111</td>\n",
        "      <td> 1</td>\n",
        "    </tr>\n",
        "    <tr>\n",
        "      <th>1</th>\n",
        "      <td> 3</td>\n",
        "      <td> 27</td>\n",
        "      <td> 13.0</td>\n",
        "      <td> 3</td>\n",
        "      <td> 1</td>\n",
        "      <td> 14</td>\n",
        "      <td> 3</td>\n",
        "      <td> 4</td>\n",
        "      <td> 3.230769</td>\n",
        "      <td> 1</td>\n",
        "    </tr>\n",
        "    <tr>\n",
        "      <th>2</th>\n",
        "      <td> 4</td>\n",
        "      <td> 22</td>\n",
        "      <td>  2.5</td>\n",
        "      <td> 0</td>\n",
        "      <td> 1</td>\n",
        "      <td> 16</td>\n",
        "      <td> 3</td>\n",
        "      <td> 5</td>\n",
        "      <td> 1.400000</td>\n",
        "      <td> 1</td>\n",
        "    </tr>\n",
        "    <tr>\n",
        "      <th>3</th>\n",
        "      <td> 4</td>\n",
        "      <td> 37</td>\n",
        "      <td> 16.5</td>\n",
        "      <td> 4</td>\n",
        "      <td> 3</td>\n",
        "      <td> 16</td>\n",
        "      <td> 5</td>\n",
        "      <td> 5</td>\n",
        "      <td> 0.727273</td>\n",
        "      <td> 1</td>\n",
        "    </tr>\n",
        "    <tr>\n",
        "      <th>4</th>\n",
        "      <td> 5</td>\n",
        "      <td> 27</td>\n",
        "      <td>  9.0</td>\n",
        "      <td> 1</td>\n",
        "      <td> 1</td>\n",
        "      <td> 14</td>\n",
        "      <td> 3</td>\n",
        "      <td> 4</td>\n",
        "      <td> 4.666666</td>\n",
        "      <td> 1</td>\n",
        "    </tr>\n",
        "  </tbody>\n",
        "</table>\n",
        "</div>"
       ],
       "metadata": {},
       "output_type": "pyout",
       "prompt_number": 3,
       "text": [
        "   rate_marriage  age  yrs_married  children  religious  educ  occupation  \\\n",
        "0              3   32          9.0         3          3    17           2   \n",
        "1              3   27         13.0         3          1    14           3   \n",
        "2              4   22          2.5         0          1    16           3   \n",
        "3              4   37         16.5         4          3    16           5   \n",
        "4              5   27          9.0         1          1    14           3   \n",
        "\n",
        "   occupation_husb   affairs  affair  \n",
        "0                5  0.111111       1  \n",
        "1                4  3.230769       1  \n",
        "2                5  1.400000       1  \n",
        "3                5  0.727273       1  \n",
        "4                4  4.666666       1  "
       ]
      }
     ],
     "prompt_number": 3
    },
    {
     "cell_type": "code",
     "collapsed": false,
     "input": [
      "pd.scatter_matrix(dta,figsize=(15,15))"
     ],
     "language": "python",
     "metadata": {},
     "outputs": [
      {
       "metadata": {},
       "output_type": "pyout",
       "prompt_number": 4,
       "text": [
        "array([[<matplotlib.axes._subplots.AxesSubplot object at 0x10a1e7a50>,\n",
        "        <matplotlib.axes._subplots.AxesSubplot object at 0x10a4294d0>,\n",
        "        <matplotlib.axes._subplots.AxesSubplot object at 0x10a4a4990>,\n",
        "        <matplotlib.axes._subplots.AxesSubplot object at 0x10a2dd5d0>,\n",
        "        <matplotlib.axes._subplots.AxesSubplot object at 0x10a338d90>,\n",
        "        <matplotlib.axes._subplots.AxesSubplot object at 0x10a7ceed0>,\n",
        "        <matplotlib.axes._subplots.AxesSubplot object at 0x10a857990>,\n",
        "        <matplotlib.axes._subplots.AxesSubplot object at 0x10aa06bd0>,\n",
        "        <matplotlib.axes._subplots.AxesSubplot object at 0x10a887e10>,\n",
        "        <matplotlib.axes._subplots.AxesSubplot object at 0x10aafb290>],\n",
        "       [<matplotlib.axes._subplots.AxesSubplot object at 0x10ac7f210>,\n",
        "        <matplotlib.axes._subplots.AxesSubplot object at 0x10ace3710>,\n",
        "        <matplotlib.axes._subplots.AxesSubplot object at 0x10ae68450>,\n",
        "        <matplotlib.axes._subplots.AxesSubplot object at 0x10aeade90>,\n",
        "        <matplotlib.axes._subplots.AxesSubplot object at 0x10af45ed0>,\n",
        "        <matplotlib.axes._subplots.AxesSubplot object at 0x10afc8c10>,\n",
        "        <matplotlib.axes._subplots.AxesSubplot object at 0x10a3bb490>,\n",
        "        <matplotlib.axes._subplots.AxesSubplot object at 0x10b0750d0>,\n",
        "        <matplotlib.axes._subplots.AxesSubplot object at 0x10b0c0c10>,\n",
        "        <matplotlib.axes._subplots.AxesSubplot object at 0x10b14fa10>],\n",
        "       [<matplotlib.axes._subplots.AxesSubplot object at 0x10b1d3750>,\n",
        "        <matplotlib.axes._subplots.AxesSubplot object at 0x10b243550>,\n",
        "        <matplotlib.axes._subplots.AxesSubplot object at 0x10b2c9190>,\n",
        "        <matplotlib.axes._subplots.AxesSubplot object at 0x10b322fd0>,\n",
        "        <matplotlib.axes._subplots.AxesSubplot object at 0x10b3a6d10>,\n",
        "        <matplotlib.axes._subplots.AxesSubplot object at 0x10b347290>,\n",
        "        <matplotlib.axes._subplots.AxesSubplot object at 0x10b49b910>,\n",
        "        <matplotlib.axes._subplots.AxesSubplot object at 0x10b620550>,\n",
        "        <matplotlib.axes._subplots.AxesSubplot object at 0x10b682b90>,\n",
        "        <matplotlib.axes._subplots.AxesSubplot object at 0x10b7078d0>],\n",
        "       [<matplotlib.axes._subplots.AxesSubplot object at 0x10b76d510>,\n",
        "        <matplotlib.axes._subplots.AxesSubplot object at 0x10b7f13d0>,\n",
        "        <matplotlib.axes._subplots.AxesSubplot object at 0x10c06afd0>,\n",
        "        <matplotlib.axes._subplots.AxesSubplot object at 0x10c0d9e10>,\n",
        "        <matplotlib.axes._subplots.AxesSubplot object at 0x10c25ca50>,\n",
        "        <matplotlib.axes._subplots.AxesSubplot object at 0x10c2c38d0>,\n",
        "        <matplotlib.axes._subplots.AxesSubplot object at 0x10c346610>,\n",
        "        <matplotlib.axes._subplots.AxesSubplot object at 0x10c2e74d0>,\n",
        "        <matplotlib.axes._subplots.AxesSubplot object at 0x10c53c210>,\n",
        "        <matplotlib.axes._subplots.AxesSubplot object at 0x10c5b2e10>],\n",
        "       [<matplotlib.axes._subplots.AxesSubplot object at 0x10c623490>,\n",
        "        <matplotlib.axes._subplots.AxesSubplot object at 0x10c6a81d0>,\n",
        "        <matplotlib.axes._subplots.AxesSubplot object at 0x10b2f7110>,\n",
        "        <matplotlib.axes._subplots.AxesSubplot object at 0x10c871910>,\n",
        "        <matplotlib.axes._subplots.AxesSubplot object at 0x10c8f5550>,\n",
        "        <matplotlib.axes._subplots.AxesSubplot object at 0x10c95ab90>,\n",
        "        <matplotlib.axes._subplots.AxesSubplot object at 0x10c9de8d0>,\n",
        "        <matplotlib.axes._subplots.AxesSubplot object at 0x10ca46510>,\n",
        "        <matplotlib.axes._subplots.AxesSubplot object at 0x10cac83d0>,\n",
        "        <matplotlib.axes._subplots.AxesSubplot object at 0x10cc3efd0>],\n",
        "       [<matplotlib.axes._subplots.AxesSubplot object at 0x10ccafe10>,\n",
        "        <matplotlib.axes._subplots.AxesSubplot object at 0x10ce34a50>,\n",
        "        <matplotlib.axes._subplots.AxesSubplot object at 0x10ce9a8d0>,\n",
        "        <matplotlib.axes._subplots.AxesSubplot object at 0x10d01d610>,\n",
        "        <matplotlib.axes._subplots.AxesSubplot object at 0x10cebd4d0>,\n",
        "        <matplotlib.axes._subplots.AxesSubplot object at 0x10d111210>,\n",
        "        <matplotlib.axes._subplots.AxesSubplot object at 0x10d189e10>,\n",
        "        <matplotlib.axes._subplots.AxesSubplot object at 0x10d1fa490>,\n",
        "        <matplotlib.axes._subplots.AxesSubplot object at 0x10d27e1d0>,\n",
        "        <matplotlib.axes._subplots.AxesSubplot object at 0x10d2ccdd0>],\n",
        "       [<matplotlib.axes._subplots.AxesSubplot object at 0x10d35cc90>,\n",
        "        <matplotlib.axes._subplots.AxesSubplot object at 0x10d3df8d0>,\n",
        "        <matplotlib.axes._subplots.AxesSubplot object at 0x10d44f710>,\n",
        "        <matplotlib.axes._subplots.AxesSubplot object at 0x10d4d5350>,\n",
        "        <matplotlib.axes._subplots.AxesSubplot object at 0x10d63b1d0>,\n",
        "        <matplotlib.axes._subplots.AxesSubplot object at 0x10d6b2ed0>,\n",
        "        <matplotlib.axes._subplots.AxesSubplot object at 0x10d653450>,\n",
        "        <matplotlib.axes._subplots.AxesSubplot object at 0x10d7a6ad0>,\n",
        "        <matplotlib.axes._subplots.AxesSubplot object at 0x10d92b710>,\n",
        "        <matplotlib.axes._subplots.AxesSubplot object at 0x10d9798d0>],\n",
        "       [<matplotlib.axes._subplots.AxesSubplot object at 0x10da01190>,\n",
        "        <matplotlib.axes._subplots.AxesSubplot object at 0x10da5af90>,\n",
        "        <matplotlib.axes._subplots.AxesSubplot object at 0x10daf1c90>,\n",
        "        <matplotlib.axes._subplots.AxesSubplot object at 0x10db759d0>,\n",
        "        <matplotlib.axes._subplots.AxesSubplot object at 0x10dbdab10>,\n",
        "        <matplotlib.axes._subplots.AxesSubplot object at 0x10dc5fb90>,\n",
        "        <matplotlib.axes._subplots.AxesSubplot object at 0x10dcc5490>,\n",
        "        <matplotlib.axes._subplots.AxesSubplot object at 0x10dd496d0>,\n",
        "        <matplotlib.axes._subplots.AxesSubplot object at 0x10dcf3910>,\n",
        "        <matplotlib.axes._subplots.AxesSubplot object at 0x10df2fc90>],\n",
        "       [<matplotlib.axes._subplots.AxesSubplot object at 0x10dfb3c10>,\n",
        "        <matplotlib.axes._subplots.AxesSubplot object at 0x10e127210>,\n",
        "        <matplotlib.axes._subplots.AxesSubplot object at 0x10e19cf10>,\n",
        "        <matplotlib.axes._subplots.AxesSubplot object at 0x10e1f8990>,\n",
        "        <matplotlib.axes._subplots.AxesSubplot object at 0x10e287850>,\n",
        "        <matplotlib.axes._subplots.AxesSubplot object at 0x10e30c590>,\n",
        "        <matplotlib.axes._subplots.AxesSubplot object at 0x10e37b2d0>,\n",
        "        <matplotlib.axes._subplots.AxesSubplot object at 0x10e3f6ed0>,\n",
        "        <matplotlib.axes._subplots.AxesSubplot object at 0x10e45ad50>,\n",
        "        <matplotlib.axes._subplots.AxesSubplot object at 0x10e4dea90>],\n",
        "       [<matplotlib.axes._subplots.AxesSubplot object at 0x10e47f710>,\n",
        "        <matplotlib.axes._subplots.AxesSubplot object at 0x10e6d2690>,\n",
        "        <matplotlib.axes._subplots.AxesSubplot object at 0x10e9572d0>,\n",
        "        <matplotlib.axes._subplots.AxesSubplot object at 0x10e9ba910>,\n",
        "        <matplotlib.axes._subplots.AxesSubplot object at 0x10ea3e650>,\n",
        "        <matplotlib.axes._subplots.AxesSubplot object at 0x10dc78490>,\n",
        "        <matplotlib.axes._subplots.AxesSubplot object at 0x10ec08290>,\n",
        "        <matplotlib.axes._subplots.AxesSubplot object at 0x10ec7fe90>,\n",
        "        <matplotlib.axes._subplots.AxesSubplot object at 0x10ecf1950>,\n",
        "        <matplotlib.axes._subplots.AxesSubplot object at 0x10ed77690>]], dtype=object)"
       ]
      },
      {
       "metadata": {},
       "output_type": "display_data",
       "png": "[encoded data removed]",
       "text": [
        "<matplotlib.figure.Figure at 0x104968c10>"
       ]
      }
     ],
     "prompt_number": 4
    },
    {
     "cell_type": "code",
     "collapsed": false,
     "input": [
      "# We have a lot of discrete and categorical variables, which makes plotting less reliable. Try \n",
      "#  displaying a `scatter_matrix` to see for yourself.\n",
      "\n",
      "#  Let's take a look at the summary statistics:\n",
      "\n",
      "dta.describe()"
     ],
     "language": "python",
     "metadata": {},
     "outputs": [
      {
       "html": [
        "<div style=\"max-height:1000px;max-width:1500px;overflow:auto;\">\n",
        "<table border=\"1\" class=\"dataframe\">\n",
        "  <thead>\n",
        "    <tr style=\"text-align: right;\">\n",
        "      <th></th>\n",
        "      <th>rate_marriage</th>\n",
        "      <th>age</th>\n",
        "      <th>yrs_married</th>\n",
        "      <th>children</th>\n",
        "      <th>religious</th>\n",
        "      <th>educ</th>\n",
        "      <th>occupation</th>\n",
        "      <th>occupation_husb</th>\n",
        "      <th>affairs</th>\n",
        "      <th>affair</th>\n",
        "    </tr>\n",
        "  </thead>\n",
        "  <tbody>\n",
        "    <tr>\n",
        "      <th>count</th>\n",
        "      <td> 6366.000000</td>\n",
        "      <td> 6366.000000</td>\n",
        "      <td> 6366.000000</td>\n",
        "      <td> 6366.000000</td>\n",
        "      <td> 6366.000000</td>\n",
        "      <td> 6366.000000</td>\n",
        "      <td> 6366.000000</td>\n",
        "      <td> 6366.000000</td>\n",
        "      <td> 6366.000000</td>\n",
        "      <td> 6366.000000</td>\n",
        "    </tr>\n",
        "    <tr>\n",
        "      <th>mean</th>\n",
        "      <td>    4.109645</td>\n",
        "      <td>   29.082862</td>\n",
        "      <td>    9.009425</td>\n",
        "      <td>    1.396874</td>\n",
        "      <td>    2.426170</td>\n",
        "      <td>   14.209865</td>\n",
        "      <td>    3.424128</td>\n",
        "      <td>    3.850141</td>\n",
        "      <td>    0.705374</td>\n",
        "      <td>    0.322495</td>\n",
        "    </tr>\n",
        "    <tr>\n",
        "      <th>std</th>\n",
        "      <td>    0.961430</td>\n",
        "      <td>    6.847882</td>\n",
        "      <td>    7.280120</td>\n",
        "      <td>    1.433471</td>\n",
        "      <td>    0.878369</td>\n",
        "      <td>    2.178003</td>\n",
        "      <td>    0.942399</td>\n",
        "      <td>    1.346435</td>\n",
        "      <td>    2.203374</td>\n",
        "      <td>    0.467468</td>\n",
        "    </tr>\n",
        "    <tr>\n",
        "      <th>min</th>\n",
        "      <td>    1.000000</td>\n",
        "      <td>   17.500000</td>\n",
        "      <td>    0.500000</td>\n",
        "      <td>    0.000000</td>\n",
        "      <td>    1.000000</td>\n",
        "      <td>    9.000000</td>\n",
        "      <td>    1.000000</td>\n",
        "      <td>    1.000000</td>\n",
        "      <td>    0.000000</td>\n",
        "      <td>    0.000000</td>\n",
        "    </tr>\n",
        "    <tr>\n",
        "      <th>25%</th>\n",
        "      <td>    4.000000</td>\n",
        "      <td>   22.000000</td>\n",
        "      <td>    2.500000</td>\n",
        "      <td>    0.000000</td>\n",
        "      <td>    2.000000</td>\n",
        "      <td>   12.000000</td>\n",
        "      <td>    3.000000</td>\n",
        "      <td>    3.000000</td>\n",
        "      <td>    0.000000</td>\n",
        "      <td>    0.000000</td>\n",
        "    </tr>\n",
        "    <tr>\n",
        "      <th>50%</th>\n",
        "      <td>    4.000000</td>\n",
        "      <td>   27.000000</td>\n",
        "      <td>    6.000000</td>\n",
        "      <td>    1.000000</td>\n",
        "      <td>    2.000000</td>\n",
        "      <td>   14.000000</td>\n",
        "      <td>    3.000000</td>\n",
        "      <td>    4.000000</td>\n",
        "      <td>    0.000000</td>\n",
        "      <td>    0.000000</td>\n",
        "    </tr>\n",
        "    <tr>\n",
        "      <th>75%</th>\n",
        "      <td>    5.000000</td>\n",
        "      <td>   32.000000</td>\n",
        "      <td>   16.500000</td>\n",
        "      <td>    2.000000</td>\n",
        "      <td>    3.000000</td>\n",
        "      <td>   16.000000</td>\n",
        "      <td>    4.000000</td>\n",
        "      <td>    5.000000</td>\n",
        "      <td>    0.484848</td>\n",
        "      <td>    1.000000</td>\n",
        "    </tr>\n",
        "    <tr>\n",
        "      <th>max</th>\n",
        "      <td>    5.000000</td>\n",
        "      <td>   42.000000</td>\n",
        "      <td>   23.000000</td>\n",
        "      <td>    5.500000</td>\n",
        "      <td>    4.000000</td>\n",
        "      <td>   20.000000</td>\n",
        "      <td>    6.000000</td>\n",
        "      <td>    6.000000</td>\n",
        "      <td>   57.599991</td>\n",
        "      <td>    1.000000</td>\n",
        "    </tr>\n",
        "  </tbody>\n",
        "</table>\n",
        "</div>"
       ],
       "metadata": {},
       "output_type": "pyout",
       "prompt_number": 19,
       "text": [
        "       rate_marriage          age  yrs_married     children    religious  \\\n",
        "count    6366.000000  6366.000000  6366.000000  6366.000000  6366.000000   \n",
        "mean        4.109645    29.082862     9.009425     1.396874     2.426170   \n",
        "std         0.961430     6.847882     7.280120     1.433471     0.878369   \n",
        "min         1.000000    17.500000     0.500000     0.000000     1.000000   \n",
        "25%         4.000000    22.000000     2.500000     0.000000     2.000000   \n",
        "50%         4.000000    27.000000     6.000000     1.000000     2.000000   \n",
        "75%         5.000000    32.000000    16.500000     2.000000     3.000000   \n",
        "max         5.000000    42.000000    23.000000     5.500000     4.000000   \n",
        "\n",
        "              educ   occupation  occupation_husb      affairs       affair  \n",
        "count  6366.000000  6366.000000      6366.000000  6366.000000  6366.000000  \n",
        "mean     14.209865     3.424128         3.850141     0.705374     0.322495  \n",
        "std       2.178003     0.942399         1.346435     2.203374     0.467468  \n",
        "min       9.000000     1.000000         1.000000     0.000000     0.000000  \n",
        "25%      12.000000     3.000000         3.000000     0.000000     0.000000  \n",
        "50%      14.000000     3.000000         4.000000     0.000000     0.000000  \n",
        "75%      16.000000     4.000000         5.000000     0.484848     1.000000  \n",
        "max      20.000000     6.000000         6.000000    57.599991     1.000000  "
       ]
      }
     ],
     "prompt_number": 19
    },
    {
     "cell_type": "code",
     "collapsed": false,
     "input": [
      "dta.groupby('affair').mean()"
     ],
     "language": "python",
     "metadata": {},
     "outputs": [
      {
       "html": [
        "<div style=\"max-height:1000px;max-width:1500px;overflow:auto;\">\n",
        "<table border=\"1\" class=\"dataframe\">\n",
        "  <thead>\n",
        "    <tr style=\"text-align: right;\">\n",
        "      <th></th>\n",
        "      <th>rate_marriage</th>\n",
        "      <th>age</th>\n",
        "      <th>yrs_married</th>\n",
        "      <th>children</th>\n",
        "      <th>religious</th>\n",
        "      <th>educ</th>\n",
        "      <th>occupation</th>\n",
        "      <th>occupation_husb</th>\n",
        "      <th>affairs</th>\n",
        "    </tr>\n",
        "    <tr>\n",
        "      <th>affair</th>\n",
        "      <th></th>\n",
        "      <th></th>\n",
        "      <th></th>\n",
        "      <th></th>\n",
        "      <th></th>\n",
        "      <th></th>\n",
        "      <th></th>\n",
        "      <th></th>\n",
        "      <th></th>\n",
        "    </tr>\n",
        "  </thead>\n",
        "  <tbody>\n",
        "    <tr>\n",
        "      <th>0</th>\n",
        "      <td> 4.329701</td>\n",
        "      <td> 28.390679</td>\n",
        "      <td>  7.989335</td>\n",
        "      <td> 1.238813</td>\n",
        "      <td> 2.504521</td>\n",
        "      <td> 14.322977</td>\n",
        "      <td> 3.405286</td>\n",
        "      <td> 3.833758</td>\n",
        "      <td> 0.000000</td>\n",
        "    </tr>\n",
        "    <tr>\n",
        "      <th>1</th>\n",
        "      <td> 3.647345</td>\n",
        "      <td> 30.537019</td>\n",
        "      <td> 11.152460</td>\n",
        "      <td> 1.728933</td>\n",
        "      <td> 2.261568</td>\n",
        "      <td> 13.972236</td>\n",
        "      <td> 3.463712</td>\n",
        "      <td> 3.884559</td>\n",
        "      <td> 2.187243</td>\n",
        "    </tr>\n",
        "  </tbody>\n",
        "</table>\n",
        "</div>"
       ],
       "metadata": {},
       "output_type": "pyout",
       "prompt_number": 20,
       "text": [
        "        rate_marriage        age  yrs_married  children  religious       educ  \\\n",
        "affair                                                                          \n",
        "0            4.329701  28.390679     7.989335  1.238813   2.504521  14.322977   \n",
        "1            3.647345  30.537019    11.152460  1.728933   2.261568  13.972236   \n",
        "\n",
        "        occupation  occupation_husb   affairs  \n",
        "affair                                         \n",
        "0         3.405286         3.833758  0.000000  \n",
        "1         3.463712         3.884559  2.187243  "
       ]
      }
     ],
     "prompt_number": 20
    },
    {
     "cell_type": "code",
     "collapsed": false,
     "input": [
      "dta.groupby('rate_marriage').mean()"
     ],
     "language": "python",
     "metadata": {},
     "outputs": [
      {
       "html": [
        "<div style=\"max-height:1000px;max-width:1500px;overflow:auto;\">\n",
        "<table border=\"1\" class=\"dataframe\">\n",
        "  <thead>\n",
        "    <tr style=\"text-align: right;\">\n",
        "      <th></th>\n",
        "      <th>age</th>\n",
        "      <th>yrs_married</th>\n",
        "      <th>children</th>\n",
        "      <th>religious</th>\n",
        "      <th>educ</th>\n",
        "      <th>occupation</th>\n",
        "      <th>occupation_husb</th>\n",
        "      <th>affairs</th>\n",
        "      <th>affair</th>\n",
        "    </tr>\n",
        "    <tr>\n",
        "      <th>rate_marriage</th>\n",
        "      <th></th>\n",
        "      <th></th>\n",
        "      <th></th>\n",
        "      <th></th>\n",
        "      <th></th>\n",
        "      <th></th>\n",
        "      <th></th>\n",
        "      <th></th>\n",
        "      <th></th>\n",
        "    </tr>\n",
        "  </thead>\n",
        "  <tbody>\n",
        "    <tr>\n",
        "      <th>1</th>\n",
        "      <td> 33.823232</td>\n",
        "      <td> 13.914141</td>\n",
        "      <td> 2.308081</td>\n",
        "      <td> 2.343434</td>\n",
        "      <td> 13.848485</td>\n",
        "      <td> 3.232323</td>\n",
        "      <td> 3.838384</td>\n",
        "      <td> 1.201671</td>\n",
        "      <td> 0.747475</td>\n",
        "    </tr>\n",
        "    <tr>\n",
        "      <th>2</th>\n",
        "      <td> 30.471264</td>\n",
        "      <td> 10.727011</td>\n",
        "      <td> 1.735632</td>\n",
        "      <td> 2.330460</td>\n",
        "      <td> 13.864943</td>\n",
        "      <td> 3.327586</td>\n",
        "      <td> 3.764368</td>\n",
        "      <td> 1.615745</td>\n",
        "      <td> 0.635057</td>\n",
        "    </tr>\n",
        "    <tr>\n",
        "      <th>3</th>\n",
        "      <td> 30.008056</td>\n",
        "      <td> 10.239174</td>\n",
        "      <td> 1.638469</td>\n",
        "      <td> 2.308157</td>\n",
        "      <td> 14.001007</td>\n",
        "      <td> 3.402820</td>\n",
        "      <td> 3.798590</td>\n",
        "      <td> 1.371281</td>\n",
        "      <td> 0.550856</td>\n",
        "    </tr>\n",
        "    <tr>\n",
        "      <th>4</th>\n",
        "      <td> 28.856601</td>\n",
        "      <td>  8.816905</td>\n",
        "      <td> 1.369536</td>\n",
        "      <td> 2.400981</td>\n",
        "      <td> 14.144514</td>\n",
        "      <td> 3.420161</td>\n",
        "      <td> 3.835861</td>\n",
        "      <td> 0.674837</td>\n",
        "      <td> 0.322926</td>\n",
        "    </tr>\n",
        "    <tr>\n",
        "      <th>5</th>\n",
        "      <td> 28.574702</td>\n",
        "      <td>  8.311662</td>\n",
        "      <td> 1.252794</td>\n",
        "      <td> 2.506334</td>\n",
        "      <td> 14.399776</td>\n",
        "      <td> 3.454918</td>\n",
        "      <td> 3.892697</td>\n",
        "      <td> 0.348174</td>\n",
        "      <td> 0.181446</td>\n",
        "    </tr>\n",
        "  </tbody>\n",
        "</table>\n",
        "</div>"
       ],
       "metadata": {},
       "output_type": "pyout",
       "prompt_number": 21,
       "text": [
        "                     age  yrs_married  children  religious       educ  \\\n",
        "rate_marriage                                                           \n",
        "1              33.823232    13.914141  2.308081   2.343434  13.848485   \n",
        "2              30.471264    10.727011  1.735632   2.330460  13.864943   \n",
        "3              30.008056    10.239174  1.638469   2.308157  14.001007   \n",
        "4              28.856601     8.816905  1.369536   2.400981  14.144514   \n",
        "5              28.574702     8.311662  1.252794   2.506334  14.399776   \n",
        "\n",
        "               occupation  occupation_husb   affairs    affair  \n",
        "rate_marriage                                                   \n",
        "1                3.232323         3.838384  1.201671  0.747475  \n",
        "2                3.327586         3.764368  1.615745  0.635057  \n",
        "3                3.402820         3.798590  1.371281  0.550856  \n",
        "4                3.420161         3.835861  0.674837  0.322926  \n",
        "5                3.454918         3.892697  0.348174  0.181446  "
       ]
      }
     ],
     "prompt_number": 21
    },
    {
     "cell_type": "code",
     "collapsed": false,
     "input": [
      "# Due to the quantization of our data, the distributions offer better insight than the scatter plots.\n",
      "dta.hist(layout=(2, 5), figsize=(18, 18));"
     ],
     "language": "python",
     "metadata": {},
     "outputs": [
      {
       "metadata": {},
       "output_type": "display_data",
       "png": "[encoded data removed]",
       "text": [
        "<matplotlib.figure.Figure at 0x117024d90>"
       ]
      }
     ],
     "prompt_number": 22
    },
    {
     "cell_type": "code",
     "collapsed": false,
     "input": [
      "# crosstab is a very powerful function. Play around with it to see what it does \n",
      "#   you should know it well!\n",
      "affairs_by_marriage_rating = pd.crosstab(dta.rate_marriage, dta.affair.astype(bool))\n",
      "\n",
      "affairs_by_marriage_rating.plot(kind='bar', title='Affairs By Rating');\n",
      "\n",
      "affairs_by_marriage_rating"
     ],
     "language": "python",
     "metadata": {},
     "outputs": [
      {
       "html": [
        "<div style=\"max-height:1000px;max-width:1500px;overflow:auto;\">\n",
        "<table border=\"1\" class=\"dataframe\">\n",
        "  <thead>\n",
        "    <tr style=\"text-align: right;\">\n",
        "      <th>affair</th>\n",
        "      <th>False</th>\n",
        "      <th>True</th>\n",
        "    </tr>\n",
        "    <tr>\n",
        "      <th>rate_marriage</th>\n",
        "      <th></th>\n",
        "      <th></th>\n",
        "    </tr>\n",
        "  </thead>\n",
        "  <tbody>\n",
        "    <tr>\n",
        "      <th>1</th>\n",
        "      <td>   25</td>\n",
        "      <td>  74</td>\n",
        "    </tr>\n",
        "    <tr>\n",
        "      <th>2</th>\n",
        "      <td>  127</td>\n",
        "      <td> 221</td>\n",
        "    </tr>\n",
        "    <tr>\n",
        "      <th>3</th>\n",
        "      <td>  446</td>\n",
        "      <td> 547</td>\n",
        "    </tr>\n",
        "    <tr>\n",
        "      <th>4</th>\n",
        "      <td> 1518</td>\n",
        "      <td> 724</td>\n",
        "    </tr>\n",
        "    <tr>\n",
        "      <th>5</th>\n",
        "      <td> 2197</td>\n",
        "      <td> 487</td>\n",
        "    </tr>\n",
        "  </tbody>\n",
        "</table>\n",
        "</div>"
       ],
       "metadata": {},
       "output_type": "pyout",
       "prompt_number": 23,
       "text": [
        "affair         False  True \n",
        "rate_marriage              \n",
        "1                 25     74\n",
        "2                127    221\n",
        "3                446    547\n",
        "4               1518    724\n",
        "5               2197    487"
       ]
      },
      {
       "metadata": {},
       "output_type": "display_data",
       "png": "[encoded data removed]",
       "text": [
        "<matplotlib.figure.Figure at 0x117d7b590>"
       ]
      }
     ],
     "prompt_number": 23
    },
    {
     "cell_type": "code",
     "collapsed": false,
     "input": [
      "affairs_by_marriage_rating.sum(1)"
     ],
     "language": "python",
     "metadata": {},
     "outputs": [
      {
       "metadata": {},
       "output_type": "pyout",
       "prompt_number": 24,
       "text": [
        "rate_marriage\n",
        "1                  99\n",
        "2                 348\n",
        "3                 993\n",
        "4                2242\n",
        "5                2684\n",
        "dtype: int64"
       ]
      }
     ],
     "prompt_number": 24
    },
    {
     "cell_type": "code",
     "collapsed": false,
     "input": [
      "type(affairs_by_marriage_rating)"
     ],
     "language": "python",
     "metadata": {},
     "outputs": [
      {
       "metadata": {},
       "output_type": "pyout",
       "prompt_number": 25,
       "text": [
        "pandas.core.frame.DataFrame"
       ]
      }
     ],
     "prompt_number": 25
    },
    {
     "cell_type": "code",
     "collapsed": false,
     "input": [
      "# Explore the following line of code and explain what it does in your own words\n",
      "percent_cheating = affairs_by_marriage_rating.div(affairs_by_marriage_rating.sum(1), axis=0)\n",
      "\n",
      "\n",
      "percent_cheating.plot(kind='bar', stacked=True);"
     ],
     "language": "python",
     "metadata": {},
     "outputs": [
      {
       "metadata": {},
       "output_type": "display_data",
       "png": "[encoded data removed]",
       "text": [
        "<matplotlib.figure.Figure at 0x117d35c10>"
       ]
      }
     ],
     "prompt_number": 26
    },
    {
     "cell_type": "markdown",
     "metadata": {},
     "source": [
      "## Step 2: Training and validating the model"
     ]
    },
    {
     "cell_type": "code",
     "collapsed": false,
     "input": [
      "# Training the model:\n",
      "\n",
      "X = dta.drop(['affairs', 'affair'], axis=1)\n",
      "\n",
      "y = dta['affair']\n",
      "\n",
      "# Use 33% of our dataset for testing\n",
      "X_train, X_test, y_train, y_test = train_test_split(X, y, test_size=0.33, random_state=123)\n",
      "\n",
      "model = LogisticRegression()\n",
      "model = model.fit(X_train, y_train)"
     ],
     "language": "python",
     "metadata": {},
     "outputs": [],
     "prompt_number": 27
    },
    {
     "cell_type": "code",
     "collapsed": false,
     "input": [
      "# Evaluating the model:\n",
      "# Which of these is lower and why?\n",
      "\n",
      "\n",
      "print \"Score on training data: \", model.score(X_train, y_train)\n",
      "print \"Score on test data: \", model.score(X_test, y_test)\n",
      "\n",
      "# Score on test date is lower due to generalization error"
     ],
     "language": "python",
     "metadata": {},
     "outputs": [
      {
       "output_type": "stream",
       "stream": "stdout",
       "text": [
        "Score on training data:  0.727315357562\n",
        "Score on test data:  0.713945740124\n"
       ]
      }
     ],
     "prompt_number": 28
    },
    {
     "cell_type": "markdown",
     "metadata": {},
     "source": [
      "# Assignment:\n",
      "\n",
      "## Part I: Analyzing the model\n",
      "\n",
      "From the results of the above model, calculate the following:\n",
      "\n",
      "- **# of True positives:** Marriages with affairs which were properly classified as having an affair\n",
      "- **# of True negatives:** Marriages without affairs which were properly classified as not having an affair\n",
      "- **# of False positives:** Predicting an affair when there was none\n",
      "- **# of False negatives:** Not Predicting an affair when there was an affair\n",
      "\n",
      "*Hint:* You should use the **`model.predict`** function to calculate these.\n",
      "\n",
      "Based on the above compute the following:\n",
      "- Confusion matrix\n",
      "- Precision\n",
      "- Accuracy\n",
      "- F1 score\n",
      "\n",
      "State in your own words which each of these mean and the significance of each."
     ]
    },
    {
     "cell_type": "markdown",
     "metadata": {},
     "source": [
      "## Part II: Improving the model\n",
      "\n",
      "Our model achieved a score of roughly 71.3% accuracy on the test dataset. This may not seem too bad, but our average affair rate is about 32%, so a model that always predicted \"no\" would have an accuracy of `100*(1 - y.mean())` or about 68 percent. So we're not much better off than the null error rate.\n",
      "\n",
      "Your job is to improve the accuracy model without overfitting the data. To prevent overfitting, be sure to split your data so 70% of the dataset is used for testing and 30% of the dataset is used for training (so you should have 1909 samples in the testing dataset and 4457 samples in the training dataset). You should be able to achieve higher than 72.6% accuracy on the **test** dataset. **Be sure to calculate both the training and test error and strive for the highest accuracy possible.**\n",
      "\n",
      "**Consider applying the following techniques:**\n",
      "- Removing features\n",
      "- Regularization techniques (Look at the 'C' attribute in the `LogisticRegression` function)\n",
      "- Using a non-linear model"
     ]
    },
    {
     "cell_type": "code",
     "collapsed": false,
     "input": [
      "#Part I:\n",
      "predicted = model.predict(X_test)"
     ],
     "language": "python",
     "metadata": {},
     "outputs": [],
     "prompt_number": 29
    },
    {
     "cell_type": "code",
     "collapsed": false,
     "input": [
      "type(predicted)"
     ],
     "language": "python",
     "metadata": {},
     "outputs": [
      {
       "metadata": {},
       "output_type": "pyout",
       "prompt_number": 30,
       "text": [
        "numpy.ndarray"
       ]
      }
     ],
     "prompt_number": 30
    },
    {
     "cell_type": "code",
     "collapsed": false,
     "input": [
      "import nltk\n",
      "print 'Confusion matrix:'\n",
      "print nltk.ConfusionMatrix(y_test, predicted)#actual, predicted\n"
     ],
     "language": "python",
     "metadata": {},
     "outputs": [
      {
       "output_type": "stream",
       "stream": "stdout",
       "text": [
        "Confusion matrix:\n",
        "  |    0    1    2 |\n",
        "--+----------------+\n",
        "0 |<1285> 134    . |\n",
        "1 |  467 <215>   . |\n",
        "2 |    .    .   <.>|\n",
        "--+----------------+\n",
        "(row = reference; col = test)\n",
        "\n"
       ]
      }
     ],
     "prompt_number": 31
    },
    {
     "cell_type": "code",
     "collapsed": false,
     "input": [
      "tp = float(1285)\n",
      "tn = float(215)\n",
      "fp = float(134)\n",
      "fn = float(467)\n",
      "\n",
      "print '# of True positives:',  tp\n",
      "print '# of True negatives:', tn\n",
      "print '# of False positives:', fp\n",
      "print '# of False negatives:', fn"
     ],
     "language": "python",
     "metadata": {},
     "outputs": [
      {
       "output_type": "stream",
       "stream": "stdout",
       "text": [
        "# of True positives: 1285.0\n",
        "# of True negatives: 215.0\n",
        "# of False positives: 134.0\n",
        "# of False negatives: 467.0\n"
       ]
      }
     ],
     "prompt_number": 32
    },
    {
     "cell_type": "code",
     "collapsed": false,
     "input": [
      "from sklearn.metrics import average_precision_score\n",
      "average_precision_score(y_test, predicted)\n",
      "#The precision is the ability of the classifier not to label as positive a sample that is negative."
     ],
     "language": "python",
     "metadata": {},
     "outputs": [
      {
       "metadata": {},
       "output_type": "pyout",
       "prompt_number": 33,
       "text": [
        "0.57678510961311868"
       ]
      }
     ],
     "prompt_number": 33
    },
    {
     "cell_type": "code",
     "collapsed": false,
     "input": [
      "from sklearn.metrics import accuracy_score\n",
      "accuracy_score(y_test, predicted)  \n",
      "\n",
      "#How often did the model correctly classify."
     ],
     "language": "python",
     "metadata": {},
     "outputs": [
      {
       "metadata": {},
       "output_type": "pyout",
       "prompt_number": 34,
       "text": [
        "0.71394574012375056"
       ]
      }
     ],
     "prompt_number": 34
    },
    {
     "cell_type": "code",
     "collapsed": false,
     "input": [
      "from sklearn.metrics import f1_score\n",
      "f1_score(y_test, predicted)  \n",
      "#The F-measure balances the score and recall, where 1 = best, 0=worst. (Hope this gets better explained in class)"
     ],
     "language": "python",
     "metadata": {},
     "outputs": [
      {
       "metadata": {},
       "output_type": "pyout",
       "prompt_number": 35,
       "text": [
        "0.41707080504364696"
       ]
      }
     ],
     "prompt_number": 35
    },
    {
     "cell_type": "code",
     "collapsed": false,
     "input": [
      "#Part II:"
     ],
     "language": "python",
     "metadata": {},
     "outputs": [],
     "prompt_number": 36
    },
    {
     "cell_type": "code",
     "collapsed": false,
     "input": [
      "dta.head()"
     ],
     "language": "python",
     "metadata": {},
     "outputs": [
      {
       "html": [
        "<div style=\"max-height:1000px;max-width:1500px;overflow:auto;\">\n",
        "<table border=\"1\" class=\"dataframe\">\n",
        "  <thead>\n",
        "    <tr style=\"text-align: right;\">\n",
        "      <th></th>\n",
        "      <th>rate_marriage</th>\n",
        "      <th>age</th>\n",
        "      <th>yrs_married</th>\n",
        "      <th>children</th>\n",
        "      <th>religious</th>\n",
        "      <th>educ</th>\n",
        "      <th>occupation</th>\n",
        "      <th>occupation_husb</th>\n",
        "      <th>affairs</th>\n",
        "      <th>affair</th>\n",
        "    </tr>\n",
        "  </thead>\n",
        "  <tbody>\n",
        "    <tr>\n",
        "      <th>0</th>\n",
        "      <td> 3</td>\n",
        "      <td> 32</td>\n",
        "      <td>  9.0</td>\n",
        "      <td> 3</td>\n",
        "      <td> 3</td>\n",
        "      <td> 17</td>\n",
        "      <td> 2</td>\n",
        "      <td> 5</td>\n",
        "      <td> 0.111111</td>\n",
        "      <td> 1</td>\n",
        "    </tr>\n",
        "    <tr>\n",
        "      <th>1</th>\n",
        "      <td> 3</td>\n",
        "      <td> 27</td>\n",
        "      <td> 13.0</td>\n",
        "      <td> 3</td>\n",
        "      <td> 1</td>\n",
        "      <td> 14</td>\n",
        "      <td> 3</td>\n",
        "      <td> 4</td>\n",
        "      <td> 3.230769</td>\n",
        "      <td> 1</td>\n",
        "    </tr>\n",
        "    <tr>\n",
        "      <th>2</th>\n",
        "      <td> 4</td>\n",
        "      <td> 22</td>\n",
        "      <td>  2.5</td>\n",
        "      <td> 0</td>\n",
        "      <td> 1</td>\n",
        "      <td> 16</td>\n",
        "      <td> 3</td>\n",
        "      <td> 5</td>\n",
        "      <td> 1.400000</td>\n",
        "      <td> 1</td>\n",
        "    </tr>\n",
        "    <tr>\n",
        "      <th>3</th>\n",
        "      <td> 4</td>\n",
        "      <td> 37</td>\n",
        "      <td> 16.5</td>\n",
        "      <td> 4</td>\n",
        "      <td> 3</td>\n",
        "      <td> 16</td>\n",
        "      <td> 5</td>\n",
        "      <td> 5</td>\n",
        "      <td> 0.727273</td>\n",
        "      <td> 1</td>\n",
        "    </tr>\n",
        "    <tr>\n",
        "      <th>4</th>\n",
        "      <td> 5</td>\n",
        "      <td> 27</td>\n",
        "      <td>  9.0</td>\n",
        "      <td> 1</td>\n",
        "      <td> 1</td>\n",
        "      <td> 14</td>\n",
        "      <td> 3</td>\n",
        "      <td> 4</td>\n",
        "      <td> 4.666666</td>\n",
        "      <td> 1</td>\n",
        "    </tr>\n",
        "  </tbody>\n",
        "</table>\n",
        "</div>"
       ],
       "metadata": {},
       "output_type": "pyout",
       "prompt_number": 37,
       "text": [
        "   rate_marriage  age  yrs_married  children  religious  educ  occupation  \\\n",
        "0              3   32          9.0         3          3    17           2   \n",
        "1              3   27         13.0         3          1    14           3   \n",
        "2              4   22          2.5         0          1    16           3   \n",
        "3              4   37         16.5         4          3    16           5   \n",
        "4              5   27          9.0         1          1    14           3   \n",
        "\n",
        "   occupation_husb   affairs  affair  \n",
        "0                5  0.111111       1  \n",
        "1                4  3.230769       1  \n",
        "2                5  1.400000       1  \n",
        "3                5  0.727273       1  \n",
        "4                4  4.666666       1  "
       ]
      }
     ],
     "prompt_number": 37
    },
    {
     "cell_type": "code",
     "collapsed": false,
     "input": [
      "# Training the model:\n",
      "\n",
      "X = dta.drop(['affairs', 'affair', 'occupation_husb'], axis=1)\n",
      "\n",
      "y = dta['affair']\n",
      "\n",
      "# Use 33% of our dataset for testing\n",
      "X_train, X_test, y_train, y_test = train_test_split(X, y, test_size=0.3, random_state=123)\n",
      "\n",
      "model = LogisticRegression(C=7)\n",
      "model = model.fit(X_train, y_train)\n",
      "\n",
      "print \"Score on training data: \", model.score(X_train, y_train)\n",
      "print \"Score on test data: \", model.score(X_test, y_test)"
     ],
     "language": "python",
     "metadata": {},
     "outputs": [
      {
       "output_type": "stream",
       "stream": "stdout",
       "text": [
        "Score on training data:  0.727782764811\n",
        "Score on test data:  0.716230366492\n"
       ]
      }
     ],
     "prompt_number": 75
    },
    {
     "cell_type": "code",
     "collapsed": false,
     "input": [
      "from sklearn.preprocessing import PolynomialFeatures\n",
      "from sklearn.pipeline import make_pipeline\n",
      "from sklearn.metrics import mean_squared_error\n",
      "\n",
      "\n",
      "degree = 2\n",
      "\n",
      "# Step 1: Transform my input into a Polynomial feature space:\n",
      "\n",
      "# Example Input\n",
      "#     x = [1, 3, 4, 2, 3]\n",
      "#\n",
      "# x_poly_features = PolynomialFeatures(degree=2)\n",
      "# x_poly_features.fit_transform(x)\n",
      "#\n",
      "# Example output:\n",
      "# array([[ 1,  1,  1],\n",
      "#        [ 1,  3,  9],\n",
      "#        [ 1,  4, 16],\n",
      "#        [ 1,  2,  4],\n",
      "#        [ 1,  3,  9]])\n",
      "\n",
      "# Step 2: Apply Linear Regression\n",
      "est = make_pipeline(PolynomialFeatures(degree), LogisticRegression(C=2))\n",
      "\n",
      "est.fit(X_train, y_train)\n",
      "est.score(X_train, y_train)\n",
      "\n",
      "print \"Score on training data: \", est.score(X_train, y_train)\n",
      "print \"Score on test data: \", est.score(X_test, y_test)"
     ],
     "language": "python",
     "metadata": {},
     "outputs": [
      {
       "output_type": "stream",
       "stream": "stdout",
       "text": [
        "Score on training data:  0.734515260323\n",
        "Score on test data:  0.722513089005\n"
       ]
      }
     ],
     "prompt_number": 79
    },
    {
     "cell_type": "code",
     "collapsed": false,
     "input": [
      "#Questions I haves:\n",
      "#- What is the best practice for selecting which features to exclude to improve my model's performance in this case?\n",
      "#- Why do my scores vary each time I re-run the cell above."
     ],
     "language": "python",
     "metadata": {},
     "outputs": [],
     "prompt_number": 76
    }
   ],
   "metadata": {}
  }
 ]
}