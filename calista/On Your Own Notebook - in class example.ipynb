{
 "metadata": {
  "name": "",
  "signature": "sha256:935721c255806ca0f59c9778009a0f5ca1cf41fdb25bb1034936fc4671106c9b"
 },
 "nbformat": 3,
 "nbformat_minor": 0,
 "worksheets": [
  {
   "cells": [
    {
     "cell_type": "code",
     "collapsed": false,
     "input": [
      "%%html\n",
      "<link rel=\"stylesheet\" href=\"static/hyrule.css\" type=\"text/css\">"
     ],
     "language": "python",
     "metadata": {},
     "outputs": [
      {
       "html": [
        "<link rel=\"stylesheet\" href=\"static/hyrule.css\" type=\"text/css\">"
       ],
       "metadata": {},
       "output_type": "display_data",
       "text": [
        "<IPython.core.display.HTML at 0x3d23e80>"
       ]
      }
     ],
     "prompt_number": 1
    },
    {
     "cell_type": "markdown",
     "metadata": {},
     "source": [
      "Exercise with Auto Data\n",
      "\n",
      "\n",
      "Instructions:\n",
      "\n",
      "# You're going work on similar questions with another data set from UC Irvine on vehicle mileage per gallon. You can find it with this link:\n",
      "\n",
      "# http://archive.ics.uci.edu/ml/machine-learning-databases/auto-mpg/\n",
      "\n",
      "# Bring the data into a DataFrame with pandas. The file is auto-mpg.data. \n",
      "\n",
      "# Since it is space separated, you'll have to tell read_csv to use spaces ('\\s+') and not commas (',') as the delimeter. \n",
      "# Likewise, you have to name the columns.\n",
      "\n",
      "# Compare the data for cars from the year 1970 and the year 1982. \n",
      "# In general in this data set, have cars changed in terms of mpg, horsepower, etc? (any of the continuous values)\n",
      "\n",
      "# Horsepower is missing several values. What are some basic techniques to fill in the missing data?\n",
      "\n",
      "# more advanced\n",
      "# Consider splitting the data by year and filling in horsepower that way. \n",
      "# What would the python code look like to handle this?\n",
      "# A handy way to work with strings is to .split() them by a value into a python list. Write an apply() function that generates a new column called \"manufacturer,\" using the last column's data."
     ]
    },
    {
     "cell_type": "code",
     "collapsed": false,
     "input": [
      "import pandas as pd\n",
      "import numpy as np\n",
      "from __future__ import division\n",
      "pd.set_option('display.max_rows', 500)\n",
      "pd.set_option('display.max_columns', 500)\n",
      "pd.set_option('display.width', 1000)\n",
      "pd.options.display.mpl_style = 'default'\n",
      "# imports pandas and numpy modules"
     ],
     "language": "python",
     "metadata": {},
     "outputs": [],
     "prompt_number": 2
    },
    {
     "cell_type": "code",
     "collapsed": false,
     "input": [
      "header_row = ['mpg', 'cylinders', 'displacement', 'horsepower', 'weight', 'acceleration', 'model year', 'origin', 'car name']\n",
      "url = 'http://archive.ics.uci.edu/ml/machine-learning-databases/auto-mpg/auto-mpg.data'\n",
      "auto_data = pd.read_csv(url,'\\s+', header=0, na_values='?')\n",
      "auto_data.columns = header_row"
     ],
     "language": "python",
     "metadata": {},
     "outputs": [],
     "prompt_number": 7
    },
    {
     "cell_type": "code",
     "collapsed": false,
     "input": [
      "print auto_data.head()"
     ],
     "language": "python",
     "metadata": {},
     "outputs": [
      {
       "output_type": "stream",
       "stream": "stdout",
       "text": [
        "   mpg  cylinders  displacement  horsepower  weight  acceleration  model year  origin            car name\n",
        "0   15          8           350         165    3693          11.5          70       1   buick skylark 320\n",
        "1   18          8           318         150    3436          11.0          70       1  plymouth satellite\n",
        "2   16          8           304         150    3433          12.0          70       1       amc rebel sst\n",
        "3   17          8           302         140    3449          10.5          70       1         ford torino\n",
        "4   15          8           429         198    4341          10.0          70       1    ford galaxie 500\n"
       ]
      }
     ],
     "prompt_number": 8
    },
    {
     "cell_type": "code",
     "collapsed": false,
     "input": [],
     "language": "python",
     "metadata": {},
     "outputs": []
    }
   ],
   "metadata": {}
  }
 ]
}