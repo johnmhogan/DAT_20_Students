{
 "metadata": {
  "name": "",
  "signature": "sha256:fbd6696e02d5724b0ee7ad5ad5bc215f04f093e0b175c122a7f17dba6faee6b8"
 },
 "nbformat": 3,
 "nbformat_minor": 0,
 "worksheets": [
  {
   "cells": [
    {
     "cell_type": "heading",
     "level": 3,
     "metadata": {},
     "source": [
      "This data set looks at the investments made by 19 Venture Capital Firms into startups. The data was pulled using SQL from the backend at CB Insights. "
     ]
    },
    {
     "cell_type": "code",
     "collapsed": false,
     "input": [
      "import numpy as np\n",
      "import pandas as pd\n",
      "import matplotlib.pyplot as plt\n",
      "import datetime\n",
      "\n",
      "\n",
      "%matplotlib inline"
     ],
     "language": "python",
     "metadata": {},
     "outputs": [],
     "prompt_number": 118
    },
    {
     "cell_type": "heading",
     "level": 3,
     "metadata": {},
     "source": [
      "Reading in the Data"
     ]
    },
    {
     "cell_type": "code",
     "collapsed": false,
     "input": [
      "#read in data\n",
      "\n",
      "investments = pd.read_csv(\"Unique Rounds.csv\")\n",
      "# investments['DATE(a.ts_funding)']=investments['DATE(a.ts_funding)'].map(lambda x: datetime.datetime.strptime(x, '%m/%d/%Y').date())\n",
      "print investments.head()\n",
      "\n",
      "# id_company = unique company id\n",
      "# id_funding = unique funding id \n",
      "# sector\n",
      "# industry\n",
      "# subindustry \n",
      "# category\n",
      "# state\n",
      "# country\n",
      "# round\n",
      "# round_mapping = simplified round\n",
      "# amount ($M)\n",
      "# Date\n",
      "# year\n",
      "# exit - 1 =exit, 0 = no exit"
     ],
     "language": "python",
     "metadata": {},
     "outputs": [
      {
       "output_type": "stream",
       "stream": "stdout",
       "text": [
        "   id_company  id_funding    sector                      industry  \\\n",
        "0          31          15  Internet  Internet Software & Services   \n",
        "1          31          16  Internet  Internet Software & Services   \n",
        "2          54          25  Internet  Internet Software & Services   \n",
        "3          97          42  Internet  Internet Software & Services   \n",
        "4         119          54  Internet  Internet Software & Services   \n",
        "\n",
        "                      subindustry     category         state        country  \\\n",
        "0                          Social          NaN  Pennsylvania  United States   \n",
        "1                          Social          NaN  Pennsylvania  United States   \n",
        "2               News & Discussion  Open Source    California  United States   \n",
        "3                          Social  Open Source    California  United States   \n",
        "4  Advertising, Sales & Marketing          NaN    California  United States   \n",
        "\n",
        "             round    round_mapping  amount DATE(a.ts_funding)  year  exit  \n",
        "0         Series A         Series A     4.1         12/22/2006  2006     1  \n",
        "1         Series B         Series B    13.0          7/21/2008  2008     1  \n",
        "2  Unattributed VC  Venture Capital     NaN                NaN   NaN     0  \n",
        "3         Series B         Series B     1.0           9/8/2006  2006     1  \n",
        "4     Unattributed      Undisclosed    10.0                NaN   NaN     0  \n"
       ]
      }
     ],
     "prompt_number": 119
    },
    {
     "cell_type": "heading",
     "level": 3,
     "metadata": {},
     "source": [
      "Initial Exploratory Analysis - What are we working with? "
     ]
    },
    {
     "cell_type": "code",
     "collapsed": false,
     "input": [
      "#we have 8,960 unique funding rounds \n",
      "\n",
      "print investments.shape[0]"
     ],
     "language": "python",
     "metadata": {},
     "outputs": [
      {
       "output_type": "stream",
       "stream": "stdout",
       "text": [
        "8960\n"
       ]
      }
     ],
     "prompt_number": 120
    },
    {
     "cell_type": "code",
     "collapsed": false,
     "input": [
      "#investments by year\n",
      "\n",
      "investments.year.astype(float).hist()"
     ],
     "language": "python",
     "metadata": {},
     "outputs": [
      {
       "metadata": {},
       "output_type": "pyout",
       "prompt_number": 121,
       "text": [
        "<matplotlib.axes._subplots.AxesSubplot at 0xe9b8f60>"
       ]
      },
      {
       "metadata": {},
       "output_type": "display_data",
       "png": "[encoded data removed]",
       "text": [
        "<matplotlib.figure.Figure at 0xee302e8>"
       ]
      }
     ],
     "prompt_number": 121
    },
    {
     "cell_type": "code",
     "collapsed": false,
     "input": [
      "#most well-funded companies\n",
      "#this will group by each company and give you the number of funding rounds they've raised as well as the total amount\n",
      "\n",
      "companies = investments.groupby('id_company')\n",
      "\n",
      "tfcos = pd.DataFrame(companies.id_funding.count())\n",
      "tfcos['total_funding'] = companies.amount.sum()\n",
      "tfcos_sorted = tfcos.sort('total_funding', ascending = 0)\n",
      "tfcos_sorted.head()"
     ],
     "language": "python",
     "metadata": {},
     "outputs": [
      {
       "html": [
        "<div style=\"max-height:1000px;max-width:1500px;overflow:auto;\">\n",
        "<table border=\"1\" class=\"dataframe\">\n",
        "  <thead>\n",
        "    <tr style=\"text-align: right;\">\n",
        "      <th></th>\n",
        "      <th>id_funding</th>\n",
        "      <th>total_funding</th>\n",
        "    </tr>\n",
        "    <tr>\n",
        "      <th>id_company</th>\n",
        "      <th></th>\n",
        "      <th></th>\n",
        "    </tr>\n",
        "  </thead>\n",
        "  <tbody>\n",
        "    <tr>\n",
        "      <th>52882</th>\n",
        "      <td> 6</td>\n",
        "      <td> 2702.5</td>\n",
        "    </tr>\n",
        "    <tr>\n",
        "      <th>55404</th>\n",
        "      <td> 3</td>\n",
        "      <td> 1350.0</td>\n",
        "    </tr>\n",
        "    <tr>\n",
        "      <th>59187</th>\n",
        "      <td> 7</td>\n",
        "      <td> 1129.1</td>\n",
        "    </tr>\n",
        "    <tr>\n",
        "      <th>28654</th>\n",
        "      <td> 9</td>\n",
        "      <td>  886.9</td>\n",
        "    </tr>\n",
        "    <tr>\n",
        "      <th>9396 </th>\n",
        "      <td> 3</td>\n",
        "      <td>  825.0</td>\n",
        "    </tr>\n",
        "  </tbody>\n",
        "</table>\n",
        "</div>"
       ],
       "metadata": {},
       "output_type": "pyout",
       "prompt_number": 122,
       "text": [
        "            id_funding  total_funding\n",
        "id_company                           \n",
        "52882                6         2702.5\n",
        "55404                3         1350.0\n",
        "59187                7         1129.1\n",
        "28654                9          886.9\n",
        "9396                 3          825.0"
       ]
      }
     ],
     "prompt_number": 122
    },
    {
     "cell_type": "code",
     "collapsed": false,
     "input": [
      "#there are 4593 unique companies\n",
      "\n",
      "tfcos.shape[0]"
     ],
     "language": "python",
     "metadata": {},
     "outputs": [
      {
       "metadata": {},
       "output_type": "pyout",
       "prompt_number": 123,
       "text": [
        "4593"
       ]
      }
     ],
     "prompt_number": 123
    },
    {
     "cell_type": "code",
     "collapsed": false,
     "input": [
      "#of these 4593, only 1714 have exited \n",
      "\n",
      "tfcos_exited = tfcos\n",
      "tfcos_exited['exits'] = companies.exit.sum()\n",
      "tfcos_exited = tfcos_exited[tfcos_exited['exits'] > 0]\n",
      "tfcos_exited.shape[0]"
     ],
     "language": "python",
     "metadata": {},
     "outputs": [
      {
       "metadata": {},
       "output_type": "pyout",
       "prompt_number": 144,
       "text": [
        "1714"
       ]
      }
     ],
     "prompt_number": 144
    },
    {
     "cell_type": "code",
     "collapsed": false,
     "input": [
      "#funding by year -- you can see the dot com fall out between 2000 - 2001\n",
      "\n",
      "pivoted_amt_yr = investments.pivot_table(values = 'amount',\n",
      "                                         index = 'year', \n",
      "                                         aggfunc = 'sum')\n",
      "\n",
      "pivot1 = pd.DataFrame(pivoted_amt_yr)\n",
      "pivot1"
     ],
     "language": "python",
     "metadata": {},
     "outputs": [
      {
       "html": [
        "<div style=\"max-height:1000px;max-width:1500px;overflow:auto;\">\n",
        "<table border=\"1\" class=\"dataframe\">\n",
        "  <thead>\n",
        "    <tr style=\"text-align: right;\">\n",
        "      <th></th>\n",
        "      <th>amount</th>\n",
        "    </tr>\n",
        "    <tr>\n",
        "      <th>year</th>\n",
        "      <th></th>\n",
        "    </tr>\n",
        "  </thead>\n",
        "  <tbody>\n",
        "    <tr>\n",
        "      <th>1988</th>\n",
        "      <td>      NaN</td>\n",
        "    </tr>\n",
        "    <tr>\n",
        "      <th>1991</th>\n",
        "      <td>      NaN</td>\n",
        "    </tr>\n",
        "    <tr>\n",
        "      <th>1994</th>\n",
        "      <td>     6.50</td>\n",
        "    </tr>\n",
        "    <tr>\n",
        "      <th>1995</th>\n",
        "      <td>     8.00</td>\n",
        "    </tr>\n",
        "    <tr>\n",
        "      <th>1996</th>\n",
        "      <td>    35.50</td>\n",
        "    </tr>\n",
        "    <tr>\n",
        "      <th>1997</th>\n",
        "      <td>      NaN</td>\n",
        "    </tr>\n",
        "    <tr>\n",
        "      <th>1998</th>\n",
        "      <td>  2005.35</td>\n",
        "    </tr>\n",
        "    <tr>\n",
        "      <th>1999</th>\n",
        "      <td>  8670.65</td>\n",
        "    </tr>\n",
        "    <tr>\n",
        "      <th>2000</th>\n",
        "      <td> 15219.30</td>\n",
        "    </tr>\n",
        "    <tr>\n",
        "      <th>2001</th>\n",
        "      <td>  6981.61</td>\n",
        "    </tr>\n",
        "    <tr>\n",
        "      <th>2002</th>\n",
        "      <td>  4222.44</td>\n",
        "    </tr>\n",
        "    <tr>\n",
        "      <th>2003</th>\n",
        "      <td>  3805.43</td>\n",
        "    </tr>\n",
        "    <tr>\n",
        "      <th>2004</th>\n",
        "      <td>  4372.33</td>\n",
        "    </tr>\n",
        "    <tr>\n",
        "      <th>2005</th>\n",
        "      <td>  3904.77</td>\n",
        "    </tr>\n",
        "    <tr>\n",
        "      <th>2006</th>\n",
        "      <td>  6160.50</td>\n",
        "    </tr>\n",
        "    <tr>\n",
        "      <th>2007</th>\n",
        "      <td>  7448.32</td>\n",
        "    </tr>\n",
        "    <tr>\n",
        "      <th>2008</th>\n",
        "      <td>  8899.30</td>\n",
        "    </tr>\n",
        "    <tr>\n",
        "      <th>2009</th>\n",
        "      <td>  6244.66</td>\n",
        "    </tr>\n",
        "    <tr>\n",
        "      <th>2010</th>\n",
        "      <td>  7585.33</td>\n",
        "    </tr>\n",
        "    <tr>\n",
        "      <th>2011</th>\n",
        "      <td> 13552.16</td>\n",
        "    </tr>\n",
        "    <tr>\n",
        "      <th>2012</th>\n",
        "      <td> 14099.56</td>\n",
        "    </tr>\n",
        "    <tr>\n",
        "      <th>2013</th>\n",
        "      <td> 12652.26</td>\n",
        "    </tr>\n",
        "    <tr>\n",
        "      <th>2014</th>\n",
        "      <td> 25670.44</td>\n",
        "    </tr>\n",
        "    <tr>\n",
        "      <th>2015</th>\n",
        "      <td>  7558.35</td>\n",
        "    </tr>\n",
        "  </tbody>\n",
        "</table>\n",
        "</div>"
       ],
       "metadata": {},
       "output_type": "pyout",
       "prompt_number": 124,
       "text": [
        "        amount\n",
        "year          \n",
        "1988       NaN\n",
        "1991       NaN\n",
        "1994      6.50\n",
        "1995      8.00\n",
        "1996     35.50\n",
        "1997       NaN\n",
        "1998   2005.35\n",
        "1999   8670.65\n",
        "2000  15219.30\n",
        "2001   6981.61\n",
        "2002   4222.44\n",
        "2003   3805.43\n",
        "2004   4372.33\n",
        "2005   3904.77\n",
        "2006   6160.50\n",
        "2007   7448.32\n",
        "2008   8899.30\n",
        "2009   6244.66\n",
        "2010   7585.33\n",
        "2011  13552.16\n",
        "2012  14099.56\n",
        "2013  12652.26\n",
        "2014  25670.44\n",
        "2015   7558.35"
       ]
      }
     ],
     "prompt_number": 124
    },
    {
     "cell_type": "code",
     "collapsed": false,
     "input": [
      "#within this data set, Internet has the most deals and dollars ($M)\n",
      "\n",
      "groupby = investments.groupby('sector')\n",
      "\n",
      "new = pd.DataFrame(groupby.round_mapping.count())\n",
      "new['sum_series'] = groupby.amount.sum()\n",
      "new_sort = new.sort('round_mapping', ascending = 0)\n",
      "new_sort"
     ],
     "language": "python",
     "metadata": {},
     "outputs": [
      {
       "html": [
        "<div style=\"max-height:1000px;max-width:1500px;overflow:auto;\">\n",
        "<table border=\"1\" class=\"dataframe\">\n",
        "  <thead>\n",
        "    <tr style=\"text-align: right;\">\n",
        "      <th></th>\n",
        "      <th>round_mapping</th>\n",
        "      <th>sum_series</th>\n",
        "    </tr>\n",
        "    <tr>\n",
        "      <th>sector</th>\n",
        "      <th></th>\n",
        "      <th></th>\n",
        "    </tr>\n",
        "  </thead>\n",
        "  <tbody>\n",
        "    <tr>\n",
        "      <th>Internet</th>\n",
        "      <td> 3852</td>\n",
        "      <td> 60796.35</td>\n",
        "    </tr>\n",
        "    <tr>\n",
        "      <th>Mobile &amp; Telecommunications</th>\n",
        "      <td> 1510</td>\n",
        "      <td> 30962.49</td>\n",
        "    </tr>\n",
        "    <tr>\n",
        "      <th>Software (non-internet/mobile)</th>\n",
        "      <td>  804</td>\n",
        "      <td> 12549.67</td>\n",
        "    </tr>\n",
        "    <tr>\n",
        "      <th>Healthcare</th>\n",
        "      <td>  770</td>\n",
        "      <td> 15640.42</td>\n",
        "    </tr>\n",
        "    <tr>\n",
        "      <th>Computer Hardware &amp; Services</th>\n",
        "      <td>  571</td>\n",
        "      <td> 10639.22</td>\n",
        "    </tr>\n",
        "    <tr>\n",
        "      <th>Electronics</th>\n",
        "      <td>  466</td>\n",
        "      <td>  8224.48</td>\n",
        "    </tr>\n",
        "    <tr>\n",
        "      <th>Energy &amp; Utilities</th>\n",
        "      <td>  305</td>\n",
        "      <td>  8271.54</td>\n",
        "    </tr>\n",
        "    <tr>\n",
        "      <th>Business Products &amp; Services</th>\n",
        "      <td>  159</td>\n",
        "      <td>  2895.69</td>\n",
        "    </tr>\n",
        "    <tr>\n",
        "      <th>Industrial</th>\n",
        "      <td>  133</td>\n",
        "      <td>  2069.88</td>\n",
        "    </tr>\n",
        "    <tr>\n",
        "      <th>Consumer Products &amp; Services</th>\n",
        "      <td>  117</td>\n",
        "      <td>  1481.71</td>\n",
        "    </tr>\n",
        "    <tr>\n",
        "      <th>Financial</th>\n",
        "      <td>  103</td>\n",
        "      <td>  2009.19</td>\n",
        "    </tr>\n",
        "    <tr>\n",
        "      <th>Automotive &amp; Transportation</th>\n",
        "      <td>   62</td>\n",
        "      <td>  1872.82</td>\n",
        "    </tr>\n",
        "    <tr>\n",
        "      <th>Risk &amp; Security</th>\n",
        "      <td>   27</td>\n",
        "      <td>   534.50</td>\n",
        "    </tr>\n",
        "    <tr>\n",
        "      <th>Food &amp; Beverages</th>\n",
        "      <td>   23</td>\n",
        "      <td>   302.34</td>\n",
        "    </tr>\n",
        "    <tr>\n",
        "      <th>Media (Traditional)</th>\n",
        "      <td>   19</td>\n",
        "      <td>   511.45</td>\n",
        "    </tr>\n",
        "    <tr>\n",
        "      <th>Retail (non-internet/mobile)</th>\n",
        "      <td>    9</td>\n",
        "      <td>   150.58</td>\n",
        "    </tr>\n",
        "    <tr>\n",
        "      <th>Agriculture</th>\n",
        "      <td>    8</td>\n",
        "      <td>   138.26</td>\n",
        "    </tr>\n",
        "    <tr>\n",
        "      <th>Environmental Services &amp; Equipment</th>\n",
        "      <td>    7</td>\n",
        "      <td>   101.43</td>\n",
        "    </tr>\n",
        "    <tr>\n",
        "      <th>Metals &amp; Mining</th>\n",
        "      <td>    3</td>\n",
        "      <td>   296.30</td>\n",
        "    </tr>\n",
        "    <tr>\n",
        "      <th>Leisure</th>\n",
        "      <td>    2</td>\n",
        "      <td>    14.82</td>\n",
        "    </tr>\n",
        "  </tbody>\n",
        "</table>\n",
        "</div>"
       ],
       "metadata": {},
       "output_type": "pyout",
       "prompt_number": 125,
       "text": [
        "                                    round_mapping  sum_series\n",
        "sector                                                       \n",
        "Internet                                     3852    60796.35\n",
        "Mobile & Telecommunications                  1510    30962.49\n",
        "Software (non-internet/mobile)                804    12549.67\n",
        "Healthcare                                    770    15640.42\n",
        "Computer Hardware & Services                  571    10639.22\n",
        "Electronics                                   466     8224.48\n",
        "Energy & Utilities                            305     8271.54\n",
        "Business Products & Services                  159     2895.69\n",
        "Industrial                                    133     2069.88\n",
        "Consumer Products & Services                  117     1481.71\n",
        "Financial                                     103     2009.19\n",
        "Automotive & Transportation                    62     1872.82\n",
        "Risk & Security                                27      534.50\n",
        "Food & Beverages                               23      302.34\n",
        "Media (Traditional)                            19      511.45\n",
        "Retail (non-internet/mobile)                    9      150.58\n",
        "Agriculture                                     8      138.26\n",
        "Environmental Services & Equipment              7      101.43\n",
        "Metals & Mining                                 3      296.30\n",
        "Leisure                                         2       14.82"
       ]
      }
     ],
     "prompt_number": 125
    },
    {
     "cell_type": "code",
     "collapsed": false,
     "input": [
      "#number of funding rounds by stage\n",
      "\n",
      "stage_sort = investments.groupby('round_mapping').id_company.count().reset_index() #reset index turns it into a dataframe\n",
      "stage_sort = stage_sort.sort('id_company', ascending = 0) #this sorts the data \n",
      "stage_sort"
     ],
     "language": "python",
     "metadata": {},
     "outputs": [
      {
       "html": [
        "<div style=\"max-height:1000px;max-width:1500px;overflow:auto;\">\n",
        "<table border=\"1\" class=\"dataframe\">\n",
        "  <thead>\n",
        "    <tr style=\"text-align: right;\">\n",
        "      <th></th>\n",
        "      <th>round_mapping</th>\n",
        "      <th>id_company</th>\n",
        "    </tr>\n",
        "  </thead>\n",
        "  <tbody>\n",
        "    <tr>\n",
        "      <th>11</th>\n",
        "      <td>                      Series A</td>\n",
        "      <td> 2187</td>\n",
        "    </tr>\n",
        "    <tr>\n",
        "      <th>12</th>\n",
        "      <td>                      Series B</td>\n",
        "      <td> 2022</td>\n",
        "    </tr>\n",
        "    <tr>\n",
        "      <th>13</th>\n",
        "      <td>                      Series C</td>\n",
        "      <td> 1323</td>\n",
        "    </tr>\n",
        "    <tr>\n",
        "      <th>23</th>\n",
        "      <td>               Venture Capital</td>\n",
        "      <td> 1010</td>\n",
        "    </tr>\n",
        "    <tr>\n",
        "      <th>10</th>\n",
        "      <td>                       Seed VC</td>\n",
        "      <td>  973</td>\n",
        "    </tr>\n",
        "    <tr>\n",
        "      <th>14</th>\n",
        "      <td>                      Series D</td>\n",
        "      <td>  666</td>\n",
        "    </tr>\n",
        "    <tr>\n",
        "      <th>15</th>\n",
        "      <td>                      Series E</td>\n",
        "      <td>  299</td>\n",
        "    </tr>\n",
        "    <tr>\n",
        "      <th>4 </th>\n",
        "      <td>                          Debt</td>\n",
        "      <td>   97</td>\n",
        "    </tr>\n",
        "    <tr>\n",
        "      <th>16</th>\n",
        "      <td>                      Series F</td>\n",
        "      <td>   90</td>\n",
        "    </tr>\n",
        "    <tr>\n",
        "      <th>5 </th>\n",
        "      <td>                 Growth Equity</td>\n",
        "      <td>   89</td>\n",
        "    </tr>\n",
        "    <tr>\n",
        "      <th>9 </th>\n",
        "      <td>                          Seed</td>\n",
        "      <td>   46</td>\n",
        "    </tr>\n",
        "    <tr>\n",
        "      <th>17</th>\n",
        "      <td>                      Series G</td>\n",
        "      <td>   35</td>\n",
        "    </tr>\n",
        "    <tr>\n",
        "      <th>22</th>\n",
        "      <td>                   Undisclosed</td>\n",
        "      <td>   33</td>\n",
        "    </tr>\n",
        "    <tr>\n",
        "      <th>0 </th>\n",
        "      <td>                         Angel</td>\n",
        "      <td>   23</td>\n",
        "    </tr>\n",
        "    <tr>\n",
        "      <th>2 </th>\n",
        "      <td>              Convertible Note</td>\n",
        "      <td>   22</td>\n",
        "    </tr>\n",
        "    <tr>\n",
        "      <th>8 </th>\n",
        "      <td>                Private Equity</td>\n",
        "      <td>   14</td>\n",
        "    </tr>\n",
        "    <tr>\n",
        "      <th>7 </th>\n",
        "      <td>                     Mezzanine</td>\n",
        "      <td>    6</td>\n",
        "    </tr>\n",
        "    <tr>\n",
        "      <th>1 </th>\n",
        "      <td>                        Bridge</td>\n",
        "      <td>    6</td>\n",
        "    </tr>\n",
        "    <tr>\n",
        "      <th>18</th>\n",
        "      <td>                      Series H</td>\n",
        "      <td>    6</td>\n",
        "    </tr>\n",
        "    <tr>\n",
        "      <th>19</th>\n",
        "      <td>                      Series I</td>\n",
        "      <td>    4</td>\n",
        "    </tr>\n",
        "    <tr>\n",
        "      <th>3 </th>\n",
        "      <td> Corporate-Venture Partnership</td>\n",
        "      <td>    3</td>\n",
        "    </tr>\n",
        "    <tr>\n",
        "      <th>20</th>\n",
        "      <td>                      Series J</td>\n",
        "      <td>    3</td>\n",
        "    </tr>\n",
        "    <tr>\n",
        "      <th>21</th>\n",
        "      <td>                      Series K</td>\n",
        "      <td>    2</td>\n",
        "    </tr>\n",
        "    <tr>\n",
        "      <th>6 </th>\n",
        "      <td>                Line of Credit</td>\n",
        "      <td>    1</td>\n",
        "    </tr>\n",
        "  </tbody>\n",
        "</table>\n",
        "</div>"
       ],
       "metadata": {},
       "output_type": "pyout",
       "prompt_number": 126,
       "text": [
        "                    round_mapping  id_company\n",
        "11                       Series A        2187\n",
        "12                       Series B        2022\n",
        "13                       Series C        1323\n",
        "23                Venture Capital        1010\n",
        "10                        Seed VC         973\n",
        "14                       Series D         666\n",
        "15                       Series E         299\n",
        "4                            Debt          97\n",
        "16                       Series F          90\n",
        "5                   Growth Equity          89\n",
        "9                            Seed          46\n",
        "17                       Series G          35\n",
        "22                    Undisclosed          33\n",
        "0                           Angel          23\n",
        "2                Convertible Note          22\n",
        "8                  Private Equity          14\n",
        "7                       Mezzanine           6\n",
        "1                          Bridge           6\n",
        "18                       Series H           6\n",
        "19                       Series I           4\n",
        "3   Corporate-Venture Partnership           3\n",
        "20                       Series J           3\n",
        "21                       Series K           2\n",
        "6                  Line of Credit           1"
       ]
      }
     ],
     "prompt_number": 126
    },
    {
     "cell_type": "heading",
     "level": 3,
     "metadata": {},
     "source": [
      "Box Plot by Round & Average Round Size -- Series A, Series B, & Series C"
     ]
    },
    {
     "cell_type": "code",
     "collapsed": false,
     "input": [
      "#series A amounts\n",
      "series = investments[['round_mapping','country','amount']]\n",
      "series_a = series[series['round_mapping'] == 'Series A']\n",
      "print series_a.boxplot()"
     ],
     "language": "python",
     "metadata": {},
     "outputs": [
      {
       "output_type": "stream",
       "stream": "stdout",
       "text": [
        "{'boxes': [<matplotlib.lines.Line2D object at 0x000000000ECADD68>], 'fliers': [<matplotlib.lines.Line2D object at 0x000000000EACEA58>], 'medians': [<matplotlib.lines.Line2D object at 0x000000000EACE400>], 'means': [], 'whiskers': [<matplotlib.lines.Line2D object at 0x000000000ECAD080>, <matplotlib.lines.Line2D object at 0x000000000ECAD470>], 'caps': [<matplotlib.lines.Line2D object at 0x000000000ECAD390>, <matplotlib.lines.Line2D object at 0x000000000ECAD2E8>]}\n"
       ]
      },
      {
       "metadata": {},
       "output_type": "display_data",
       "png": "[encoded data removed]",
       "text": [
        "<matplotlib.figure.Figure at 0xe6f9c88>"
       ]
      }
     ],
     "prompt_number": 127
    },
    {
     "cell_type": "code",
     "collapsed": false,
     "input": [
      "sa = series_a.mean()\n",
      "\n",
      "print \"Overall average Series A round size is $ %i M\" %sa"
     ],
     "language": "python",
     "metadata": {},
     "outputs": [
      {
       "output_type": "stream",
       "stream": "stdout",
       "text": [
        "Overall average Series A round size is $ 10 M\n"
       ]
      }
     ],
     "prompt_number": 128
    },
    {
     "cell_type": "code",
     "collapsed": false,
     "input": [
      "#series B amounts \n",
      "series_b = series[series['round_mapping'] == 'Series B']\n",
      "print series_b.boxplot();"
     ],
     "language": "python",
     "metadata": {},
     "outputs": [
      {
       "output_type": "stream",
       "stream": "stdout",
       "text": [
        "{'boxes': [<matplotlib.lines.Line2D object at 0x000000000EFB6470>], 'fliers': [<matplotlib.lines.Line2D object at 0x000000000E8C9BE0>], 'medians': [<matplotlib.lines.Line2D object at 0x000000000E8C9198>], 'means': [], 'whiskers': [<matplotlib.lines.Line2D object at 0x000000000EFB6860>, <matplotlib.lines.Line2D object at 0x000000000EFB6BE0>], 'caps': [<matplotlib.lines.Line2D object at 0x000000000EFB60F0>, <matplotlib.lines.Line2D object at 0x000000000E8C9080>]}\n"
       ]
      },
      {
       "metadata": {},
       "output_type": "display_data",
       "png": "[encoded data removed]",
       "text": [
        "<matplotlib.figure.Figure at 0xecc10f0>"
       ]
      }
     ],
     "prompt_number": 129
    },
    {
     "cell_type": "code",
     "collapsed": false,
     "input": [
      "sb = series_b.mean()\n",
      "\n",
      "print \"Average Series B round size is $ %i M\" %sb"
     ],
     "language": "python",
     "metadata": {},
     "outputs": [
      {
       "output_type": "stream",
       "stream": "stdout",
       "text": [
        "Average Series B round size is $ 19 M\n"
       ]
      }
     ],
     "prompt_number": 130
    },
    {
     "cell_type": "code",
     "collapsed": false,
     "input": [
      "#Series C amounts \n",
      "series_c = series[series['round_mapping'] == 'Series C']\n",
      "print series_c.boxplot();"
     ],
     "language": "python",
     "metadata": {},
     "outputs": [
      {
       "output_type": "stream",
       "stream": "stdout",
       "text": [
        "{'boxes': [<matplotlib.lines.Line2D object at 0x000000000EAB9DD8>], 'fliers': [<matplotlib.lines.Line2D object at 0x000000000E612EF0>], 'medians': [<matplotlib.lines.Line2D object at 0x000000000E612518>], 'means': [], 'whiskers': [<matplotlib.lines.Line2D object at 0x000000000EAB96A0>, <matplotlib.lines.Line2D object at 0x000000000EAB9AC8>], 'caps': [<matplotlib.lines.Line2D object at 0x000000000EB9F5C0>, <matplotlib.lines.Line2D object at 0x000000000EB9F400>]}\n"
       ]
      },
      {
       "metadata": {},
       "output_type": "display_data",
       "png": "[encoded data removed]",
       "text": [
        "<matplotlib.figure.Figure at 0xe8b5860>"
       ]
      }
     ],
     "prompt_number": 131
    },
    {
     "cell_type": "code",
     "collapsed": false,
     "input": [
      "sc = series_c.mean()\n",
      "print \"Average Series C round size is $ %i M\" %sc;"
     ],
     "language": "python",
     "metadata": {},
     "outputs": [
      {
       "output_type": "stream",
       "stream": "stdout",
       "text": [
        "Average Series C round size is $ 25 M\n"
       ]
      }
     ],
     "prompt_number": 132
    },
    {
     "cell_type": "heading",
     "level": 3,
     "metadata": {},
     "source": [
      "Sandbox - Ignore"
     ]
    },
    {
     "cell_type": "code",
     "collapsed": false,
     "input": [
      "#would love to figure out how to do average round size by round by year as well as figure out a way to calculate time between funding\n",
      "#or at least time between funding and exit"
     ],
     "language": "python",
     "metadata": {},
     "outputs": [],
     "prompt_number": 133
    },
    {
     "cell_type": "code",
     "collapsed": false,
     "input": [
      "# DONE-add geography to doc  \n",
      "# -bar chart of rounds by round type \n",
      "# -average amount raised by round type \n",
      "\n",
      "# DONE -histogram of fundings by year\n",
      "# -histogram of total amount by year of first funding\n",
      "# -how many funding rounds per investor. <- maybe remove investor piece and just concentrate on companies exits? \n",
      "# -count rounds by investor \n",
      "# -bar chart of stage by investors \n",
      "#   -what stage is the investor. Is their avg amount at that stage higher or lower than average \n",
      "\n",
      "# -copy data and drop dup investor & company - how many unique companies per investor\n",
      "\n",
      "# - add exit rounds\n",
      "# -join to company so in the end we have ratio of invested in to exited "
     ],
     "language": "python",
     "metadata": {},
     "outputs": [],
     "prompt_number": 134
    },
    {
     "cell_type": "code",
     "collapsed": false,
     "input": [
      "#doing average by us vs intl...\n",
      "\n",
      "# series_a_us = series_a[series_a['country'] == 'United States']\n",
      "# sa_us = series_a_us.mean()\n",
      "# print \"Average Series A round size in the U.S. is $ %i M\" %sa_us"
     ],
     "language": "python",
     "metadata": {},
     "outputs": [],
     "prompt_number": 135
    },
    {
     "cell_type": "code",
     "collapsed": false,
     "input": [
      "#within this data set, most companies are within the internet sector \n",
      "\n",
      "sector_sort = investments.groupby('sector').id_company.count().reset_index() #reset index turns it into a dataframe\n",
      "sector_sort = sector_sort.sort('id_company', ascending = 0) #this sorts the data \n",
      "print sector_sort"
     ],
     "language": "python",
     "metadata": {},
     "outputs": [
      {
       "output_type": "stream",
       "stream": "stdout",
       "text": [
        "                                sector  id_company\n",
        "12                            Internet        3852\n",
        "16         Mobile & Telecommunications        1510\n",
        "19      Software (non-internet/mobile)         804\n",
        "10                          Healthcare         770\n",
        "3         Computer Hardware & Services         571\n",
        "5                          Electronics         466\n",
        "6                   Energy & Utilities         305\n",
        "2         Business Products & Services         159\n",
        "11                          Industrial         133\n",
        "4         Consumer Products & Services         117\n",
        "8                            Financial         103\n",
        "1          Automotive & Transportation          62\n",
        "18                     Risk & Security          27\n",
        "9                     Food & Beverages          23\n",
        "14                 Media (Traditional)          19\n",
        "17        Retail (non-internet/mobile)           9\n",
        "0                          Agriculture           8\n",
        "7   Environmental Services & Equipment           7\n",
        "15                     Metals & Mining           3\n",
        "13                             Leisure           2\n"
       ]
      }
     ],
     "prompt_number": 136
    }
   ],
   "metadata": {}
  }
 ]
}