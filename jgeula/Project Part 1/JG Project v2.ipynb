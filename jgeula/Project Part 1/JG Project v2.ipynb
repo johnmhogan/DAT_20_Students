{
 "metadata": {
  "name": "",
  "signature": "sha256:01ded431ec206fa9acc67599b2c94f5037592e4df66e4a0bc16aa0255350c799"
 },
 "nbformat": 3,
 "nbformat_minor": 0,
 "worksheets": [
  {
   "cells": [
    {
     "cell_type": "heading",
     "level": 3,
     "metadata": {},
     "source": [
      "This data set looks at startups that received a seed round in 2009. The data set includes information around the company, the total amount raised and number of funding rounds, as well as an indicator to denote exits (outcome)."
     ]
    },
    {
     "cell_type": "code",
     "collapsed": false,
     "input": [
      "import numpy as np\n",
      "import pandas as pd\n",
      "import matplotlib.pyplot as plt\n",
      "import datetime\n",
      "\n",
      "\n",
      "%matplotlib inline"
     ],
     "language": "python",
     "metadata": {},
     "outputs": [],
     "prompt_number": 3
    },
    {
     "cell_type": "heading",
     "level": 3,
     "metadata": {},
     "source": [
      "Reading in the data & Quick Exploration"
     ]
    },
    {
     "cell_type": "code",
     "collapsed": false,
     "input": [
      "inv = pd.read_csv(\"Raw_Data_v2.csv\")\n",
      "# print inv.head()\n",
      "print inv.columns\n",
      "print inv.shape\n",
      "\n",
      "# data has 620 rows and 14 columns"
     ],
     "language": "python",
     "metadata": {},
     "outputs": [
      {
       "output_type": "stream",
       "stream": "stdout",
       "text": [
        "Index([u'id_company', u'id_funding', u'vc_backed', u'City', u'State', u'Country', u'US_vs_Intl', u'Sector', u'Amount', u'Month_Year', u'Round', u'Total_Rounds', u'Total_Amount', u'Exit'], dtype='object')\n",
        "(620, 14)\n"
       ]
      }
     ],
     "prompt_number": 4
    },
    {
     "cell_type": "code",
     "collapsed": false,
     "input": [
      "#most companies only have 1 - 2 rounds \n",
      "\n",
      "inv.Total_Rounds.astype(float).hist()"
     ],
     "language": "python",
     "metadata": {},
     "outputs": [
      {
       "metadata": {},
       "output_type": "pyout",
       "prompt_number": 5,
       "text": [
        "<matplotlib.axes._subplots.AxesSubplot at 0xc5c85c0>"
       ]
      },
      {
       "metadata": {},
       "output_type": "display_data",
       "png": "[encoded data removed]",
       "text": [
        "<matplotlib.figure.Figure at 0x3eb5b38>"
       ]
      }
     ],
     "prompt_number": 5
    },
    {
     "cell_type": "code",
     "collapsed": false,
     "input": [
      "#~1 in 5 companies exit \n",
      "\n",
      "inv.Exit.astype(float).hist()"
     ],
     "language": "python",
     "metadata": {},
     "outputs": [
      {
       "metadata": {},
       "output_type": "pyout",
       "prompt_number": 6,
       "text": [
        "<matplotlib.axes._subplots.AxesSubplot at 0x3eb58d0>"
       ]
      },
      {
       "metadata": {},
       "output_type": "display_data",
       "png": "[encoded data removed]",
       "text": [
        "<matplotlib.figure.Figure at 0xc7e9940>"
       ]
      }
     ],
     "prompt_number": 6
    },
    {
     "cell_type": "code",
     "collapsed": false,
     "input": [
      "#114 companies exited, to be more precise \n",
      "\n",
      "inv.Exit.sum()"
     ],
     "language": "python",
     "metadata": {},
     "outputs": [
      {
       "metadata": {},
       "output_type": "pyout",
       "prompt_number": 7,
       "text": [
        "114"
       ]
      }
     ],
     "prompt_number": 7
    },
    {
     "cell_type": "code",
     "collapsed": false,
     "input": [
      "#More Internet companies than anything\n",
      "\n",
      "groupby1 = inv.groupby('Sector')\n",
      "\n",
      "new = pd.DataFrame(groupby1.id_company.count())\n",
      "new_sort = new.sort('id_company', ascending = 0)\n",
      "print new_sort"
     ],
     "language": "python",
     "metadata": {},
     "outputs": [
      {
       "output_type": "stream",
       "stream": "stdout",
       "text": [
        "                                    id_company\n",
        "Sector                                        \n",
        "Internet                                   312\n",
        "Healthcare                                  86\n",
        "Mobile & Telecommunications                 54\n",
        "Software (non-internet/mobile)              26\n",
        "Industrial                                  26\n",
        "Consumer Products & Services                23\n",
        "Energy & Utilities                          16\n",
        "Electronics                                 14\n",
        "Business Products & Services                10\n",
        "Computer Hardware & Services                 9\n",
        "Leisure                                      6\n",
        "Automotive & Transportation                  6\n",
        "Financial                                    6\n",
        "Food & Beverages                             6\n",
        "Environmental Services & Equipment           1\n",
        "Retail (non-internet/mobile)                 1\n",
        "Risk & Security                              1\n"
       ]
      }
     ],
     "prompt_number": 8
    },
    {
     "cell_type": "code",
     "collapsed": false,
     "input": [
      "#US, UK & Canada are top 3 countries \n",
      "\n",
      "groupby2 = inv.groupby('Country')\n",
      "\n",
      "new2 = pd.DataFrame(groupby2.id_company.count())\n",
      "new2_sort = new2.sort('id_company', ascending = 0)\n",
      "print new2_sort"
     ],
     "language": "python",
     "metadata": {},
     "outputs": [
      {
       "output_type": "stream",
       "stream": "stdout",
       "text": [
        "                    id_company\n",
        "Country                       \n",
        "United States              493\n",
        "United Kingdom              32\n",
        "Canada                      20\n",
        "Germany                     13\n",
        "Israel                      10\n",
        "France                       7\n",
        "Netherlands                  4\n",
        "Ireland                      3\n",
        "Switzerland                  3\n",
        "Spain                        3\n",
        "Austria                      2\n",
        "Finland                      2\n",
        "Belgium                      2\n",
        "India                        2\n",
        "Russian Federation           2\n",
        "Singapore                    2\n",
        "South Africa                 1\n",
        "Ukraine                      1\n",
        "Sweden                       1\n",
        "China                        1\n",
        "Philippines                  1\n",
        "Croatia                      1\n",
        "Japan                        1\n",
        "Australia                    1\n",
        "Denmark                      1\n",
        "Argentina                    1\n"
       ]
      }
     ],
     "prompt_number": 9
    },
    {
     "cell_type": "code",
     "collapsed": false,
     "input": [
      "box_amount = inv[['Amount']]\n",
      "print box_amount.boxplot()\n",
      "print box_amount.mean()"
     ],
     "language": "python",
     "metadata": {},
     "outputs": [
      {
       "output_type": "stream",
       "stream": "stdout",
       "text": [
        "{'boxes': [<matplotlib.lines.Line2D object at 0x000000000CD58160>], 'fliers': [<matplotlib.lines.Line2D object at 0x000000000CD67F98>], 'medians': [<matplotlib.lines.Line2D object at 0x000000000CD67A20>], 'means': [], 'whiskers': [<matplotlib.lines.Line2D object at 0x000000000CD58390>, <matplotlib.lines.Line2D object at 0x000000000CD58978>], 'caps': [<matplotlib.lines.Line2D object at 0x000000000CD58EF0>, <matplotlib.lines.Line2D object at 0x000000000CD674A8>]}\n",
        "Amount    0.882259\n",
        "dtype: float64\n"
       ]
      },
      {
       "output_type": "stream",
       "stream": "stderr",
       "text": [
        "C:\\Users\\JG Cbi\\Anaconda\\lib\\site-packages\\pandas\\tools\\plotting.py:2380: FutureWarning: \n",
        "The default value for 'return_type' will change to 'axes' in a future release.\n",
        " To use the future behavior now, set return_type='axes'.\n",
        " To keep the previous behavior and silence this warning, set return_type='dict'.\n",
        "  warnings.warn(msg, FutureWarning)\n"
       ]
      },
      {
       "metadata": {},
       "output_type": "display_data",
       "png": "[encoded data removed]",
       "text": [
        "<matplotlib.figure.Figure at 0xcb05780>"
       ]
      }
     ],
     "prompt_number": 10
    },
    {
     "cell_type": "heading",
     "level": 3,
     "metadata": {},
     "source": [
      "Supervised Learning"
     ]
    },
    {
     "cell_type": "markdown",
     "metadata": {},
     "source": [
      "Here are the steps I would take to do a random forest: \n",
      "    \n",
      "1. Figure out what features I want to use using feature selection (possibly via correlation coeffecients)\n",
      "    * could do a brute force and try and find some score (I can't remember which specifically) with all of the features. Then remove one feature, see if the score goes up. Do the same and see what combo of features gives the highest score. \n",
      "2. From here, run a train test split to split the data into testing and training data. Can specify the split (30% train, etc.)\n",
      "3. From what I've learned in class, this data set would benefit from a Decision Tree analysis. The issue with this is that Decision Trees overfit, so to be more accurate, it would be best to do a Random Forrest. \n",
      "3. I wasn't in the class for random forest, but from what I know about Decision Trees, I need to figure out how many levels down the decision tree will go (3 levels? 4 levels? etc.)\n",
      "4. From here, go back and score the results of running the training data through the Random Forrest. Can use a confusion matrix, can also run all the scores (like accuracy, etc.)\n",
      "5. Then run this on the test data and see what the results are. Run the scores for this. If it's A LOT lower than the training data, then need to re-evaluate the features, the model, etc. \n",
      "\n"
     ]
    },
    {
     "cell_type": "markdown",
     "metadata": {},
     "source": [
      "1. Target variable = Exit \n",
      "2. Features = vc_backed indicator, state, country, us vs intl, sector, amount in seed round, month/year, round, total rounds raised, total amoun\n"
     ]
    },
    {
     "cell_type": "code",
     "collapsed": false,
     "input": [
      "inv.describe()\n",
      "#fill in NA values of amount with median of that column \n",
      "#drop anything without a total amount \n",
      "#inv.dropna(subset='Amount')\n",
      "\n"
     ],
     "language": "python",
     "metadata": {},
     "outputs": [
      {
       "html": [
        "<div style=\"max-height:1000px;max-width:1500px;overflow:auto;\">\n",
        "<table border=\"1\" class=\"dataframe\">\n",
        "  <thead>\n",
        "    <tr style=\"text-align: right;\">\n",
        "      <th></th>\n",
        "      <th>id_company</th>\n",
        "      <th>id_funding</th>\n",
        "      <th>vc_backed</th>\n",
        "      <th>US_vs_Intl</th>\n",
        "      <th>Amount</th>\n",
        "      <th>Total_Rounds</th>\n",
        "      <th>Total_Amount</th>\n",
        "      <th>Exit</th>\n",
        "    </tr>\n",
        "  </thead>\n",
        "  <tbody>\n",
        "    <tr>\n",
        "      <th>count</th>\n",
        "      <td>    620.000000</td>\n",
        "      <td>    620.000000</td>\n",
        "      <td> 620.000000</td>\n",
        "      <td> 620.000000</td>\n",
        "      <td> 456.000000</td>\n",
        "      <td> 620.000000</td>\n",
        "      <td>  513.000000</td>\n",
        "      <td> 620.000000</td>\n",
        "    </tr>\n",
        "    <tr>\n",
        "      <th>mean</th>\n",
        "      <td>  40146.001613</td>\n",
        "      <td>  58684.120968</td>\n",
        "      <td>   0.645161</td>\n",
        "      <td>   0.795161</td>\n",
        "      <td>   0.882259</td>\n",
        "      <td>   2.900000</td>\n",
        "      <td>   28.856316</td>\n",
        "      <td>   0.183871</td>\n",
        "    </tr>\n",
        "    <tr>\n",
        "      <th>std</th>\n",
        "      <td>  28328.537870</td>\n",
        "      <td>  44308.671432</td>\n",
        "      <td>   0.478851</td>\n",
        "      <td>   0.403910</td>\n",
        "      <td>   1.658476</td>\n",
        "      <td>   2.245009</td>\n",
        "      <td>  250.855645</td>\n",
        "      <td>   0.387692</td>\n",
        "    </tr>\n",
        "    <tr>\n",
        "      <th>min</th>\n",
        "      <td>    295.000000</td>\n",
        "      <td>   1861.000000</td>\n",
        "      <td>   0.000000</td>\n",
        "      <td>   0.000000</td>\n",
        "      <td>   0.010000</td>\n",
        "      <td>   1.000000</td>\n",
        "      <td>    0.010000</td>\n",
        "      <td>   0.000000</td>\n",
        "    </tr>\n",
        "    <tr>\n",
        "      <th>25%</th>\n",
        "      <td>  21451.000000</td>\n",
        "      <td>  18983.500000</td>\n",
        "      <td>   0.000000</td>\n",
        "      <td>   1.000000</td>\n",
        "      <td>   0.127500</td>\n",
        "      <td>   1.000000</td>\n",
        "      <td>    0.500000</td>\n",
        "      <td>   0.000000</td>\n",
        "    </tr>\n",
        "    <tr>\n",
        "      <th>50%</th>\n",
        "      <td>  28458.500000</td>\n",
        "      <td>  68725.500000</td>\n",
        "      <td>   1.000000</td>\n",
        "      <td>   1.000000</td>\n",
        "      <td>   0.500000</td>\n",
        "      <td>   2.000000</td>\n",
        "      <td>    2.820000</td>\n",
        "      <td>   0.000000</td>\n",
        "    </tr>\n",
        "    <tr>\n",
        "      <th>75%</th>\n",
        "      <td>  51920.250000</td>\n",
        "      <td>  90135.250000</td>\n",
        "      <td>   1.000000</td>\n",
        "      <td>   1.000000</td>\n",
        "      <td>   1.000000</td>\n",
        "      <td>   4.000000</td>\n",
        "      <td>   12.810000</td>\n",
        "      <td>   0.000000</td>\n",
        "    </tr>\n",
        "    <tr>\n",
        "      <th>max</th>\n",
        "      <td> 228817.000000</td>\n",
        "      <td> 186401.000000</td>\n",
        "      <td>   1.000000</td>\n",
        "      <td>   1.000000</td>\n",
        "      <td>  25.000000</td>\n",
        "      <td>  13.000000</td>\n",
        "      <td> 5508.740000</td>\n",
        "      <td>   1.000000</td>\n",
        "    </tr>\n",
        "  </tbody>\n",
        "</table>\n",
        "</div>"
       ],
       "metadata": {},
       "output_type": "pyout",
       "prompt_number": 11,
       "text": [
        "          id_company     id_funding   vc_backed  US_vs_Intl      Amount  \\\n",
        "count     620.000000     620.000000  620.000000  620.000000  456.000000   \n",
        "mean    40146.001613   58684.120968    0.645161    0.795161    0.882259   \n",
        "std     28328.537870   44308.671432    0.478851    0.403910    1.658476   \n",
        "min       295.000000    1861.000000    0.000000    0.000000    0.010000   \n",
        "25%     21451.000000   18983.500000    0.000000    1.000000    0.127500   \n",
        "50%     28458.500000   68725.500000    1.000000    1.000000    0.500000   \n",
        "75%     51920.250000   90135.250000    1.000000    1.000000    1.000000   \n",
        "max    228817.000000  186401.000000    1.000000    1.000000   25.000000   \n",
        "\n",
        "       Total_Rounds  Total_Amount        Exit  \n",
        "count    620.000000    513.000000  620.000000  \n",
        "mean       2.900000     28.856316    0.183871  \n",
        "std        2.245009    250.855645    0.387692  \n",
        "min        1.000000      0.010000    0.000000  \n",
        "25%        1.000000      0.500000    0.000000  \n",
        "50%        2.000000      2.820000    0.000000  \n",
        "75%        4.000000     12.810000    0.000000  \n",
        "max       13.000000   5508.740000    1.000000  "
       ]
      }
     ],
     "prompt_number": 11
    },
    {
     "cell_type": "code",
     "collapsed": false,
     "input": [
      "x = inv[['vc_backed','US_vs_Intl','Total_Rounds','Total_Amount']]\n",
      "y = inv['Exit']"
     ],
     "language": "python",
     "metadata": {},
     "outputs": [],
     "prompt_number": 12
    },
    {
     "cell_type": "code",
     "collapsed": false,
     "input": [
      "from sklearn.tree import DecisionTreeClassifier\n",
      "from sklearn.cross_validation import cross_val_score\n",
      "from sklearn.grid_search import GridSearchCV"
     ],
     "language": "python",
     "metadata": {},
     "outputs": [],
     "prompt_number": 13
    }
   ],
   "metadata": {}
  }
 ]
}