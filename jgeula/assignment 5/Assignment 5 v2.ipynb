{
 "metadata": {
  "name": "",
  "signature": "sha256:c06279c13207f0db314cbb1f2eabc11f1346bf5b78a60501a19d55609af41fe8"
 },
 "nbformat": 3,
 "nbformat_minor": 0,
 "worksheets": [
  {
   "cells": [
    {
     "cell_type": "markdown",
     "metadata": {},
     "source": [
      "## Part I. \n",
      "1. Read in the bikeshare data to a pandas dataframe just as you did for the previous assignment.\n",
      "2. Split the dataframe horizontally into two separate dataframes each having N/2 rows. Call the dataframe with first N/2 rows `bikeshare_train`, and the latter half `bikeshare_test`  \n",
      "3. Using the `bikeshare_train` dataframe run a regression with `cnt` as our target variable, and `temp`, `atemp`, `hum`, `workingday`, `hour`, `weathersit` as the feature variables. Specify the R^2 value.\n",
      "We'll call this our **training model** The resulting model should have one more coefficient than the number of feature variables.\n",
      "4. Describe the error (in terms of R^2) between the model you just calculated and the **bikeshare_test**. Is this higher or lower than the R^2 of the previous step? What's the reason for this difference?\n",
      "5. Create a binary variable for rush hour defined by 6-9am & 4-6pm.\n",
      "6. Run the regression again. Using a similar process used in steps 2 and 3, assert whether this improves the results or not. Why? (You should be able to explain this quantitatively) \n",
      "\n",
      "## Part II:\n",
      "\n",
      "Provide answers to these questions in your own words:\n",
      "\n",
      "1. The error you calculated in step 4 is called generalization error. Explain why it's called generalization error and why it's important when evaluating our regression model. \n",
      "2. Of the features you used for regression above, which one best explains `cnt`?\n",
      "3. Which variables in the dataset are correlated and how do these affect your regression?\n",
      "4. How would the p-value of our regression change as we took smaller subsets of the dataframe to build our training model?  \n"
     ]
    },
    {
     "cell_type": "heading",
     "level": 3,
     "metadata": {},
     "source": [
      "Part I"
     ]
    },
    {
     "cell_type": "code",
     "collapsed": false,
     "input": [
      "%%html\n",
      "<link rel=\"stylesheet\" href=\"static/hyrule.css\" type=\"text/css\">"
     ],
     "language": "python",
     "metadata": {},
     "outputs": [
      {
       "html": [
        "<link rel=\"stylesheet\" href=\"static/hyrule.css\" type=\"text/css\">"
       ],
       "metadata": {},
       "output_type": "display_data",
       "text": [
        "<IPython.core.display.HTML at 0x42a9fd0>"
       ]
      }
     ],
     "prompt_number": 1
    },
    {
     "cell_type": "code",
     "collapsed": false,
     "input": [
      "%matplotlib inline\n",
      "\n",
      "import pandas as pd\n",
      "import numpy as np\n",
      "import matplotlib.pyplot as plt \n",
      "import statsmodels.formula.api as smf\n",
      "import statsmodels.api as sm\n",
      "from sklearn.cross_validation import train_test_split\n",
      "from sklearn.linear_model import LinearRegression\n",
      "\n",
      "pd.set_option('display.max_rows', 500)\n",
      "pd.set_option('display.max_columns', 500)\n",
      "pd.set_option('display.width', 1000)\n",
      "pd.options.display.mpl_style = 'default'"
     ],
     "language": "python",
     "metadata": {},
     "outputs": [],
     "prompt_number": 3
    },
    {
     "cell_type": "heading",
     "level": 6,
     "metadata": {},
     "source": [
      "Read in the bikeshare data to a pandas dataframe just as you did for the previous assignment."
     ]
    },
    {
     "cell_type": "code",
     "collapsed": false,
     "input": [
      "url = 'https://raw.githubusercontent.com/ga-students/DAT_20_NYC/master/Data/bikeshare.csv?token=AK040kz67IfRKqnqLIDra0xM8mmNLjvNks5VLYiywA%3D%3D'\n",
      "data = pd.read_csv(url, header=0, na_values='?')"
     ],
     "language": "python",
     "metadata": {},
     "outputs": [],
     "prompt_number": 4
    },
    {
     "cell_type": "code",
     "collapsed": false,
     "input": [
      "data.head()"
     ],
     "language": "python",
     "metadata": {},
     "outputs": [
      {
       "html": [
        "<div style=\"max-height:1000px;max-width:1500px;overflow:auto;\">\n",
        "<table border=\"1\" class=\"dataframe\">\n",
        "  <thead>\n",
        "    <tr style=\"text-align: right;\">\n",
        "      <th></th>\n",
        "      <th>instant</th>\n",
        "      <th>dteday</th>\n",
        "      <th>season</th>\n",
        "      <th>yr</th>\n",
        "      <th>mnth</th>\n",
        "      <th>hr</th>\n",
        "      <th>holiday</th>\n",
        "      <th>weekday</th>\n",
        "      <th>workingday</th>\n",
        "      <th>weathersit</th>\n",
        "      <th>temp</th>\n",
        "      <th>atemp</th>\n",
        "      <th>hum</th>\n",
        "      <th>windspeed</th>\n",
        "      <th>casual</th>\n",
        "      <th>registered</th>\n",
        "      <th>cnt</th>\n",
        "    </tr>\n",
        "  </thead>\n",
        "  <tbody>\n",
        "    <tr>\n",
        "      <th>0</th>\n",
        "      <td> 1</td>\n",
        "      <td> 2011-01-01</td>\n",
        "      <td> 1</td>\n",
        "      <td> 0</td>\n",
        "      <td> 1</td>\n",
        "      <td> 0</td>\n",
        "      <td> 0</td>\n",
        "      <td> 6</td>\n",
        "      <td> 0</td>\n",
        "      <td> 1</td>\n",
        "      <td> 0.24</td>\n",
        "      <td> 0.2879</td>\n",
        "      <td> 0.81</td>\n",
        "      <td> 0</td>\n",
        "      <td> 3</td>\n",
        "      <td> 13</td>\n",
        "      <td> 16</td>\n",
        "    </tr>\n",
        "    <tr>\n",
        "      <th>1</th>\n",
        "      <td> 2</td>\n",
        "      <td> 2011-01-01</td>\n",
        "      <td> 1</td>\n",
        "      <td> 0</td>\n",
        "      <td> 1</td>\n",
        "      <td> 1</td>\n",
        "      <td> 0</td>\n",
        "      <td> 6</td>\n",
        "      <td> 0</td>\n",
        "      <td> 1</td>\n",
        "      <td> 0.22</td>\n",
        "      <td> 0.2727</td>\n",
        "      <td> 0.80</td>\n",
        "      <td> 0</td>\n",
        "      <td> 8</td>\n",
        "      <td> 32</td>\n",
        "      <td> 40</td>\n",
        "    </tr>\n",
        "    <tr>\n",
        "      <th>2</th>\n",
        "      <td> 3</td>\n",
        "      <td> 2011-01-01</td>\n",
        "      <td> 1</td>\n",
        "      <td> 0</td>\n",
        "      <td> 1</td>\n",
        "      <td> 2</td>\n",
        "      <td> 0</td>\n",
        "      <td> 6</td>\n",
        "      <td> 0</td>\n",
        "      <td> 1</td>\n",
        "      <td> 0.22</td>\n",
        "      <td> 0.2727</td>\n",
        "      <td> 0.80</td>\n",
        "      <td> 0</td>\n",
        "      <td> 5</td>\n",
        "      <td> 27</td>\n",
        "      <td> 32</td>\n",
        "    </tr>\n",
        "    <tr>\n",
        "      <th>3</th>\n",
        "      <td> 4</td>\n",
        "      <td> 2011-01-01</td>\n",
        "      <td> 1</td>\n",
        "      <td> 0</td>\n",
        "      <td> 1</td>\n",
        "      <td> 3</td>\n",
        "      <td> 0</td>\n",
        "      <td> 6</td>\n",
        "      <td> 0</td>\n",
        "      <td> 1</td>\n",
        "      <td> 0.24</td>\n",
        "      <td> 0.2879</td>\n",
        "      <td> 0.75</td>\n",
        "      <td> 0</td>\n",
        "      <td> 3</td>\n",
        "      <td> 10</td>\n",
        "      <td> 13</td>\n",
        "    </tr>\n",
        "    <tr>\n",
        "      <th>4</th>\n",
        "      <td> 5</td>\n",
        "      <td> 2011-01-01</td>\n",
        "      <td> 1</td>\n",
        "      <td> 0</td>\n",
        "      <td> 1</td>\n",
        "      <td> 4</td>\n",
        "      <td> 0</td>\n",
        "      <td> 6</td>\n",
        "      <td> 0</td>\n",
        "      <td> 1</td>\n",
        "      <td> 0.24</td>\n",
        "      <td> 0.2879</td>\n",
        "      <td> 0.75</td>\n",
        "      <td> 0</td>\n",
        "      <td> 0</td>\n",
        "      <td>  1</td>\n",
        "      <td>  1</td>\n",
        "    </tr>\n",
        "  </tbody>\n",
        "</table>\n",
        "</div>"
       ],
       "metadata": {},
       "output_type": "pyout",
       "prompt_number": 5,
       "text": [
        "   instant      dteday  season  yr  mnth  hr  holiday  weekday  workingday  weathersit  temp   atemp   hum  windspeed  casual  registered  cnt\n",
        "0        1  2011-01-01       1   0     1   0        0        6           0           1  0.24  0.2879  0.81          0       3          13   16\n",
        "1        2  2011-01-01       1   0     1   1        0        6           0           1  0.22  0.2727  0.80          0       8          32   40\n",
        "2        3  2011-01-01       1   0     1   2        0        6           0           1  0.22  0.2727  0.80          0       5          27   32\n",
        "3        4  2011-01-01       1   0     1   3        0        6           0           1  0.24  0.2879  0.75          0       3          10   13\n",
        "4        5  2011-01-01       1   0     1   4        0        6           0           1  0.24  0.2879  0.75          0       0           1    1"
       ]
      }
     ],
     "prompt_number": 5
    },
    {
     "cell_type": "code",
     "collapsed": false,
     "input": [
      "print \"This data has %i rows.\" % data.shape[0]\n",
      "x = 17379/2\n",
      "print \"n/2 is %i.\" % x"
     ],
     "language": "python",
     "metadata": {},
     "outputs": [
      {
       "output_type": "stream",
       "stream": "stdout",
       "text": [
        "This data has 17379 rows.\n",
        "n/2 is 8689.\n"
       ]
      }
     ],
     "prompt_number": 6
    },
    {
     "cell_type": "code",
     "collapsed": false,
     "input": [
      "data = pd.DataFrame(data)\n",
      "#unsure if this is redundent, but just in case.."
     ],
     "language": "python",
     "metadata": {},
     "outputs": [],
     "prompt_number": 7
    },
    {
     "cell_type": "heading",
     "level": 6,
     "metadata": {},
     "source": [
      "Split the dataframe horizontally into two separate dataframes each having N/2 rows. Call the dataframe with first N/2 rows `bikeshare_train`, and the latter half `bikeshare_test` "
     ]
    },
    {
     "cell_type": "heading",
     "level": 6,
     "metadata": {},
     "source": [
      "Using the `bikeshare_train` dataframe run a regression with `cnt` as our target variable, and `temp`, `atemp`, `hum`, `workingday`, `hour`, `weathersit` as the feature variables. Specify the R^2 value.\n",
      "We'll call this our **training model** The resulting model should have one more coefficient than the number of feature variables."
     ]
    },
    {
     "cell_type": "code",
     "collapsed": false,
     "input": [
      "featured_cols = ['temp', 'atemp', 'hum','workingday','hr','weathersit']\n",
      "x = data[featured_cols]\n",
      "y = data.cnt \n",
      "\n",
      "#splitting the test and training data, doing it this way also randomizes it (rather than just splitting it in half manually)\n",
      "X_train, X_test, y_train, y_test = train_test_split(x, y, test_size=0.5)\n",
      "\n",
      "xx_train = X_train \n",
      "yy_train = y_train \n",
      "xx_test = X_test\n",
      "yy_test = y_test \n",
      "\n",
      "lm = LinearRegression()\n",
      "lm.fit(xx_train, yy_train)\n",
      "\n",
      "#coefficients and intercept\n",
      "print zip(featured_cols, lm.coef_)\n",
      "print \"Intercept:%s\" % lm.intercept_\n",
      "\n",
      "#r^2 of train and test \n",
      "print \"R-Squared of Training Data: %s\" % lm.score(xx_train, yy_train)\n",
      "print \"R-Squared of Test Data: %s\" % lm.score(xx_test, yy_test)"
     ],
     "language": "python",
     "metadata": {},
     "outputs": [
      {
       "output_type": "stream",
       "stream": "stdout",
       "text": [
        "[('temp', 42.052158716371437), ('atemp', 313.92579709705097), ('hum', -188.1620371348227), ('workingday', 4.7055759839248132), ('hr', 7.6016387446656584), ('weathersit', -4.1229807073877893)]\n",
        "Intercept:53.0756975329\n",
        "R-Squared of Training Data: 0.312679789664\n",
        "R-Squared of Test Data: 0.338900002788\n"
       ]
      }
     ],
     "prompt_number": 18
    },
    {
     "cell_type": "heading",
     "level": 6,
     "metadata": {},
     "source": [
      "Additional Note: "
     ]
    },
    {
     "cell_type": "markdown",
     "metadata": {},
     "source": [
      "I know at some point I should have used one hot encoder for the weather data. I know the syntax is something like: \n",
      "    \n",
      "from sklearn.preprocessing import OneHotEncoder <br>\n",
      "thing = OneHotEncoder(categorical_features = 'weathersit')<br>\n",
      "thing.fit(dataframe['weathersit'])\n",
      "\n",
      "I'm unsure what to do with that info once I've done it, so I've left it out.  \n",
      "\n"
     ]
    },
    {
     "cell_type": "heading",
     "level": 6,
     "metadata": {},
     "source": [
      "Describe the error (in terms of R^2) between the model you just calculated and the **bikeshare_test**. Is this higher or lower than the R^2 of the previous step? What's the reason for this difference?"
     ]
    },
    {
     "cell_type": "markdown",
     "metadata": {},
     "source": [
      "I believe the generalization error is the mean of the residuals, which is y - y_hat, but I can't figure out how to do this with multiple variables. \n",
      "\n",
      "Kind of naive, but my second best guess would just be 0.33 - 0.31, which would result in positive number. This could mean that the test data does well in the model."
     ]
    },
    {
     "cell_type": "heading",
     "level": 6,
     "metadata": {},
     "source": [
      "Create a binary variable for rush hour defined by 6-9am & 4-6pm."
     ]
    },
    {
     "cell_type": "code",
     "collapsed": false,
     "input": [
      "data['Rush_Hour'] = (data.hr >= 6) & (data.hr <=9) | (data.hr >= 16) & (data.hr <= 18)\n",
      "x = data['Rush_Hour'].astype(np.int) #anthony helped with the astype(np.int) -- my previous guesses below\n",
      "data['RH_Real'] = x"
     ],
     "language": "python",
     "metadata": {},
     "outputs": [],
     "prompt_number": 25
    },
    {
     "cell_type": "code",
     "collapsed": false,
     "input": [
      "#Test to be sure it went through and there is actually rush hour data (rather than all 0 or false)\n",
      "\n",
      "print data[data['RH_Real'] == 1].head()"
     ],
     "language": "python",
     "metadata": {},
     "outputs": [
      {
       "output_type": "stream",
       "stream": "stdout",
       "text": [
        "    instant      dteday  season  yr  mnth  hr  holiday  weekday  workingday  weathersit  temp   atemp   hum  windspeed  casual  registered  cnt Rush_Hour  RH_Real\n",
        "6         7  2011-01-01       1   0     1   6        0        6           0           1  0.22  0.2727  0.80     0.0000       2           0    2      True        1\n",
        "7         8  2011-01-01       1   0     1   7        0        6           0           1  0.20  0.2576  0.86     0.0000       1           2    3      True        1\n",
        "8         9  2011-01-01       1   0     1   8        0        6           0           1  0.24  0.2879  0.75     0.0000       1           7    8      True        1\n",
        "9        10  2011-01-01       1   0     1   9        0        6           0           1  0.32  0.3485  0.76     0.0000       8           6   14      True        1\n",
        "16       17  2011-01-01       1   0     1  16        0        6           0           2  0.42  0.4242  0.82     0.2985      41          52   93      True        1\n"
       ]
      }
     ],
     "prompt_number": 35
    },
    {
     "cell_type": "heading",
     "level": 6,
     "metadata": {},
     "source": [
      "Run the regression again. Using a similar process used in steps 2 and 3, assert whether this improves the results or not. Why? (You should be able to explain this quantitatively) \n"
     ]
    },
    {
     "cell_type": "code",
     "collapsed": false,
     "input": [
      "featured_cols = ['temp', 'atemp', 'hum','workingday','hr','weathersit', 'RH_Real']\n",
      "a = data[featured_cols]\n",
      "b = data.cnt \n",
      "\n",
      "a_train, a_test, b_train, b_test = train_test_split(a, b, test_size=0.5)\n",
      "\n",
      "aa_train = a_train \n",
      "bb_train = b_train \n",
      "aa_test = a_test\n",
      "bb_test = b_test \n",
      "\n",
      "lm = LinearRegression()\n",
      "lm.fit(aa_train, bb_train)\n",
      "\n",
      "#coefficients and intercept\n",
      "print zip(featured_cols, lm.coef_)\n",
      "print \"Intercept:%s\" % lm.intercept_\n",
      "\n",
      "#r^2 of train and test \n",
      "print \"R-Squared of Training Data: %s\" % lm.score(aa_train, bb_train)\n",
      "print \"R-Squared of Test Data: %s\" % lm.score(aa_test, bb_test)"
     ],
     "language": "python",
     "metadata": {},
     "outputs": [
      {
       "output_type": "stream",
       "stream": "stdout",
       "text": [
        "[('temp', 16.539178093943963), ('atemp', 351.65604814054831), ('hum', -203.91062249998612), ('workingday', 2.4541762393586364), ('hr', 7.3988517341545164), ('weathersit', -2.8047065214927169), ('RH_Real', 149.37637263499886)]\n",
        "Intercept:13.4656021768\n",
        "R-Squared of Training Data: 0.470834922324\n",
        "R-Squared of Test Data: 0.466173587506\n"
       ]
      }
     ],
     "prompt_number": 33
    },
    {
     "cell_type": "markdown",
     "metadata": {},
     "source": [
      "Adding the rush hour column made our R-squared jump for both the training and test, but with that said, that might mean something (but it could also mean nothing as the r-squared jumps when you add more variables, so it could just be a reflection of the addition). "
     ]
    },
    {
     "cell_type": "heading",
     "level": 2,
     "metadata": {},
     "source": [
      "Part II"
     ]
    },
    {
     "cell_type": "heading",
     "level": 6,
     "metadata": {},
     "source": [
      "The error you calculated in step 4 is called generalization error. Explain why it's called generalization error and why it's important when evaluating our regression model. "
     ]
    },
    {
     "cell_type": "markdown",
     "metadata": {},
     "source": [
      "The difference between the expected value of the model and the actual values based on the test data. It's an important measure to see how well (or poorly) your model is doing. \n"
     ]
    },
    {
     "cell_type": "heading",
     "level": 6,
     "metadata": {},
     "source": [
      "Of the features you used for regression above, which one best explains `cnt`?"
     ]
    },
    {
     "cell_type": "markdown",
     "metadata": {},
     "source": [
      "Atemp & RH_Real (rush hour)"
     ]
    },
    {
     "cell_type": "heading",
     "level": 6,
     "metadata": {},
     "source": [
      "Which variables in the dataset are correlated and how do these affect your regression?"
     ]
    },
    {
     "cell_type": "markdown",
     "metadata": {},
     "source": [
      "I would guess atemp and temp based on previous analysis. Unsure how they effect the regression, but I'm sure they do as they're doubling up. "
     ]
    },
    {
     "cell_type": "heading",
     "level": 6,
     "metadata": {},
     "source": [
      "How would the p-value of our regression change as we took smaller subsets of the dataframe to build our training model?"
     ]
    },
    {
     "cell_type": "markdown",
     "metadata": {},
     "source": [
      "As the sample size decreases, the uncertainty decreases. These are helpful: http://stats.stackexchange.com/questions/91143/relative-size-of-p-values-at-different-sample-sizes // http://www.tc.umn.edu/~delma001/stat_tools/tools_p_value.htm\n",
      "\n",
      "Seems like there may be an exact equation to link the two, but I don't know it. "
     ]
    },
    {
     "cell_type": "heading",
     "level": 3,
     "metadata": {},
     "source": [
      "Sandbox / Things that didn't work earlier: "
     ]
    },
    {
     "cell_type": "code",
     "collapsed": false,
     "input": [
      "#doesn't work\n",
      "# data['Rush Hour'] = data.hr.map({'6, 7, 8, 9, 16, 17, 18':1, '0,1,2,3,4,10,11,12,13,14,15,19,20,21,22,23,24':0})\n",
      "# print data.head()"
     ],
     "language": "python",
     "metadata": {},
     "outputs": [],
     "prompt_number": 36
    },
    {
     "cell_type": "code",
     "collapsed": false,
     "input": [
      "# rush_hour = (data.hr >= 6) & (data.hr <=9) | (data.hr >= 16) & (data.hr <= 18)\n",
      "# print rush_hour.head()\n",
      "# data['Rush_Hour'] = 0\n",
      "# # data.loc[rush_hour, True] = 1"
     ],
     "language": "python",
     "metadata": {},
     "outputs": []
    },
    {
     "cell_type": "code",
     "collapsed": false,
     "input": [
      "# #another way of calculating the coefficients / r-squared \n",
      "\n",
      "# test_model = smf.ols(formula = 'cnt ~ temp + atemp + hum + workingday + hr + weathersit', \n",
      "#                          data=bikeshare_test).fit()\n",
      " \n",
      "# print test_model.params\n",
      "# test_model.summary()"
     ],
     "language": "python",
     "metadata": {},
     "outputs": []
    }
   ],
   "metadata": {}
  }
 ]
}