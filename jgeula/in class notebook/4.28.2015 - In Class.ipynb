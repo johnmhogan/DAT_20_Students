{
 "metadata": {
  "name": "",
  "signature": "sha256:8138dae2afcb0cbac3a7ba211af839606a602eb6ca8575c67a01897b523916c5"
 },
 "nbformat": 3,
 "nbformat_minor": 0,
 "worksheets": [
  {
   "cells": [
    {
     "cell_type": "code",
     "collapsed": false,
     "input": [
      "%matplotlib inline\n",
      "\n",
      "import numpy as np\n",
      "import pandas as pd\n",
      "import matplotlib.pyplot as plt\n",
      "from sklearn.cross_validation import train_test_split\n",
      "from sklearn.linear_model import LogisticRegression\n",
      "import sklearn.cross_validation as cv\n",
      "from sklearn import neighbors, datasets, feature_selection, metrics\n",
      "\n",
      "from sklearn import naive_bayes\n",
      "from sklearn import cross_validation"
     ],
     "language": "python",
     "metadata": {},
     "outputs": [],
     "prompt_number": 86
    },
    {
     "cell_type": "code",
     "collapsed": false,
     "input": [
      "spam_data = pd.read_csv('Spam_Data.csv')\n",
      "\n",
      "spam_data.columns = ['word_freq_make','word_freq_address','word_freq_all','word_freq_3d','word_freq_our','word_freq_over','word_freq_remove','word_freq_internet','word_freq_order','word_freq_mail','word_freq_receive','word_freq_will','word_freq_people','word_freq_report','word_freq_addresses','word_freq_free','word_freq_business','word_freq_email','word_freq_you','word_freq_credit','word_freq_your','word_freq_font','word_freq_000','word_freq_money','word_freq_hp','word_freq_hpl','word_freq_george','word_freq_650','word_freq_lab','word_freq_labs','word_freq_telnet','word_freq_857','word_freq_data','word_freq_415','word_freq_85','word_freq_technology','word_freq_1999','word_freq_parts','word_freq_pm','word_freq_direct','word_freq_cs','word_freq_meeting','word_freq_original','word_freq_project','word_freq_re','word_freq_edu','word_freq_table','word_freq_conference','char_freq_;','char_freq_(','char_freq_[','char_freq_!','char_freq_$','char_freq_#','capital_run_length_average','capital_run_length_longest','capital_run_length_total','is_spam']"
     ],
     "language": "python",
     "metadata": {},
     "outputs": [],
     "prompt_number": 73
    },
    {
     "cell_type": "code",
     "collapsed": false,
     "input": [
      "spam_data.head()"
     ],
     "language": "python",
     "metadata": {},
     "outputs": [
      {
       "html": [
        "<div style=\"max-height:1000px;max-width:1500px;overflow:auto;\">\n",
        "<table border=\"1\" class=\"dataframe\">\n",
        "  <thead>\n",
        "    <tr style=\"text-align: right;\">\n",
        "      <th></th>\n",
        "      <th>word_freq_make</th>\n",
        "      <th>word_freq_address</th>\n",
        "      <th>word_freq_all</th>\n",
        "      <th>word_freq_3d</th>\n",
        "      <th>word_freq_our</th>\n",
        "      <th>word_freq_over</th>\n",
        "      <th>word_freq_remove</th>\n",
        "      <th>word_freq_internet</th>\n",
        "      <th>word_freq_order</th>\n",
        "      <th>word_freq_mail</th>\n",
        "      <th>...</th>\n",
        "      <th>char_freq_;</th>\n",
        "      <th>char_freq_(</th>\n",
        "      <th>char_freq_[</th>\n",
        "      <th>char_freq_!</th>\n",
        "      <th>char_freq_$</th>\n",
        "      <th>char_freq_#</th>\n",
        "      <th>capital_run_length_average</th>\n",
        "      <th>capital_run_length_longest</th>\n",
        "      <th>capital_run_length_total</th>\n",
        "      <th>is_spam</th>\n",
        "    </tr>\n",
        "  </thead>\n",
        "  <tbody>\n",
        "    <tr>\n",
        "      <th>0</th>\n",
        "      <td> 0.00</td>\n",
        "      <td> 0.64</td>\n",
        "      <td> 0.64</td>\n",
        "      <td> 0</td>\n",
        "      <td> 0.32</td>\n",
        "      <td> 0.00</td>\n",
        "      <td> 0.00</td>\n",
        "      <td> 0.00</td>\n",
        "      <td> 0.00</td>\n",
        "      <td> 0.00</td>\n",
        "      <td>...</td>\n",
        "      <td> 0.00</td>\n",
        "      <td> 0.000</td>\n",
        "      <td> 0</td>\n",
        "      <td> 0.778</td>\n",
        "      <td> 0.000</td>\n",
        "      <td> 0.000</td>\n",
        "      <td> 3.756</td>\n",
        "      <td>  61</td>\n",
        "      <td>  278</td>\n",
        "      <td> 1</td>\n",
        "    </tr>\n",
        "    <tr>\n",
        "      <th>1</th>\n",
        "      <td> 0.21</td>\n",
        "      <td> 0.28</td>\n",
        "      <td> 0.50</td>\n",
        "      <td> 0</td>\n",
        "      <td> 0.14</td>\n",
        "      <td> 0.28</td>\n",
        "      <td> 0.21</td>\n",
        "      <td> 0.07</td>\n",
        "      <td> 0.00</td>\n",
        "      <td> 0.94</td>\n",
        "      <td>...</td>\n",
        "      <td> 0.00</td>\n",
        "      <td> 0.132</td>\n",
        "      <td> 0</td>\n",
        "      <td> 0.372</td>\n",
        "      <td> 0.180</td>\n",
        "      <td> 0.048</td>\n",
        "      <td> 5.114</td>\n",
        "      <td> 101</td>\n",
        "      <td> 1028</td>\n",
        "      <td> 1</td>\n",
        "    </tr>\n",
        "    <tr>\n",
        "      <th>2</th>\n",
        "      <td> 0.06</td>\n",
        "      <td> 0.00</td>\n",
        "      <td> 0.71</td>\n",
        "      <td> 0</td>\n",
        "      <td> 1.23</td>\n",
        "      <td> 0.19</td>\n",
        "      <td> 0.19</td>\n",
        "      <td> 0.12</td>\n",
        "      <td> 0.64</td>\n",
        "      <td> 0.25</td>\n",
        "      <td>...</td>\n",
        "      <td> 0.01</td>\n",
        "      <td> 0.143</td>\n",
        "      <td> 0</td>\n",
        "      <td> 0.276</td>\n",
        "      <td> 0.184</td>\n",
        "      <td> 0.010</td>\n",
        "      <td> 9.821</td>\n",
        "      <td> 485</td>\n",
        "      <td> 2259</td>\n",
        "      <td> 1</td>\n",
        "    </tr>\n",
        "    <tr>\n",
        "      <th>3</th>\n",
        "      <td> 0.00</td>\n",
        "      <td> 0.00</td>\n",
        "      <td> 0.00</td>\n",
        "      <td> 0</td>\n",
        "      <td> 0.63</td>\n",
        "      <td> 0.00</td>\n",
        "      <td> 0.31</td>\n",
        "      <td> 0.63</td>\n",
        "      <td> 0.31</td>\n",
        "      <td> 0.63</td>\n",
        "      <td>...</td>\n",
        "      <td> 0.00</td>\n",
        "      <td> 0.137</td>\n",
        "      <td> 0</td>\n",
        "      <td> 0.137</td>\n",
        "      <td> 0.000</td>\n",
        "      <td> 0.000</td>\n",
        "      <td> 3.537</td>\n",
        "      <td>  40</td>\n",
        "      <td>  191</td>\n",
        "      <td> 1</td>\n",
        "    </tr>\n",
        "    <tr>\n",
        "      <th>4</th>\n",
        "      <td> 0.00</td>\n",
        "      <td> 0.00</td>\n",
        "      <td> 0.00</td>\n",
        "      <td> 0</td>\n",
        "      <td> 0.63</td>\n",
        "      <td> 0.00</td>\n",
        "      <td> 0.31</td>\n",
        "      <td> 0.63</td>\n",
        "      <td> 0.31</td>\n",
        "      <td> 0.63</td>\n",
        "      <td>...</td>\n",
        "      <td> 0.00</td>\n",
        "      <td> 0.135</td>\n",
        "      <td> 0</td>\n",
        "      <td> 0.135</td>\n",
        "      <td> 0.000</td>\n",
        "      <td> 0.000</td>\n",
        "      <td> 3.537</td>\n",
        "      <td>  40</td>\n",
        "      <td>  191</td>\n",
        "      <td> 1</td>\n",
        "    </tr>\n",
        "  </tbody>\n",
        "</table>\n",
        "<p>5 rows \u00d7 58 columns</p>\n",
        "</div>"
       ],
       "metadata": {},
       "output_type": "pyout",
       "prompt_number": 74,
       "text": [
        "   word_freq_make  word_freq_address  word_freq_all  word_freq_3d  \\\n",
        "0            0.00               0.64           0.64             0   \n",
        "1            0.21               0.28           0.50             0   \n",
        "2            0.06               0.00           0.71             0   \n",
        "3            0.00               0.00           0.00             0   \n",
        "4            0.00               0.00           0.00             0   \n",
        "\n",
        "   word_freq_our  word_freq_over  word_freq_remove  word_freq_internet  \\\n",
        "0           0.32            0.00              0.00                0.00   \n",
        "1           0.14            0.28              0.21                0.07   \n",
        "2           1.23            0.19              0.19                0.12   \n",
        "3           0.63            0.00              0.31                0.63   \n",
        "4           0.63            0.00              0.31                0.63   \n",
        "\n",
        "   word_freq_order  word_freq_mail       ...        char_freq_;  char_freq_(  \\\n",
        "0             0.00            0.00       ...               0.00        0.000   \n",
        "1             0.00            0.94       ...               0.00        0.132   \n",
        "2             0.64            0.25       ...               0.01        0.143   \n",
        "3             0.31            0.63       ...               0.00        0.137   \n",
        "4             0.31            0.63       ...               0.00        0.135   \n",
        "\n",
        "   char_freq_[  char_freq_!  char_freq_$  char_freq_#  \\\n",
        "0            0        0.778        0.000        0.000   \n",
        "1            0        0.372        0.180        0.048   \n",
        "2            0        0.276        0.184        0.010   \n",
        "3            0        0.137        0.000        0.000   \n",
        "4            0        0.135        0.000        0.000   \n",
        "\n",
        "   capital_run_length_average  capital_run_length_longest  \\\n",
        "0                       3.756                          61   \n",
        "1                       5.114                         101   \n",
        "2                       9.821                         485   \n",
        "3                       3.537                          40   \n",
        "4                       3.537                          40   \n",
        "\n",
        "   capital_run_length_total  is_spam  \n",
        "0                       278        1  \n",
        "1                      1028        1  \n",
        "2                      2259        1  \n",
        "3                       191        1  \n",
        "4                       191        1  \n",
        "\n",
        "[5 rows x 58 columns]"
       ]
      }
     ],
     "prompt_number": 74
    },
    {
     "cell_type": "code",
     "collapsed": false,
     "input": [
      "spam_data.shape[0]"
     ],
     "language": "python",
     "metadata": {},
     "outputs": [
      {
       "metadata": {},
       "output_type": "pyout",
       "prompt_number": 75,
       "text": [
        "4601"
       ]
      }
     ],
     "prompt_number": 75
    },
    {
     "cell_type": "heading",
     "level": 4,
     "metadata": {},
     "source": [
      "EXERCISE 2: FIRST REGRESSION"
     ]
    },
    {
     "cell_type": "code",
     "collapsed": false,
     "input": [
      "X = spam_data[['capital_run_length_longest']] #need double bracket so its not an array (needs to be two dimensional)\n",
      "y = spam_data['is_spam']"
     ],
     "language": "python",
     "metadata": {},
     "outputs": [],
     "prompt_number": 76
    },
    {
     "cell_type": "code",
     "collapsed": false,
     "input": [
      "X_train, X_test, y_train, y_test = train_test_split(X, y, test_size=0.5)\n",
      "\n",
      "X_test.shape # if we only did single brackets above, this would not have 1l"
     ],
     "language": "python",
     "metadata": {},
     "outputs": [
      {
       "metadata": {},
       "output_type": "pyout",
       "prompt_number": 77,
       "text": [
        "(2301L, 1L)"
       ]
      }
     ],
     "prompt_number": 77
    },
    {
     "cell_type": "code",
     "collapsed": false,
     "input": [
      "model = LogisticRegression()\n",
      "model = model.fit(X_train, y_train)\n",
      "\n",
      "print \"Score on training data: \", model.score(X_train, y_train)\n",
      "print \"Score on testing data: \", model.score(X_test, y_test)"
     ],
     "language": "python",
     "metadata": {},
     "outputs": [
      {
       "output_type": "stream",
       "stream": "stdout",
       "text": [
        "Score on training data:  0.725217391304\n",
        "Score on testing data:  0.729682746632\n"
       ]
      }
     ],
     "prompt_number": 78
    },
    {
     "cell_type": "heading",
     "level": 4,
     "metadata": {},
     "source": [
      "EXERCISE 3: ALL VARIABLES"
     ]
    },
    {
     "cell_type": "code",
     "collapsed": false,
     "input": [
      "X2 = spam_data.drop(['is_spam'], axis=1) #need double bracket so its not an array (needs to be two dimensional)\n",
      "y2 = spam_data['is_spam']\n",
      "\n",
      "X2_train, X2_test, y2_train, y2_test = train_test_split(X2, y2, test_size=0.30, random_state=12)\n",
      "\n",
      "model2 = LogisticRegression()\n",
      "model2 = model2.fit(X2_train, y2_train)\n",
      "\n",
      "print \"Score of training data w/ all vars: \", model2.score(X2_train, y2_train)\n",
      "print \"Score of test data w/ all vars: \", model2.score(X2_test, y2_test)"
     ],
     "language": "python",
     "metadata": {},
     "outputs": [
      {
       "output_type": "stream",
       "stream": "stdout",
       "text": [
        "Score of training data w/ all vars:  0.927639751553\n",
        "Score of test data w/ all vars:  0.932657494569\n"
       ]
      }
     ],
     "prompt_number": 79
    },
    {
     "cell_type": "heading",
     "level": 4,
     "metadata": {},
     "source": [
      "EXERCISE 4: APPLY CROSS-VALIDATION. USE CROSSVALIDATION TO SCORE MODEL"
     ]
    },
    {
     "cell_type": "code",
     "collapsed": false,
     "input": [
      "cv.cross_val_score(model, X, y)"
     ],
     "language": "python",
     "metadata": {},
     "outputs": [
      {
       "metadata": {},
       "output_type": "pyout",
       "prompt_number": 80,
       "text": [
        "array([ 0.70423453,  0.75016308,  0.72146119])"
       ]
      }
     ],
     "prompt_number": 80
    },
    {
     "cell_type": "code",
     "collapsed": false,
     "input": [
      "cv.cross_val_score(model2, X2, y2)"
     ],
     "language": "python",
     "metadata": {},
     "outputs": [
      {
       "metadata": {},
       "output_type": "pyout",
       "prompt_number": 81,
       "text": [
        "array([ 0.91856678,  0.91650359,  0.87736464])"
       ]
      }
     ],
     "prompt_number": 81
    },
    {
     "cell_type": "heading",
     "level": 4,
     "metadata": {},
     "source": [
      "EXERCISE 5: COMPARE PERFORMANCE OF LOGISTIC REGRESSION TO KNN WITH 3 NEIGHBORS"
     ]
    },
    {
     "cell_type": "code",
     "collapsed": false,
     "input": [
      "knn = neighbors.KNeighborsClassifier(n_neighbors = 3,)\n",
      "knn = knn.fit(X2_train, y2_train)\n",
      "\n",
      "print \"KNN confusion matrix: \",  metrics.confusion_matrix(knn.predict(X2_test),y2_test)\n",
      "print \"Regression model 2 confusion matrix: \", metrics.confusion_matrix(model2.predict(X2_test), y2_test)\n",
      "\n"
     ],
     "language": "python",
     "metadata": {},
     "outputs": [
      {
       "output_type": "stream",
       "stream": "stdout",
       "text": [
        "KNN confusion matrix:  "
       ]
      },
      {
       "output_type": "stream",
       "stream": "stdout",
       "text": [
        "[[700 145]\n",
        " [155 381]]\n",
        "Regression model 2 confusion matrix:  "
       ]
      },
      {
       "output_type": "stream",
       "stream": "stdout",
       "text": [
        "[[813  51]\n",
        " [ 42 475]]\n"
       ]
      }
     ],
     "prompt_number": 99
    },
    {
     "cell_type": "code",
     "collapsed": false,
     "input": [
      "#y_pred = fit.predict(X_test)\n",
      "#y_pred_probs = fit.predict_proba(X_test) ### this returns between 0 and 1\n",
      "#c_ == concat\n",
      "#probs = pd.DataFrame(np.c_[y_pred_probs, y_pred, y_test], columns)"
     ],
     "language": "python",
     "metadata": {},
     "outputs": []
    },
    {
     "cell_type": "heading",
     "level": 4,
     "metadata": {},
     "source": [
      "ADAM SILVER'S CODE FOR F_CLASSIF -- FIGURING OUT THE BEST VARIABLES"
     ]
    },
    {
     "cell_type": "code",
     "collapsed": false,
     "input": [
      "column_array = ['word_freq_make','word_freq_address','word_freq_all','word_freq_3d','word_freq_our','word_freq_over','word_freq_remove','word_freq_internet','word_freq_order','word_freq_mail','word_freq_receive','word_freq_will','word_freq_people','word_freq_report','word_freq_addresses','word_freq_free','word_freq_business','word_freq_email','word_freq_you','word_freq_credit','word_freq_your','word_freq_font','word_freq_000','word_freq_money','word_freq_hp','word_freq_hpl','word_freq_george','word_freq_650','word_freq_lab','word_freq_labs','word_freq_telnet','word_freq_857','word_freq_data','word_freq_415','word_freq_85','word_freq_technology','word_freq_1999','word_freq_parts','word_freq_pm','word_freq_direct','word_freq_cs','word_freq_meeting','word_freq_original','word_freq_project','word_freq_re','word_freq_edu','word_freq_table','word_freq_conference','char_freq_;','char_freq_(','char_freq_[','char_freq_!','char_freq_$','char_freq_#','capital_run_length_average','capital_run_length_longest','capital_run_length_total']"
     ],
     "language": "python",
     "metadata": {},
     "outputs": [],
     "prompt_number": 90
    },
    {
     "cell_type": "code",
     "collapsed": false,
     "input": [
      "#pvalue is the probability that this was random, so lower the better\n",
      "#this is sorted largest to smallest\n",
      "\n",
      "from sklearn.feature_selection import SelectPercentile, f_classif\n",
      "\n",
      "#---------------------------------------------\n",
      "selector = SelectPercentile(f_classif, percentile=10)\n",
      "selector.fit(X2, y2)\n",
      "#---------------------------------------------\n",
      "\n",
      "#selector.pvalues_\n",
      "\n",
      "selector_values = pd.DataFrame(np.c_[column_array, selector.pvalues_], columns=['variable', 'pvalue'])\n",
      "print selector_values.sort('pvalue')"
     ],
     "language": "python",
     "metadata": {},
     "outputs": [
      {
       "output_type": "stream",
       "stream": "stdout",
       "text": [
        "                      variable              pvalue\n",
        "46             word_freq_table    0.00243529690156\n",
        "37             word_freq_parts     0.0352843819637\n",
        "1            word_freq_address     0.0403647313562\n",
        "11              word_freq_will       0.59963560297\n",
        "53                 char_freq_#   1.00079495101e-05\n",
        "44                word_freq_re   1.08102489584e-21\n",
        "39            word_freq_direct   1.08781646082e-05\n",
        "49                 char_freq_(   1.10719983509e-09\n",
        "50                 char_freq_[   1.11957119105e-05\n",
        "47        word_freq_conference   1.14536495513e-08\n",
        "52                 char_freq_$  1.17971978493e-112\n",
        "7           word_freq_internet   1.25944363342e-45\n",
        "43           word_freq_project    1.2840068599e-10\n",
        "41           word_freq_meeting   1.30428822863e-20\n",
        "12            word_freq_people   1.37491726378e-19\n",
        "5               word_freq_over   1.42364643068e-57\n",
        "29              word_freq_labs   1.45783244941e-31\n",
        "19            word_freq_credit   1.46351793206e-38\n",
        "10           word_freq_receive   1.58496413128e-58\n",
        "17             word_freq_email   1.65972615827e-44\n",
        "33               word_freq_415   1.71213046976e-14\n",
        "2                word_freq_all   1.77687195955e-41\n",
        "35        word_freq_technology   1.77999118359e-20\n",
        "45               word_freq_edu   2.20194231722e-23\n",
        "27               word_freq_650   2.28796722345e-27\n",
        "42          word_freq_original   2.40901600891e-20\n",
        "34                word_freq_85   2.52942613421e-24\n",
        "9               word_freq_mail   2.81705005852e-21\n",
        "4                word_freq_our   2.87207685141e-62\n",
        "51                 char_freq_!   2.98340093721e-62\n",
        "32              word_freq_data   3.28797855133e-16\n",
        "40                word_freq_cs   3.61785020858e-11\n",
        "24                word_freq_hp   3.73452825156e-70\n",
        "21              word_freq_font   4.30795270475e-10\n",
        "26            word_freq_george   4.31101702492e-36\n",
        "36              word_freq_1999   4.43469409194e-34\n",
        "13            word_freq_report   4.61607001004e-05\n",
        "56    capital_run_length_total   4.62375388206e-66\n",
        "8              word_freq_order    4.6900729893e-57\n",
        "14         word_freq_addresses   4.95499707029e-41\n",
        "48                 char_freq_;   5.18288995372e-05\n",
        "30            word_freq_telnet   5.56458714791e-18\n",
        "38                word_freq_pm   6.21366009352e-17\n",
        "22               word_freq_000  6.73065010305e-121\n",
        "6             word_freq_remove  6.79127920568e-119\n",
        "20              word_freq_your  7.21460543968e-161\n",
        "54  capital_run_length_average   7.31988770736e-14\n",
        "31               word_freq_857   7.81470002061e-15\n",
        "18               word_freq_you   7.92984316897e-80\n",
        "0               word_freq_make   8.48776357287e-18\n",
        "15              word_freq_free   8.83671516308e-74\n",
        "16          word_freq_business   8.96110225232e-74\n",
        "23             word_freq_money   9.29621977551e-50\n",
        "25               word_freq_hpl   9.42092174869e-58\n",
        "28               word_freq_lab    9.4361525959e-20\n",
        "55  capital_run_length_longest   9.43635223553e-50\n",
        "3                 word_freq_3d   9.87309543035e-05\n"
       ]
      }
     ],
     "prompt_number": 91
    }
   ],
   "metadata": {}
  }
 ]
}