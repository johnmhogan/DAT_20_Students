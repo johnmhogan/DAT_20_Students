{
 "metadata": {
  "name": "",
  "signature": "sha256:9b1b78ac1c7de482ec69de564fea719a682b84f370d1061c89ac3cd656ab9125"
 },
 "nbformat": 3,
 "nbformat_minor": 0,
 "worksheets": [
  {
   "cells": [
    {
     "cell_type": "code",
     "collapsed": false,
     "input": [
      "%%html\n",
      "<link rel=\"stylesheet\" href=\"static/hyrule.css\" type=\"text/css\">"
     ],
     "language": "python",
     "metadata": {},
     "outputs": [
      {
       "html": [
        "<link rel=\"stylesheet\" href=\"static/hyrule.css\" type=\"text/css\">"
       ],
       "metadata": {},
       "output_type": "display_data",
       "text": [
        "<IPython.core.display.HTML at 0x7fe131c8b710>"
       ]
      }
     ],
     "prompt_number": 40
    },
    {
     "cell_type": "heading",
     "level": 1,
     "metadata": {},
     "source": [
      "Part I"
     ]
    },
    {
     "cell_type": "code",
     "collapsed": false,
     "input": [
      "%matplotlib inline\n",
      "\n",
      "import matplotlib.pyplot as plt\n",
      "import pandas as pd\n",
      "import numpy as np"
     ],
     "language": "python",
     "metadata": {},
     "outputs": [],
     "prompt_number": 41
    },
    {
     "cell_type": "heading",
     "level": 2,
     "metadata": {},
     "source": [
      "1."
     ]
    },
    {
     "cell_type": "code",
     "collapsed": false,
     "input": [
      "#Read in the bikeshare data to a pandas dataframe just as you did for the previous assignment.\n",
      "\n",
      "names = ['instant','dteday','season','yr','mnth','hr','holiday','weekday','workingday','weathersit',\n",
      "         'temp','atemp','hum','windspeed','casual','registered','cnt']\n",
      "data = pd.read_csv('/home/oracle/GA/1_DAT_20_NYC/DAT_20_NYC/Data/bikeshare.csv', names=names, header=0).dropna()\n",
      "print \"Number of rows: %i\" % data.shape[0]\n",
      "data.head()  # print the first 5 rows"
     ],
     "language": "python",
     "metadata": {},
     "outputs": [
      {
       "output_type": "stream",
       "stream": "stdout",
       "text": [
        "Number of rows: 17379\n"
       ]
      },
      {
       "html": [
        "<div style=\"max-height:1000px;max-width:1500px;overflow:auto;\">\n",
        "<table border=\"1\" class=\"dataframe\">\n",
        "  <thead>\n",
        "    <tr style=\"text-align: right;\">\n",
        "      <th></th>\n",
        "      <th>instant</th>\n",
        "      <th>dteday</th>\n",
        "      <th>season</th>\n",
        "      <th>yr</th>\n",
        "      <th>mnth</th>\n",
        "      <th>hr</th>\n",
        "      <th>holiday</th>\n",
        "      <th>weekday</th>\n",
        "      <th>workingday</th>\n",
        "      <th>weathersit</th>\n",
        "      <th>temp</th>\n",
        "      <th>atemp</th>\n",
        "      <th>hum</th>\n",
        "      <th>windspeed</th>\n",
        "      <th>casual</th>\n",
        "      <th>registered</th>\n",
        "      <th>cnt</th>\n",
        "    </tr>\n",
        "  </thead>\n",
        "  <tbody>\n",
        "    <tr>\n",
        "      <th>0</th>\n",
        "      <td> 1</td>\n",
        "      <td> 2011-01-01</td>\n",
        "      <td> 1</td>\n",
        "      <td> 0</td>\n",
        "      <td> 1</td>\n",
        "      <td> 0</td>\n",
        "      <td> 0</td>\n",
        "      <td> 6</td>\n",
        "      <td> 0</td>\n",
        "      <td> 1</td>\n",
        "      <td> 0.24</td>\n",
        "      <td> 0.2879</td>\n",
        "      <td> 0.81</td>\n",
        "      <td> 0</td>\n",
        "      <td> 3</td>\n",
        "      <td> 13</td>\n",
        "      <td> 16</td>\n",
        "    </tr>\n",
        "    <tr>\n",
        "      <th>1</th>\n",
        "      <td> 2</td>\n",
        "      <td> 2011-01-01</td>\n",
        "      <td> 1</td>\n",
        "      <td> 0</td>\n",
        "      <td> 1</td>\n",
        "      <td> 1</td>\n",
        "      <td> 0</td>\n",
        "      <td> 6</td>\n",
        "      <td> 0</td>\n",
        "      <td> 1</td>\n",
        "      <td> 0.22</td>\n",
        "      <td> 0.2727</td>\n",
        "      <td> 0.80</td>\n",
        "      <td> 0</td>\n",
        "      <td> 8</td>\n",
        "      <td> 32</td>\n",
        "      <td> 40</td>\n",
        "    </tr>\n",
        "    <tr>\n",
        "      <th>2</th>\n",
        "      <td> 3</td>\n",
        "      <td> 2011-01-01</td>\n",
        "      <td> 1</td>\n",
        "      <td> 0</td>\n",
        "      <td> 1</td>\n",
        "      <td> 2</td>\n",
        "      <td> 0</td>\n",
        "      <td> 6</td>\n",
        "      <td> 0</td>\n",
        "      <td> 1</td>\n",
        "      <td> 0.22</td>\n",
        "      <td> 0.2727</td>\n",
        "      <td> 0.80</td>\n",
        "      <td> 0</td>\n",
        "      <td> 5</td>\n",
        "      <td> 27</td>\n",
        "      <td> 32</td>\n",
        "    </tr>\n",
        "    <tr>\n",
        "      <th>3</th>\n",
        "      <td> 4</td>\n",
        "      <td> 2011-01-01</td>\n",
        "      <td> 1</td>\n",
        "      <td> 0</td>\n",
        "      <td> 1</td>\n",
        "      <td> 3</td>\n",
        "      <td> 0</td>\n",
        "      <td> 6</td>\n",
        "      <td> 0</td>\n",
        "      <td> 1</td>\n",
        "      <td> 0.24</td>\n",
        "      <td> 0.2879</td>\n",
        "      <td> 0.75</td>\n",
        "      <td> 0</td>\n",
        "      <td> 3</td>\n",
        "      <td> 10</td>\n",
        "      <td> 13</td>\n",
        "    </tr>\n",
        "    <tr>\n",
        "      <th>4</th>\n",
        "      <td> 5</td>\n",
        "      <td> 2011-01-01</td>\n",
        "      <td> 1</td>\n",
        "      <td> 0</td>\n",
        "      <td> 1</td>\n",
        "      <td> 4</td>\n",
        "      <td> 0</td>\n",
        "      <td> 6</td>\n",
        "      <td> 0</td>\n",
        "      <td> 1</td>\n",
        "      <td> 0.24</td>\n",
        "      <td> 0.2879</td>\n",
        "      <td> 0.75</td>\n",
        "      <td> 0</td>\n",
        "      <td> 0</td>\n",
        "      <td>  1</td>\n",
        "      <td>  1</td>\n",
        "    </tr>\n",
        "  </tbody>\n",
        "</table>\n",
        "</div>"
       ],
       "metadata": {},
       "output_type": "pyout",
       "prompt_number": 42,
       "text": [
        "   instant      dteday  season  yr  mnth  hr  holiday  weekday  workingday  \\\n",
        "0        1  2011-01-01       1   0     1   0        0        6           0   \n",
        "1        2  2011-01-01       1   0     1   1        0        6           0   \n",
        "2        3  2011-01-01       1   0     1   2        0        6           0   \n",
        "3        4  2011-01-01       1   0     1   3        0        6           0   \n",
        "4        5  2011-01-01       1   0     1   4        0        6           0   \n",
        "\n",
        "   weathersit  temp   atemp   hum  windspeed  casual  registered  cnt  \n",
        "0           1  0.24  0.2879  0.81          0       3          13   16  \n",
        "1           1  0.22  0.2727  0.80          0       8          32   40  \n",
        "2           1  0.22  0.2727  0.80          0       5          27   32  \n",
        "3           1  0.24  0.2879  0.75          0       3          10   13  \n",
        "4           1  0.24  0.2879  0.75          0       0           1    1  "
       ]
      }
     ],
     "prompt_number": 42
    },
    {
     "cell_type": "heading",
     "level": 2,
     "metadata": {},
     "source": [
      "2."
     ]
    },
    {
     "cell_type": "code",
     "collapsed": false,
     "input": [
      "#Split the dataframe horizontally into two separate dataframes each having N/2 rows. \n",
      "#Call the dataframe with first N/2 rows  bikeshare_train , and the latter half  bikeshare_test \n",
      "\n",
      "N1 = data.shape[0] / 2\n",
      "N2 = data.shape[0] - N1\n",
      "\n",
      "\n",
      "print '----------------------'\n",
      "print 'bikeshare_train summary'\n",
      "print '----------------------'\n",
      "\n",
      "bikeshare_train = data.head(N1)\n",
      "print \"bikeshare_train Number of rows: %i\" % bikeshare_train.shape[0]\n",
      "print bikeshare_train.head()\n",
      "print bikeshare_train.describe()\n",
      "\n",
      "print '----------------------'\n",
      "print 'bikeshare_test summary'\n",
      "print '----------------------'\n",
      "bikeshare_test = data.tail(N2)\n",
      "print \"bikeshare_test Number of rows: %i\" %  bikeshare_test.shape[0]\n",
      "print bikeshare_test.head()\n",
      "print bikeshare_test.describe()\n"
     ],
     "language": "python",
     "metadata": {},
     "outputs": [
      {
       "output_type": "stream",
       "stream": "stdout",
       "text": [
        "----------------------\n",
        "bikeshare_train summary\n",
        "----------------------\n",
        "bikeshare_train Number of rows: 8689\n",
        "   instant      dteday  season  yr  mnth  hr  holiday  weekday  workingday  \\\n",
        "0        1  2011-01-01       1   0     1   0        0        6           0   \n",
        "1        2  2011-01-01       1   0     1   1        0        6           0   \n",
        "2        3  2011-01-01       1   0     1   2        0        6           0   \n",
        "3        4  2011-01-01       1   0     1   3        0        6           0   \n",
        "4        5  2011-01-01       1   0     1   4        0        6           0   \n",
        "\n",
        "   weathersit  temp   atemp   hum  windspeed  casual  registered  cnt  \n",
        "0           1  0.24  0.2879  0.81          0       3          13   16  \n",
        "1           1  0.22  0.2727  0.80          0       8          32   40  \n",
        "2           1  0.22  0.2727  0.80          0       5          27   32  \n",
        "3           1  0.24  0.2879  0.75          0       3          10   13  \n",
        "4           1  0.24  0.2879  0.75          0       0           1    1  "
       ]
      },
      {
       "output_type": "stream",
       "stream": "stdout",
       "text": [
        "\n",
        "           instant       season           yr         mnth           hr  \\\n",
        "count  8689.000000  8689.000000  8689.000000  8689.000000  8689.000000   \n",
        "mean   4345.000000     2.505927     0.005064     6.545747    11.570607   \n",
        "std    2508.442578     1.107896     0.070985     3.442270     6.906146   \n",
        "min       1.000000     1.000000     0.000000     1.000000     0.000000   \n",
        "25%    2173.000000     2.000000     0.000000     4.000000     6.000000   \n",
        "50%    4345.000000     3.000000     0.000000     7.000000    12.000000   \n",
        "75%    6517.000000     3.000000     0.000000    10.000000    18.000000   \n",
        "max    8689.000000     4.000000     1.000000    12.000000    23.000000   \n",
        "\n",
        "           holiday      weekday   workingday   weathersit         temp  \\\n",
        "count  8689.000000  8689.000000  8689.000000  8689.000000  8689.000000   \n",
        "mean      0.029808     2.999770     0.680285     1.436299     0.488259   \n",
        "std       0.170067     2.009817     0.466393     0.653383     0.197847   \n",
        "min       0.000000     0.000000     0.000000     1.000000     0.020000   \n",
        "25%       0.000000     1.000000     0.000000     1.000000     0.320000   \n",
        "50%       0.000000     3.000000     1.000000     1.000000     0.500000   \n",
        "75%       0.000000     5.000000     1.000000     2.000000     0.660000   \n",
        "max       1.000000     6.000000     1.000000     4.000000     0.960000   \n",
        "\n",
        "             atemp          hum    windspeed       casual   registered  \\\n",
        "count  8689.000000  8689.000000  8689.000000  8689.000000  8689.000000   \n",
        "mean      0.468258     0.642945     0.191508    28.561860   114.976982   \n",
        "std       0.176721     0.196387     0.123350    38.793085   109.292093   \n",
        "min       0.000000     0.000000     0.000000     0.000000     0.000000   \n",
        "25%       0.318200     0.490000     0.104500     3.000000    26.000000   \n",
        "50%       0.484800     0.650000     0.194000    14.000000    89.000000   \n",
        "75%       0.621200     0.810000     0.283600    38.000000   167.000000   \n",
        "max       1.000000     1.000000     0.850700   272.000000   567.000000   \n",
        "\n",
        "               cnt  \n",
        "count  8689.000000  \n",
        "mean    143.538842  \n",
        "std     133.612670  \n",
        "min       1.000000  \n",
        "25%      31.000000  \n",
        "50%     109.000000  \n",
        "75%     210.000000  \n",
        "max     651.000000  "
       ]
      },
      {
       "output_type": "stream",
       "stream": "stdout",
       "text": [
        "\n",
        "----------------------\n",
        "bikeshare_test summary\n",
        "----------------------\n",
        "bikeshare_test Number of rows: 8690\n",
        "      instant      dteday  season  yr  mnth  hr  holiday  weekday  workingday  \\\n",
        "8689     8690  2012-01-02       1   1     1  21        1        1           0   \n",
        "8690     8691  2012-01-02       1   1     1  22        1        1           0   \n",
        "8691     8692  2012-01-02       1   1     1  23        1        1           0   \n",
        "8692     8693  2012-01-03       1   1     1   0        0        2           1   \n",
        "8693     8694  2012-01-03       1   1     1   1        0        2           1   \n",
        "\n",
        "      weathersit  temp   atemp   hum  windspeed  casual  registered  cnt  \n",
        "8689           2  0.24  0.2121  0.41     0.3284       3          63   66  \n",
        "8690           2  0.22  0.2121  0.44     0.2836       3          36   39  \n",
        "8691           1  0.22  0.2121  0.44     0.2537       2          32   34  \n",
        "8692           1  0.20  0.1970  0.51     0.2537       0          13   13  \n",
        "8693           1  0.18  0.1818  0.55     0.2239       1           5    6  "
       ]
      },
      {
       "output_type": "stream",
       "stream": "stdout",
       "text": [
        "\n",
        "            instant       season    yr         mnth           hr      holiday  \\\n",
        "count   8690.000000  8690.000000  8690  8690.000000  8690.000000  8690.000000   \n",
        "mean   13034.500000     2.497353     1     6.529804    11.522900     0.027733   \n",
        "std     2508.731253     1.105987     0     3.435458     6.922968     0.164216   \n",
        "min     8690.000000     1.000000     1     1.000000     0.000000     0.000000   \n",
        "25%    10862.250000     2.000000     1     4.000000     6.000000     0.000000   \n",
        "50%    13034.500000     3.000000     1     7.000000    12.000000     0.000000   \n",
        "75%    15206.750000     3.000000     1     9.000000    18.000000     0.000000   \n",
        "max    17379.000000     4.000000     1    12.000000    23.000000     1.000000   \n",
        "\n",
        "           weekday   workingday   weathersit         temp        atemp  \\\n",
        "count  8690.000000  8690.000000  8690.000000  8690.000000  8690.000000   \n",
        "mean      3.007595     0.685155     1.414269     0.505715     0.483292   \n",
        "std       2.001826     0.464481     0.624861     0.186720     0.166509   \n",
        "min       0.000000     0.000000     1.000000     0.020000     0.015200   \n",
        "25%       1.000000     0.000000     1.000000     0.340000     0.333300   \n",
        "50%       3.000000     1.000000     1.000000     0.520000     0.500000   \n",
        "75%       5.000000     1.000000     2.000000     0.660000     0.621200   \n",
        "max       6.000000     1.000000     4.000000     1.000000     0.924200   \n",
        "\n",
        "               hum    windspeed       casual   registered          cnt  \n",
        "count  8690.000000  8690.000000  8690.000000  8690.000000  8690.000000  \n",
        "mean      0.611514     0.188687    42.789758   192.592290   235.382048  \n",
        "std       0.188113     0.121313    57.061541   175.677055   209.128671  \n",
        "min       0.160000     0.000000     0.000000     0.000000     1.000000  \n",
        "25%       0.460000     0.104500     5.000000    46.000000    53.250000  \n",
        "50%       0.610000     0.164200    20.000000   156.000000   192.000000  \n",
        "75%       0.770000     0.253700    60.000000   276.000000   349.000000  \n",
        "max       1.000000     0.806000   367.000000   886.000000   977.000000  "
       ]
      },
      {
       "output_type": "stream",
       "stream": "stdout",
       "text": [
        "\n"
       ]
      }
     ],
     "prompt_number": 43
    },
    {
     "cell_type": "heading",
     "level": 2,
     "metadata": {},
     "source": [
      "3."
     ]
    },
    {
     "cell_type": "code",
     "collapsed": false,
     "input": [
      "#Using the  bikeshare_train  dataframe run a regression with  cnt  as our target variable, and  \n",
      "#temp ,  atemp ,  hum ,  workingday ,  hour ,  weathersit  as the feature variables. \n",
      "#Specify the R^2 value. We'll call this our training model \n",
      "#The resulting model should have one more coefficient than the number of feature variables.\n",
      "\n",
      "from sklearn import datasets, linear_model\n",
      "\n",
      "features=['workingday','weathersit','temp','atemp','hum']\n",
      "\n",
      "bikeshare_train_proj = bikeshare_train[features].copy()\n",
      "\n",
      "print bikeshare_train_proj.head()\n",
      "\n",
      "regressor = linear_model.LinearRegression(fit_intercept=True)\n",
      "\n",
      "regressor.fit(bikeshare_train_proj, bikeshare_train.cnt)\n",
      "print \"regression coefs:\", zip(features, regressor.coef_)\n",
      "print \"intercept:\",regressor.intercept_\n"
     ],
     "language": "python",
     "metadata": {},
     "outputs": [
      {
       "output_type": "stream",
       "stream": "stdout",
       "text": [
        "   workingday  weathersit  temp   atemp   hum\n",
        "0           0           1  0.24  0.2879  0.81\n",
        "1           0           1  0.22  0.2727  0.80\n",
        "2           0           1  0.22  0.2727  0.80\n",
        "3           0           1  0.24  0.2879  0.75\n",
        "4           0           1  0.24  0.2879  0.75\n",
        "regression coefs: [('workingday', -1.2995614678468252), ('weathersit', 2.6860411877217731), ('temp', 134.77734511151587), ('atemp', 185.33083524142955), ('hum', -190.51608150148746)]\n",
        "intercept: 110.467548525\n"
       ]
      }
     ],
     "prompt_number": 44
    },
    {
     "cell_type": "code",
     "collapsed": false,
     "input": [
      "# calculate the R-squared\n",
      "regressor.score(bikeshare_train_proj, bikeshare_train.cnt)"
     ],
     "language": "python",
     "metadata": {},
     "outputs": [
      {
       "metadata": {},
       "output_type": "pyout",
       "prompt_number": 45,
       "text": [
        "0.27834438233681857"
       ]
      }
     ],
     "prompt_number": 45
    },
    {
     "cell_type": "heading",
     "level": 2,
     "metadata": {},
     "source": [
      "4."
     ]
    },
    {
     "cell_type": "code",
     "collapsed": false,
     "input": [
      "# calculate the R-squared on bikeshare_test\n",
      "regressor.score(bikeshare_test[features], bikeshare_test.cnt)"
     ],
     "language": "python",
     "metadata": {},
     "outputs": [
      {
       "metadata": {},
       "output_type": "pyout",
       "prompt_number": 46,
       "text": [
        "0.072054047009987632"
       ]
      }
     ],
     "prompt_number": 46
    },
    {
     "cell_type": "markdown",
     "metadata": {},
     "source": [
      "The R-squared value calculated for the bikeshare_test sample is much lower than the one calculated for bikeshare_train.\n",
      "bikeshare_test includes the observations for the following year, so one can assume that a linear model doesn't fit the seasonality for this set of features."
     ]
    },
    {
     "cell_type": "heading",
     "level": 2,
     "metadata": {},
     "source": [
      "5. Create a binary variable for rush hour defined by 6-9am & 4-6pm."
     ]
    },
    {
     "cell_type": "code",
     "collapsed": false,
     "input": [
      "# initially set rush_hour to 0, then change.\n",
      "data['rush_hour'] = 0\n",
      "mask_rush_hour = ((data.hr > 5) & (data.hr < 10)) | ((data.hr >15) & (data.hr < 19))\n",
      "\n",
      "#print mask_rush_hour.head(24)\n",
      "data.loc[mask_rush_hour, 'rush_hour'] = 1\n",
      "#data.head(24)"
     ],
     "language": "python",
     "metadata": {},
     "outputs": [],
     "prompt_number": 59
    },
    {
     "cell_type": "heading",
     "level": 2,
     "metadata": {},
     "source": [
      "6.Run the regression again."
     ]
    },
    {
     "cell_type": "code",
     "collapsed": false,
     "input": [
      "#Using a similar process used in steps 2 and 3, assert whether this improves the results or not. \n",
      "#Why? (You should be able to explain this quantitatively) \n",
      "features2=['workingday','weathersit','temp','atemp','hum', 'rush_hour']\n",
      "\n",
      "bikeshare_train = data.head(N1)\n",
      "bikeshare_test = data.head(N2)\n",
      "\n",
      "bikeshare_train_proj = bikeshare_train[features2].copy()\n",
      "bikeshare_test_proj = bikeshare_test[features2].copy()\n",
      "\n",
      "print bikeshare_train_proj.head(10)\n",
      "\n",
      "regressor = linear_model.LinearRegression(fit_intercept=True)\n",
      "\n",
      "regressor.fit(bikeshare_train_proj, bikeshare_train.cnt)\n",
      "print \"regression coefs:\", zip(features2, regressor.coef_)\n",
      "print \"intercept:\",regressor.intercept_\n",
      "print \"train R_squared:\", regressor.score(bikeshare_train_proj, bikeshare_train.cnt)\n",
      "print \"test R_squared:\", regressor.score(bikeshare_test_proj, bikeshare_test.cnt)"
     ],
     "language": "python",
     "metadata": {},
     "outputs": [
      {
       "output_type": "stream",
       "stream": "stdout",
       "text": [
        "   workingday  weathersit  temp   atemp   hum  rush_hour\n",
        "0           0           1  0.24  0.2879  0.81          0\n",
        "1           0           1  0.22  0.2727  0.80          0\n",
        "2           0           1  0.22  0.2727  0.80          0\n",
        "3           0           1  0.24  0.2879  0.75          0\n",
        "4           0           1  0.24  0.2879  0.75          0\n",
        "5           0           2  0.24  0.2576  0.75          0\n",
        "6           0           1  0.22  0.2727  0.80          1\n",
        "7           0           1  0.20  0.2576  0.86          1\n",
        "8           0           1  0.24  0.2879  0.75          1\n",
        "9           0           1  0.32  0.3485  0.76          1\n",
        "regression coefs: [('workingday', -1.2609691071778881), ('weathersit', 0.4732377620396454), ('temp', 121.73036580452441), ('atemp', 200.93278974043832), ('hum', -184.17725792091426), ('rush_hour', 108.76536001940117)]\n",
        "intercept: 76.6011095312\n",
        "train R_squared: 0.415839801062\n",
        "test R_squared: 0.415862042583\n"
       ]
      }
     ],
     "prompt_number": 60
    },
    {
     "cell_type": "markdown",
     "metadata": {},
     "source": [
      "The regression made against the new set of features gets a better score. One can assume this is because there is a correlation between cnt and rush_hour. We can verify this with a correlation matrix:"
     ]
    },
    {
     "cell_type": "code",
     "collapsed": false,
     "input": [
      "import statsmodels.api as sm\n",
      "# Correlation coefficient matrix\n",
      "cols=['workingday','weathersit','temp','atemp','hum', 'rush_hour', 'cnt']\n",
      "corr_matrix = np.corrcoef(bikeshare_train[cols].T)\n",
      "sm.graphics.plot_corr(corr_matrix, xnames=cols)\n"
     ],
     "language": "python",
     "metadata": {},
     "outputs": [
      {
       "metadata": {},
       "output_type": "pyout",
       "png": "[encoded data removed]",
       "prompt_number": 67,
       "text": [
        "<matplotlib.figure.Figure at 0x7fe131ceac50>"
       ]
      },
      {
       "metadata": {},
       "output_type": "display_data",
       "png": "[encoded data removed]",
       "text": [
        "<matplotlib.figure.Figure at 0x7fe131ceac50>"
       ]
      }
     ],
     "prompt_number": 67
    },
    {
     "cell_type": "markdown",
     "metadata": {},
     "source": [
      "As suspected, there is a correlation between cnt and rush_hour, almost as high as between cnt and temp, which can explain why the previous model gave poor results on the test set of observations."
     ]
    },
    {
     "cell_type": "heading",
     "level": 1,
     "metadata": {},
     "source": [
      "Part 2"
     ]
    },
    {
     "cell_type": "heading",
     "level": 2,
     "metadata": {},
     "source": [
      "1. Generalization error"
     ]
    },
    {
     "cell_type": "code",
     "collapsed": false,
     "input": [
      "#1.The error you calculated in step 4 is called generalization error. \n",
      "#E\n",
      "#xplain why it's called generalization error and why it's important when evaluating our regression model.  "
     ],
     "language": "python",
     "metadata": {},
     "outputs": [],
     "prompt_number": 68
    },
    {
     "cell_type": "markdown",
     "metadata": {},
     "source": [
      "This is called generalization error because it represents the capacity of the regression to generalize to other (sets of) observations."
     ]
    },
    {
     "cell_type": "heading",
     "level": 2,
     "metadata": {},
     "source": [
      "2.Of the features you used for regression above, which one best explains  cnt ?"
     ]
    },
    {
     "cell_type": "markdown",
     "metadata": {},
     "source": [
      "As per the correlation matrix above, the feature that best explains cnt is \"temp\""
     ]
    },
    {
     "cell_type": "heading",
     "level": 2,
     "metadata": {},
     "source": [
      "3.Which variables in the dataset are correlated and how do these affect your regression?"
     ]
    },
    {
     "cell_type": "markdown",
     "metadata": {},
     "source": [
      "As per the correlation matrix above, the correlated variables are temp/atemp and weathersit/hum"
     ]
    },
    {
     "cell_type": "code",
     "collapsed": false,
     "input": [],
     "language": "python",
     "metadata": {},
     "outputs": []
    }
   ],
   "metadata": {}
  }
 ]
}