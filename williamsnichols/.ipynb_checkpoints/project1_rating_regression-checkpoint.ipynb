{
 "cells": [
  {
   "cell_type": "code",
   "execution_count": 82,
   "metadata": {
    "collapsed": false
   },
   "outputs": [
    {
     "data": {
      "text/html": [
       "<link rel=\"stylesheet\" href=\"http://bit.ly/1DxvcrA\">"
      ],
      "text/plain": [
       "<IPython.core.display.HTML object>"
      ]
     },
     "metadata": {},
     "output_type": "display_data"
    }
   ],
   "source": [
    "%%html \n",
    "<link rel=\"stylesheet\" href=\"http://bit.ly/1DxvcrA\">"
   ]
  },
  {
   "cell_type": "code",
   "execution_count": 83,
   "metadata": {
    "collapsed": false
   },
   "outputs": [],
   "source": [
    "# imports\n",
    "import pandas as pd\n",
    "import statsmodels.formula.api as smf\n",
    "import statsmodels.api as sm\n",
    "import matplotlib.pyplot as plt\n",
    "import numpy as np\n",
    "from sklearn import linear_model\n",
    "from sklearn.linear_model import LogisticRegression\n",
    "from sklearn.cross_validation import train_test_split\n",
    "from sklearn import metrics\n",
    "from sklearn.cross_validation import cross_val_score\n",
    "\n",
    "# this allows plots to appear directly in the notebook\n",
    "%matplotlib inline\n",
    "plt.style.use('fivethirtyeight')    \n"
   ]
  },
  {
   "cell_type": "markdown",
   "metadata": {},
   "source": [
    "## Importing and exploring the data\n",
    "----\n",
    "## About this dataset\n",
    "- real order data from ~30,000 grocery delivery orders completed in Feb and March 2015\n",
    "- after order is completed, customers are prompted to rate their experience from 1 to 5 stars, with 5 being the best. Customers are not required to rate.\n",
    "- each order should be delivered within a 1-hour window, e.g. 5pm-6pm\n",
    "- early orders = delivered before the start of that window\n",
    "- late orders = delivered after window end\n",
    "- on time orders = delivered at any point within the 1-hour window\n",
    "\n",
    "## Objective\n",
    "- Use logistic regression model to determine which variables are most correlated with negative customer experiences, i.e. which features of a given order are likely to result in a higher rating.\n",
    "- For the purposes of this analysis, I have created a binary target in which a customer rating is categorized as either 5 stars or not 5 stars.\n",
    "\n",
    "## Features:\n",
    "- ***minutes_late:*** minutes after end of window (int)\n",
    "- ***minutes_early:*** minutes before start of window (int)\n",
    "- ***on_time:*** delivered within window (bool)\n",
    "- ***fifteen_early:*** delivered btw 0-15 minutes early (bool)\n",
    "- ***very_early:*** delivered >15 minutes early (bool)\n",
    "- ***fifteen_late:*** delivered btw 0-15 minutes late (bool)\t\n",
    "- ***very_late:*** delivered >15 minutes late (bool)\n",
    "- ***has_issue:***: order contained one or more complaint from customer (bool) \t\n",
    "- ***charge:*** transaction amount, $ (int)\n",
    "- ***batch_type:*** order executed by a single worker, or a handoff between two workers (string)\n",
    "- ***order_num:***\tordinal number of order for customer, e.g. 3 = third order for that customer\n",
    "- ***rating:*** customer rating 1-5 stars. 0 = not rated (int)\n",
    "- ***refunded:*** pct of grocery items not found in store and refunded to customer (float)\t\n",
    "- ***replaced:*** pct of grocery items not found in store and replaced with similar item (float)\t\t\n",
    "- ***target:*** was order <5 stars (bool)\n"
   ]
  },
  {
   "cell_type": "code",
   "execution_count": 84,
   "metadata": {
    "collapsed": false
   },
   "outputs": [
    {
     "data": {
      "text/html": [
       "<div style=\"max-height:1000px;max-width:1500px;overflow:auto;\">\n",
       "<table border=\"1\" class=\"dataframe\">\n",
       "  <thead>\n",
       "    <tr style=\"text-align: right;\">\n",
       "      <th></th>\n",
       "      <th>minutes_late</th>\n",
       "      <th>minutes_early</th>\n",
       "      <th>on_time</th>\n",
       "      <th>fifteen_early</th>\n",
       "      <th>very_early</th>\n",
       "      <th>fifteen_late</th>\n",
       "      <th>very_late</th>\n",
       "      <th>has_issue</th>\n",
       "      <th>charge</th>\n",
       "      <th>order_num</th>\n",
       "      <th>rating</th>\n",
       "      <th>refunded</th>\n",
       "      <th>replaced</th>\n",
       "      <th>target</th>\n",
       "    </tr>\n",
       "    <tr>\n",
       "      <th>id</th>\n",
       "      <th></th>\n",
       "      <th></th>\n",
       "      <th></th>\n",
       "      <th></th>\n",
       "      <th></th>\n",
       "      <th></th>\n",
       "      <th></th>\n",
       "      <th></th>\n",
       "      <th></th>\n",
       "      <th></th>\n",
       "      <th></th>\n",
       "      <th></th>\n",
       "      <th></th>\n",
       "      <th></th>\n",
       "    </tr>\n",
       "  </thead>\n",
       "  <tbody>\n",
       "    <tr>\n",
       "      <th>234770763</th>\n",
       "      <td> 0</td>\n",
       "      <td> 117.599508</td>\n",
       "      <td> 0</td>\n",
       "      <td> 0</td>\n",
       "      <td> 1</td>\n",
       "      <td> 0</td>\n",
       "      <td> 0</td>\n",
       "      <td> 0</td>\n",
       "      <td>  28.90</td>\n",
       "      <td> 86</td>\n",
       "      <td> 0</td>\n",
       "      <td> 0.000000</td>\n",
       "      <td> 0.000000</td>\n",
       "      <td> 0</td>\n",
       "    </tr>\n",
       "    <tr>\n",
       "      <th>234728379</th>\n",
       "      <td> 0</td>\n",
       "      <td>  86.596930</td>\n",
       "      <td> 0</td>\n",
       "      <td> 0</td>\n",
       "      <td> 1</td>\n",
       "      <td> 0</td>\n",
       "      <td> 0</td>\n",
       "      <td> 0</td>\n",
       "      <td>  58.44</td>\n",
       "      <td>  9</td>\n",
       "      <td> 4</td>\n",
       "      <td> 0.125000</td>\n",
       "      <td> 0.000000</td>\n",
       "      <td> 0</td>\n",
       "    </tr>\n",
       "    <tr>\n",
       "      <th>234802232</th>\n",
       "      <td> 0</td>\n",
       "      <td>  82.364777</td>\n",
       "      <td> 0</td>\n",
       "      <td> 0</td>\n",
       "      <td> 1</td>\n",
       "      <td> 0</td>\n",
       "      <td> 0</td>\n",
       "      <td> 0</td>\n",
       "      <td> 122.70</td>\n",
       "      <td>  9</td>\n",
       "      <td> 5</td>\n",
       "      <td> 0.000000</td>\n",
       "      <td> 0.173913</td>\n",
       "      <td> 1</td>\n",
       "    </tr>\n",
       "    <tr>\n",
       "      <th>234709073</th>\n",
       "      <td> 0</td>\n",
       "      <td>  82.161657</td>\n",
       "      <td> 0</td>\n",
       "      <td> 0</td>\n",
       "      <td> 1</td>\n",
       "      <td> 0</td>\n",
       "      <td> 0</td>\n",
       "      <td> 0</td>\n",
       "      <td> 113.11</td>\n",
       "      <td> 10</td>\n",
       "      <td> 5</td>\n",
       "      <td> 0.000000</td>\n",
       "      <td> 0.000000</td>\n",
       "      <td> 1</td>\n",
       "    </tr>\n",
       "    <tr>\n",
       "      <th>234696535</th>\n",
       "      <td> 0</td>\n",
       "      <td>  81.416833</td>\n",
       "      <td> 0</td>\n",
       "      <td> 0</td>\n",
       "      <td> 1</td>\n",
       "      <td> 0</td>\n",
       "      <td> 0</td>\n",
       "      <td> 0</td>\n",
       "      <td>  88.64</td>\n",
       "      <td>  1</td>\n",
       "      <td> 0</td>\n",
       "      <td> 0.285714</td>\n",
       "      <td> 0.000000</td>\n",
       "      <td> 0</td>\n",
       "    </tr>\n",
       "  </tbody>\n",
       "</table>\n",
       "</div>"
      ],
      "text/plain": [
       "           minutes_late  minutes_early  on_time  fifteen_early  very_early  \\\n",
       "id                                                                           \n",
       "234770763             0     117.599508        0              0           1   \n",
       "234728379             0      86.596930        0              0           1   \n",
       "234802232             0      82.364777        0              0           1   \n",
       "234709073             0      82.161657        0              0           1   \n",
       "234696535             0      81.416833        0              0           1   \n",
       "\n",
       "           fifteen_late  very_late  has_issue  charge  order_num  rating  \\\n",
       "id                                                                         \n",
       "234770763             0          0          0   28.90         86       0   \n",
       "234728379             0          0          0   58.44          9       4   \n",
       "234802232             0          0          0  122.70          9       5   \n",
       "234709073             0          0          0  113.11         10       5   \n",
       "234696535             0          0          0   88.64          1       0   \n",
       "\n",
       "           refunded  replaced  target  \n",
       "id                                     \n",
       "234770763  0.000000  0.000000       0  \n",
       "234728379  0.125000  0.000000       0  \n",
       "234802232  0.000000  0.173913       1  \n",
       "234709073  0.000000  0.000000       1  \n",
       "234696535  0.285714  0.000000       0  "
      ]
     },
     "execution_count": 84,
     "metadata": {},
     "output_type": "execute_result"
    }
   ],
   "source": [
    "# read data into a DataFrame\n",
    "data = pd.read_csv('data/regression-data-wn.csv', index_col=0)\n",
    "\n",
    "# add target column for rating < 5 stars\n",
    "data['target'] = data['rating'].map(lambda x: 1 if x == 5 else 0)\n",
    "\n",
    "# decided to remove all categorial variables for sake of simiplicity\n",
    "data = data.drop(['zone_id', 'warehouse', 'batch_type'], axis=1)\n",
    "\n",
    "data.head()"
   ]
  },
  {
   "cell_type": "code",
   "execution_count": 85,
   "metadata": {
    "collapsed": false
   },
   "outputs": [
    {
     "data": {
      "text/html": [
       "<div style=\"max-height:1000px;max-width:1500px;overflow:auto;\">\n",
       "<table border=\"1\" class=\"dataframe\">\n",
       "  <thead>\n",
       "    <tr style=\"text-align: right;\">\n",
       "      <th></th>\n",
       "      <th>minutes_late</th>\n",
       "      <th>minutes_early</th>\n",
       "      <th>on_time</th>\n",
       "      <th>fifteen_early</th>\n",
       "      <th>very_early</th>\n",
       "      <th>fifteen_late</th>\n",
       "      <th>very_late</th>\n",
       "      <th>has_issue</th>\n",
       "      <th>charge</th>\n",
       "      <th>order_num</th>\n",
       "      <th>rating</th>\n",
       "      <th>refunded</th>\n",
       "      <th>replaced</th>\n",
       "      <th>target</th>\n",
       "    </tr>\n",
       "  </thead>\n",
       "  <tbody>\n",
       "    <tr>\n",
       "      <th>count</th>\n",
       "      <td> 29124.000000</td>\n",
       "      <td> 29124.000000</td>\n",
       "      <td> 29124.000000</td>\n",
       "      <td> 29124.000000</td>\n",
       "      <td> 29124.000000</td>\n",
       "      <td> 29124.000000</td>\n",
       "      <td> 29124.000000</td>\n",
       "      <td> 29124.000000</td>\n",
       "      <td> 29113.000000</td>\n",
       "      <td> 29113.000000</td>\n",
       "      <td> 29113.000000</td>\n",
       "      <td> 29113.000000</td>\n",
       "      <td> 29113.000000</td>\n",
       "      <td> 29124.000000</td>\n",
       "    </tr>\n",
       "    <tr>\n",
       "      <th>mean</th>\n",
       "      <td>     3.050731</td>\n",
       "      <td>     2.729364</td>\n",
       "      <td>     0.679749</td>\n",
       "      <td>     0.118047</td>\n",
       "      <td>     0.072895</td>\n",
       "      <td>     0.066921</td>\n",
       "      <td>     0.062388</td>\n",
       "      <td>     0.108673</td>\n",
       "      <td>   102.796572</td>\n",
       "      <td>    11.131350</td>\n",
       "      <td>     1.841651</td>\n",
       "      <td>     0.099909</td>\n",
       "      <td>     0.109799</td>\n",
       "      <td>     0.280731</td>\n",
       "    </tr>\n",
       "    <tr>\n",
       "      <th>std</th>\n",
       "      <td>    12.986468</td>\n",
       "      <td>     7.789016</td>\n",
       "      <td>     0.466581</td>\n",
       "      <td>     0.322669</td>\n",
       "      <td>     0.259969</td>\n",
       "      <td>     0.249889</td>\n",
       "      <td>     0.241864</td>\n",
       "      <td>     0.311234</td>\n",
       "      <td>    72.745299</td>\n",
       "      <td>    16.905641</td>\n",
       "      <td>     2.252445</td>\n",
       "      <td>     0.118427</td>\n",
       "      <td>     0.121104</td>\n",
       "      <td>     0.449364</td>\n",
       "    </tr>\n",
       "    <tr>\n",
       "      <th>min</th>\n",
       "      <td>     0.000000</td>\n",
       "      <td>     0.000000</td>\n",
       "      <td>     0.000000</td>\n",
       "      <td>     0.000000</td>\n",
       "      <td>     0.000000</td>\n",
       "      <td>     0.000000</td>\n",
       "      <td>     0.000000</td>\n",
       "      <td>     0.000000</td>\n",
       "      <td>     0.000000</td>\n",
       "      <td>     1.000000</td>\n",
       "      <td>     0.000000</td>\n",
       "      <td>     0.000000</td>\n",
       "      <td>     0.000000</td>\n",
       "      <td>     0.000000</td>\n",
       "    </tr>\n",
       "    <tr>\n",
       "      <th>25%</th>\n",
       "      <td>     0.000000</td>\n",
       "      <td>     0.000000</td>\n",
       "      <td>     0.000000</td>\n",
       "      <td>     0.000000</td>\n",
       "      <td>     0.000000</td>\n",
       "      <td>     0.000000</td>\n",
       "      <td>     0.000000</td>\n",
       "      <td>     0.000000</td>\n",
       "      <td>    54.630000</td>\n",
       "      <td>     2.000000</td>\n",
       "      <td>     0.000000</td>\n",
       "      <td>     0.000000</td>\n",
       "      <td>     0.000000</td>\n",
       "      <td>     0.000000</td>\n",
       "    </tr>\n",
       "    <tr>\n",
       "      <th>50%</th>\n",
       "      <td>     0.000000</td>\n",
       "      <td>     0.000000</td>\n",
       "      <td>     1.000000</td>\n",
       "      <td>     0.000000</td>\n",
       "      <td>     0.000000</td>\n",
       "      <td>     0.000000</td>\n",
       "      <td>     0.000000</td>\n",
       "      <td>     0.000000</td>\n",
       "      <td>    84.540000</td>\n",
       "      <td>     5.000000</td>\n",
       "      <td>     0.000000</td>\n",
       "      <td>     0.071429</td>\n",
       "      <td>     0.086957</td>\n",
       "      <td>     0.000000</td>\n",
       "    </tr>\n",
       "    <tr>\n",
       "      <th>75%</th>\n",
       "      <td>     0.000000</td>\n",
       "      <td>     0.000000</td>\n",
       "      <td>     1.000000</td>\n",
       "      <td>     0.000000</td>\n",
       "      <td>     0.000000</td>\n",
       "      <td>     0.000000</td>\n",
       "      <td>     0.000000</td>\n",
       "      <td>     0.000000</td>\n",
       "      <td>   128.750000</td>\n",
       "      <td>    13.000000</td>\n",
       "      <td>     5.000000</td>\n",
       "      <td>     0.153846</td>\n",
       "      <td>     0.166667</td>\n",
       "      <td>     1.000000</td>\n",
       "    </tr>\n",
       "    <tr>\n",
       "      <th>max</th>\n",
       "      <td>   289.614104</td>\n",
       "      <td>   117.599508</td>\n",
       "      <td>     1.000000</td>\n",
       "      <td>     1.000000</td>\n",
       "      <td>     1.000000</td>\n",
       "      <td>     1.000000</td>\n",
       "      <td>     1.000000</td>\n",
       "      <td>     1.000000</td>\n",
       "      <td>  1190.680000</td>\n",
       "      <td>   224.000000</td>\n",
       "      <td>     5.000000</td>\n",
       "      <td>     1.000000</td>\n",
       "      <td>     1.000000</td>\n",
       "      <td>     1.000000</td>\n",
       "    </tr>\n",
       "  </tbody>\n",
       "</table>\n",
       "</div>"
      ],
      "text/plain": [
       "       minutes_late  minutes_early       on_time  fifteen_early    very_early  \\\n",
       "count  29124.000000   29124.000000  29124.000000   29124.000000  29124.000000   \n",
       "mean       3.050731       2.729364      0.679749       0.118047      0.072895   \n",
       "std       12.986468       7.789016      0.466581       0.322669      0.259969   \n",
       "min        0.000000       0.000000      0.000000       0.000000      0.000000   \n",
       "25%        0.000000       0.000000      0.000000       0.000000      0.000000   \n",
       "50%        0.000000       0.000000      1.000000       0.000000      0.000000   \n",
       "75%        0.000000       0.000000      1.000000       0.000000      0.000000   \n",
       "max      289.614104     117.599508      1.000000       1.000000      1.000000   \n",
       "\n",
       "       fifteen_late     very_late     has_issue        charge     order_num  \\\n",
       "count  29124.000000  29124.000000  29124.000000  29113.000000  29113.000000   \n",
       "mean       0.066921      0.062388      0.108673    102.796572     11.131350   \n",
       "std        0.249889      0.241864      0.311234     72.745299     16.905641   \n",
       "min        0.000000      0.000000      0.000000      0.000000      1.000000   \n",
       "25%        0.000000      0.000000      0.000000     54.630000      2.000000   \n",
       "50%        0.000000      0.000000      0.000000     84.540000      5.000000   \n",
       "75%        0.000000      0.000000      0.000000    128.750000     13.000000   \n",
       "max        1.000000      1.000000      1.000000   1190.680000    224.000000   \n",
       "\n",
       "             rating      refunded      replaced        target  \n",
       "count  29113.000000  29113.000000  29113.000000  29124.000000  \n",
       "mean       1.841651      0.099909      0.109799      0.280731  \n",
       "std        2.252445      0.118427      0.121104      0.449364  \n",
       "min        0.000000      0.000000      0.000000      0.000000  \n",
       "25%        0.000000      0.000000      0.000000      0.000000  \n",
       "50%        0.000000      0.071429      0.086957      0.000000  \n",
       "75%        5.000000      0.153846      0.166667      1.000000  \n",
       "max        5.000000      1.000000      1.000000      1.000000  "
      ]
     },
     "execution_count": 85,
     "metadata": {},
     "output_type": "execute_result"
    }
   ],
   "source": [
    "data.describe()"
   ]
  },
  {
   "cell_type": "code",
   "execution_count": 86,
   "metadata": {
    "collapsed": false
   },
   "outputs": [
    {
     "data": {
      "text/html": [
       "<div style=\"max-height:1000px;max-width:1500px;overflow:auto;\">\n",
       "<table border=\"1\" class=\"dataframe\">\n",
       "  <thead>\n",
       "    <tr style=\"text-align: right;\">\n",
       "      <th></th>\n",
       "      <th>minutes_late</th>\n",
       "      <th>minutes_early</th>\n",
       "      <th>on_time</th>\n",
       "      <th>fifteen_early</th>\n",
       "      <th>very_early</th>\n",
       "      <th>fifteen_late</th>\n",
       "      <th>very_late</th>\n",
       "      <th>has_issue</th>\n",
       "      <th>charge</th>\n",
       "      <th>order_num</th>\n",
       "      <th>refunded</th>\n",
       "      <th>replaced</th>\n",
       "      <th>target</th>\n",
       "    </tr>\n",
       "    <tr>\n",
       "      <th>rating</th>\n",
       "      <th></th>\n",
       "      <th></th>\n",
       "      <th></th>\n",
       "      <th></th>\n",
       "      <th></th>\n",
       "      <th></th>\n",
       "      <th></th>\n",
       "      <th></th>\n",
       "      <th></th>\n",
       "      <th></th>\n",
       "      <th></th>\n",
       "      <th></th>\n",
       "      <th></th>\n",
       "    </tr>\n",
       "  </thead>\n",
       "  <tbody>\n",
       "    <tr>\n",
       "      <th>0</th>\n",
       "      <td> 3.024465</td>\n",
       "      <td> 2.841882</td>\n",
       "      <td> 0.675447</td>\n",
       "      <td> 0.119200</td>\n",
       "      <td> 0.076215</td>\n",
       "      <td> 0.066337</td>\n",
       "      <td> 0.062801</td>\n",
       "      <td> 0.049692</td>\n",
       "      <td> 104.627646</td>\n",
       "      <td> 12.264679</td>\n",
       "      <td> 0.097978</td>\n",
       "      <td> 0.110307</td>\n",
       "      <td> 0</td>\n",
       "    </tr>\n",
       "    <tr>\n",
       "      <th>1</th>\n",
       "      <td> 7.012277</td>\n",
       "      <td> 2.246625</td>\n",
       "      <td> 0.632427</td>\n",
       "      <td> 0.114804</td>\n",
       "      <td> 0.064451</td>\n",
       "      <td> 0.083585</td>\n",
       "      <td> 0.104733</td>\n",
       "      <td> 0.710977</td>\n",
       "      <td> 107.363061</td>\n",
       "      <td>  8.626385</td>\n",
       "      <td> 0.198624</td>\n",
       "      <td> 0.098361</td>\n",
       "      <td> 0</td>\n",
       "    </tr>\n",
       "    <tr>\n",
       "      <th>2</th>\n",
       "      <td> 5.739660</td>\n",
       "      <td> 2.730798</td>\n",
       "      <td> 0.662757</td>\n",
       "      <td> 0.098240</td>\n",
       "      <td> 0.071848</td>\n",
       "      <td> 0.065982</td>\n",
       "      <td> 0.101173</td>\n",
       "      <td> 0.697947</td>\n",
       "      <td> 103.114252</td>\n",
       "      <td>  8.851906</td>\n",
       "      <td> 0.176871</td>\n",
       "      <td> 0.105870</td>\n",
       "      <td> 0</td>\n",
       "    </tr>\n",
       "    <tr>\n",
       "      <th>3</th>\n",
       "      <td> 4.641533</td>\n",
       "      <td> 2.504509</td>\n",
       "      <td> 0.645070</td>\n",
       "      <td> 0.112676</td>\n",
       "      <td> 0.063850</td>\n",
       "      <td> 0.083568</td>\n",
       "      <td> 0.094836</td>\n",
       "      <td> 0.540845</td>\n",
       "      <td> 109.463305</td>\n",
       "      <td>  9.901408</td>\n",
       "      <td> 0.149265</td>\n",
       "      <td> 0.105891</td>\n",
       "      <td> 0</td>\n",
       "    </tr>\n",
       "    <tr>\n",
       "      <th>4</th>\n",
       "      <td> 3.008725</td>\n",
       "      <td> 2.835681</td>\n",
       "      <td> 0.663140</td>\n",
       "      <td> 0.126392</td>\n",
       "      <td> 0.071826</td>\n",
       "      <td> 0.071269</td>\n",
       "      <td> 0.067372</td>\n",
       "      <td> 0.231069</td>\n",
       "      <td> 101.676860</td>\n",
       "      <td>  8.233853</td>\n",
       "      <td> 0.110162</td>\n",
       "      <td> 0.120333</td>\n",
       "      <td> 0</td>\n",
       "    </tr>\n",
       "    <tr>\n",
       "      <th>5</th>\n",
       "      <td> 2.176240</td>\n",
       "      <td> 2.570644</td>\n",
       "      <td> 0.703889</td>\n",
       "      <td> 0.116683</td>\n",
       "      <td> 0.068860</td>\n",
       "      <td> 0.062867</td>\n",
       "      <td> 0.047701</td>\n",
       "      <td> 0.021649</td>\n",
       "      <td>  97.919897</td>\n",
       "      <td> 10.148973</td>\n",
       "      <td> 0.076693</td>\n",
       "      <td> 0.108693</td>\n",
       "      <td> 1</td>\n",
       "    </tr>\n",
       "  </tbody>\n",
       "</table>\n",
       "</div>"
      ],
      "text/plain": [
       "        minutes_late  minutes_early   on_time  fifteen_early  very_early  \\\n",
       "rating                                                                     \n",
       "0           3.024465       2.841882  0.675447       0.119200    0.076215   \n",
       "1           7.012277       2.246625  0.632427       0.114804    0.064451   \n",
       "2           5.739660       2.730798  0.662757       0.098240    0.071848   \n",
       "3           4.641533       2.504509  0.645070       0.112676    0.063850   \n",
       "4           3.008725       2.835681  0.663140       0.126392    0.071826   \n",
       "5           2.176240       2.570644  0.703889       0.116683    0.068860   \n",
       "\n",
       "        fifteen_late  very_late  has_issue      charge  order_num  refunded  \\\n",
       "rating                                                                        \n",
       "0           0.066337   0.062801   0.049692  104.627646  12.264679  0.097978   \n",
       "1           0.083585   0.104733   0.710977  107.363061   8.626385  0.198624   \n",
       "2           0.065982   0.101173   0.697947  103.114252   8.851906  0.176871   \n",
       "3           0.083568   0.094836   0.540845  109.463305   9.901408  0.149265   \n",
       "4           0.071269   0.067372   0.231069  101.676860   8.233853  0.110162   \n",
       "5           0.062867   0.047701   0.021649   97.919897  10.148973  0.076693   \n",
       "\n",
       "        replaced  target  \n",
       "rating                    \n",
       "0       0.110307       0  \n",
       "1       0.098361       0  \n",
       "2       0.105870       0  \n",
       "3       0.105891       0  \n",
       "4       0.120333       0  \n",
       "5       0.108693       1  "
      ]
     },
     "execution_count": 86,
     "metadata": {},
     "output_type": "execute_result"
    }
   ],
   "source": [
    "data.groupby('rating').mean()"
   ]
  },
  {
   "cell_type": "code",
   "execution_count": 87,
   "metadata": {
    "collapsed": false
   },
   "outputs": [
    {
     "data": {
      "text/plain": [
       "<matplotlib.text.Text at 0x10a30ff50>"
      ]
     },
     "execution_count": 87,
     "metadata": {},
     "output_type": "execute_result"
    },
    {
     "data": {
      "image/png": "[encoded data removed]",
      "text/plain": [
       "<matplotlib.figure.Figure at 0x10ee68bd0>"
      ]
     },
     "metadata": {},
     "output_type": "display_data"
    }
   ],
   "source": [
    "# drop non-rated orders. will use this dataset going forward.\n",
    "rated_orders = data[data.rating > 0]\n",
    "#rated_orders.describe()\n",
    "# explore distribution of rated orders\n",
    "rated_orders.rating.plot(kind='hist', bins=[1,2,3,4,5,6])\n",
    "plt.title('Most rated orders are given 5 stars')\n",
    "plt.xlabel('Rating')\n",
    "plt.ylabel('Frequency')"
   ]
  },
  {
   "cell_type": "code",
   "execution_count": 88,
   "metadata": {
    "collapsed": false
   },
   "outputs": [
    {
     "data": {
      "text/plain": [
       "<matplotlib.text.Text at 0x10f743b50>"
      ]
     },
     "execution_count": 88,
     "metadata": {},
     "output_type": "execute_result"
    },
    {
     "data": {
      "image/png": "[encoded data removed]",
      "text/plain": [
       "<matplotlib.figure.Figure at 0x10a902090>"
      ]
     },
     "metadata": {},
     "output_type": "display_data"
    }
   ],
   "source": [
    "# explore lateness of all orders...guessing this has highest correlation\n",
    "late_orders = data[data.minutes_late > 0]\n",
    "\n",
    "late_orders.minutes_late.plot(kind='hist', bins=[0,2.5,5,7.5,10,12.5,15,17.5,20,22.5,25,27.5,30,32.5,35,37.5,40])\n",
    "plt.title('Lateness distribution')\n",
    "plt.xlabel('Minutes late')\n",
    "plt.ylabel('Frequency')"
   ]
  },
  {
   "cell_type": "code",
   "execution_count": 89,
   "metadata": {
    "collapsed": false
   },
   "outputs": [
    {
     "data": {
      "text/plain": [
       "<matplotlib.text.Text at 0x10f793e50>"
      ]
     },
     "execution_count": 89,
     "metadata": {},
     "output_type": "execute_result"
    },
    {
     "data": {
      "image/png": "[encoded data removed]",
      "text/plain": [
       "<matplotlib.figure.Figure at 0x10fba7a10>"
      ]
     },
     "metadata": {},
     "output_type": "display_data"
    }
   ],
   "source": [
    "# barplot of rating by very late (15+ minutes late) (True or False)\n",
    "pd.crosstab(late_orders.rating, late_orders.very_late.astype(bool)).plot(kind='bar')\n",
    "plt.title('Orders Rating Distribution by \\'very lates\\' (15 minutes+ late)')\n",
    "plt.xlabel('Order Rating')\n",
    "plt.ylabel('Frequency')"
   ]
  },
  {
   "cell_type": "markdown",
   "metadata": {},
   "source": [
    "## Preparing for logistic regression"
   ]
  },
  {
   "cell_type": "code",
   "execution_count": 90,
   "metadata": {
    "collapsed": false
   },
   "outputs": [
    {
     "name": "stdout",
     "output_type": "stream",
     "text": [
      "Index([u'Intercept', u'minutes_late', u'minutes_early', u'on_time', u'fifteen_early', u'very_early', u'fifteen_late', u'very_late', u'has_issue', u'charge', u'order_num', u'refunded', u'replaced'], dtype='object')\n",
      "           target\n",
      "id               \n",
      "234728379       0\n",
      "234802232       1\n",
      "234709073       1\n",
      "234814367       0\n",
      "234770510       1\n"
     ]
    }
   ],
   "source": [
    "from patsy import dmatrices\n",
    "\n",
    "# drop ratings column from rated_orders for collinearity\n",
    "lm_rated_orders = rated_orders.drop(['rating'], axis=1)\n",
    "\n",
    "# create dataframes with an intercept column\n",
    "y, X = dmatrices('target ~ minutes_late\t+ minutes_early\t+ on_time + \\\n",
    "                  fifteen_early + very_early + fifteen_late + very_late + \\\n",
    "                  has_issue + charge + order_num + refunded + replaced',\n",
    "                  lm_rated_orders, return_type=\"dataframe\")\n",
    "\n",
    "# confirm columns and target\n",
    "print(X.columns)\n",
    "print(y.head(5))"
   ]
  },
  {
   "cell_type": "code",
   "execution_count": 91,
   "metadata": {
    "collapsed": false
   },
   "outputs": [],
   "source": [
    "# flatten y into a 1-D array\n",
    "y = np.ravel(y)"
   ]
  },
  {
   "cell_type": "code",
   "execution_count": 92,
   "metadata": {
    "collapsed": false
   },
   "outputs": [
    {
     "data": {
      "text/plain": [
       "0.80144745122718686"
      ]
     },
     "execution_count": 92,
     "metadata": {},
     "output_type": "execute_result"
    }
   ],
   "source": [
    "# make logistic regression model, and fit with X and y\n",
    "model = LogisticRegression()\n",
    "model = model.fit(X, y)\n",
    "\n",
    "# check accuracy on the training set\n",
    "model.score(X, y)"
   ]
  },
  {
   "cell_type": "code",
   "execution_count": 93,
   "metadata": {
    "collapsed": false
   },
   "outputs": [
    {
     "data": {
      "text/plain": [
       "0.64317180616740088"
      ]
     },
     "execution_count": 93,
     "metadata": {},
     "output_type": "execute_result"
    }
   ],
   "source": [
    "# what percentage rated 5 stars? score needs to be better than this. it is.\n",
    "y.mean()"
   ]
  },
  {
   "cell_type": "code",
   "execution_count": 94,
   "metadata": {
    "collapsed": false
   },
   "outputs": [
    {
     "data": {
      "text/html": [
       "<div style=\"max-height:1000px;max-width:1500px;overflow:auto;\">\n",
       "<table border=\"1\" class=\"dataframe\">\n",
       "  <thead>\n",
       "    <tr style=\"text-align: right;\">\n",
       "      <th></th>\n",
       "      <th>0</th>\n",
       "      <th>1</th>\n",
       "    </tr>\n",
       "  </thead>\n",
       "  <tbody>\n",
       "    <tr>\n",
       "      <th>0 </th>\n",
       "      <td>     Intercept</td>\n",
       "      <td>     [0.764622313128]</td>\n",
       "    </tr>\n",
       "    <tr>\n",
       "      <th>1 </th>\n",
       "      <td>  minutes_late</td>\n",
       "      <td>   [-0.0105279635238]</td>\n",
       "    </tr>\n",
       "    <tr>\n",
       "      <th>2 </th>\n",
       "      <td> minutes_early</td>\n",
       "      <td>   [-0.0144684147079]</td>\n",
       "    </tr>\n",
       "    <tr>\n",
       "      <th>3 </th>\n",
       "      <td>       on_time</td>\n",
       "      <td>     [0.216400217382]</td>\n",
       "    </tr>\n",
       "    <tr>\n",
       "      <th>4 </th>\n",
       "      <td> fifteen_early</td>\n",
       "      <td>     [0.222994452116]</td>\n",
       "    </tr>\n",
       "    <tr>\n",
       "      <th>5 </th>\n",
       "      <td>    very_early</td>\n",
       "      <td>     [0.468565207281]</td>\n",
       "    </tr>\n",
       "    <tr>\n",
       "      <th>6 </th>\n",
       "      <td>  fifteen_late</td>\n",
       "      <td> [-0.000605822406652]</td>\n",
       "    </tr>\n",
       "    <tr>\n",
       "      <th>7 </th>\n",
       "      <td>     very_late</td>\n",
       "      <td>    [-0.142731741244]</td>\n",
       "    </tr>\n",
       "    <tr>\n",
       "      <th>8 </th>\n",
       "      <td>     has_issue</td>\n",
       "      <td>     [-3.61055827667]</td>\n",
       "    </tr>\n",
       "    <tr>\n",
       "      <th>9 </th>\n",
       "      <td>        charge</td>\n",
       "      <td>  [7.34884701837e-05]</td>\n",
       "    </tr>\n",
       "    <tr>\n",
       "      <th>10</th>\n",
       "      <td>     order_num</td>\n",
       "      <td>    [0.0122483363776]</td>\n",
       "    </tr>\n",
       "    <tr>\n",
       "      <th>11</th>\n",
       "      <td>      refunded</td>\n",
       "      <td>     [-4.16722773015]</td>\n",
       "    </tr>\n",
       "    <tr>\n",
       "      <th>12</th>\n",
       "      <td>      replaced</td>\n",
       "      <td>     [-1.19791600451]</td>\n",
       "    </tr>\n",
       "  </tbody>\n",
       "</table>\n",
       "</div>"
      ],
      "text/plain": [
       "                0                     1\n",
       "0       Intercept      [0.764622313128]\n",
       "1    minutes_late    [-0.0105279635238]\n",
       "2   minutes_early    [-0.0144684147079]\n",
       "3         on_time      [0.216400217382]\n",
       "4   fifteen_early      [0.222994452116]\n",
       "5      very_early      [0.468565207281]\n",
       "6    fifteen_late  [-0.000605822406652]\n",
       "7       very_late     [-0.142731741244]\n",
       "8       has_issue      [-3.61055827667]\n",
       "9          charge   [7.34884701837e-05]\n",
       "10      order_num     [0.0122483363776]\n",
       "11       refunded      [-4.16722773015]\n",
       "12       replaced      [-1.19791600451]"
      ]
     },
     "execution_count": 94,
     "metadata": {},
     "output_type": "execute_result"
    }
   ],
   "source": [
    "# examine the coefficients\n",
    "pd.DataFrame(zip(X.columns, np.transpose(model.coef_)))"
   ]
  },
  {
   "cell_type": "markdown",
   "metadata": {},
   "source": [
    "## Initial evaluation\n",
    "- On time and early orders most positively correlate to a 5 star rating\n",
    "- Customer complaints and the percentage of replaced order items most negatively correlate to customer rating"
   ]
  },
  {
   "cell_type": "markdown",
   "metadata": {},
   "source": [
    "## Model evaluation"
   ]
  },
  {
   "cell_type": "code",
   "execution_count": 95,
   "metadata": {
    "collapsed": false
   },
   "outputs": [
    {
     "data": {
      "text/plain": [
       "LogisticRegression(C=1.0, class_weight=None, dual=False, fit_intercept=True,\n",
       "          intercept_scaling=1, penalty='l2', random_state=None, tol=0.0001)"
      ]
     },
     "execution_count": 95,
     "metadata": {},
     "output_type": "execute_result"
    }
   ],
   "source": [
    "# evaluate the model by splitting into train and test sets\n",
    "X_train, X_test, y_train, y_test = train_test_split(X, y, test_size=0.3, \\\n",
    "                                                    random_state=0)\n",
    "model2 = LogisticRegression()\n",
    "model2.fit(X_train, y_train)"
   ]
  },
  {
   "cell_type": "code",
   "execution_count": 96,
   "metadata": {
    "collapsed": false
   },
   "outputs": [
    {
     "name": "stdout",
     "output_type": "stream",
     "text": [
      "[ 1.  1.  1. ...,  1.  0.  1.]\n"
     ]
    }
   ],
   "source": [
    "# predict class labels for the test set\n",
    "predicted = model2.predict(X_test)\n",
    "print(predicted)\n"
   ]
  },
  {
   "cell_type": "code",
   "execution_count": 97,
   "metadata": {
    "collapsed": false
   },
   "outputs": [
    {
     "name": "stdout",
     "output_type": "stream",
     "text": [
      "[[ 0.1419621   0.8580379 ]\n",
      " [ 0.45655742  0.54344258]\n",
      " [ 0.22485191  0.77514809]\n",
      " ..., \n",
      " [ 0.22868963  0.77131037]\n",
      " [ 0.94289318  0.05710682]\n",
      " [ 0.34940978  0.65059022]]\n"
     ]
    }
   ],
   "source": [
    "# generate class probabilities\n",
    "probs = model2.predict_proba(X_test)\n",
    "print(probs)"
   ]
  },
  {
   "cell_type": "code",
   "execution_count": 98,
   "metadata": {
    "collapsed": false
   },
   "outputs": [
    {
     "name": "stdout",
     "output_type": "stream",
     "text": [
      "0.800996329313\n",
      "0.816290154945\n"
     ]
    }
   ],
   "source": [
    "# generate evaluation metrics\n",
    "print(metrics.accuracy_score(y_test, predicted))\n",
    "#area under curve\n",
    "print(metrics.roc_auc_score(y_test, probs[:, 1]))"
   ]
  },
  {
   "cell_type": "code",
   "execution_count": 99,
   "metadata": {
    "collapsed": false
   },
   "outputs": [
    {
     "name": "stdout",
     "output_type": "stream",
     "text": [
      "[[ 690  680]\n",
      " [  79 2365]]\n",
      "             precision    recall  f1-score   support\n",
      "\n",
      "        0.0       0.90      0.50      0.65      1370\n",
      "        1.0       0.78      0.97      0.86      2444\n",
      "\n",
      "avg / total       0.82      0.80      0.78      3814\n",
      "\n"
     ]
    }
   ],
   "source": [
    "# confusion matrix\n",
    "print(metrics.confusion_matrix(y_test, predicted))\n",
    "print(metrics.classification_report(y_test, predicted))"
   ]
  },
  {
   "cell_type": "markdown",
   "metadata": {},
   "source": [
    "## Evaluate logistic regression Model  Using Cross-Validation\n"
   ]
  },
  {
   "cell_type": "code",
   "execution_count": 100,
   "metadata": {
    "collapsed": false
   },
   "outputs": [
    {
     "name": "stdout",
     "output_type": "stream",
     "text": [
      "[ 0.78459119  0.7586478   0.43553459  0.79166667  0.80896226  0.80031447\n",
      "  0.8007874   0.80314961  0.8015748   0.80787402]\n",
      "0.75931028079\n"
     ]
    }
   ],
   "source": [
    "# evaluate the model using 10-fold cross-validation\n",
    "scores = cross_val_score(LogisticRegression(), X, y, scoring='accuracy', cv=10)\n",
    "print(scores)\n",
    "print(scores.mean())"
   ]
  },
  {
   "cell_type": "markdown",
   "metadata": {},
   "source": [
    "#Decision Tree classifer"
   ]
  },
  {
   "cell_type": "code",
   "execution_count": 101,
   "metadata": {
    "collapsed": true
   },
   "outputs": [],
   "source": [
    "from sklearn import feature_extraction\n",
    "from sklearn import tree\n",
    "from sklearn.externals.six import StringIO  \n",
    "from IPython.core.display import Image\n",
    "import pydot\n",
    "\n",
    "import sys\n",
    "sys.path.append('/usr/lib/graphviz/python/')    # 32-bits\n",
    "sys.path.append('/usr/lib64/graphviz/python/')  # 63-bits\n",
    "\n",
    "from __future__ import print_function"
   ]
  },
  {
   "cell_type": "code",
   "execution_count": 102,
   "metadata": {
    "collapsed": false
   },
   "outputs": [
    {
     "data": {
      "text/plain": [
       "DecisionTreeClassifier(compute_importances=None, criterion='entropy',\n",
       "            max_depth=None, max_features=None, max_leaf_nodes=None,\n",
       "            min_density=None, min_samples_leaf=1, min_samples_split=2,\n",
       "            random_state=None, splitter='best')"
      ]
     },
     "execution_count": 102,
     "metadata": {},
     "output_type": "execute_result"
    }
   ],
   "source": [
    "dataclf = lm_rated_orders.dropna()\n",
    "dataclf = dataclf.drop('charge', axis=1)\n",
    "# Split the data set in features and labels\n",
    "features = X = dataclf.drop(['target'], axis=1)\n",
    "labels = y = dataclf.target\n",
    "\n",
    "test_features = features[-1:]\n",
    "test_label = labels[-1:]\n",
    "\n",
    "# Train the decision tree based on the entropy criterion\n",
    "clf = tree.DecisionTreeClassifier(criterion='entropy')\n",
    "clf = clf.fit(features[:-1], labels[:-1])\n",
    "clf"
   ]
  },
  {
   "cell_type": "code",
   "execution_count": 103,
   "metadata": {
    "collapsed": false
   },
   "outputs": [
    {
     "data": {
      "text/html": [
       "<div style=\"max-height:1000px;max-width:1500px;overflow:auto;\">\n",
       "<table border=\"1\" class=\"dataframe\">\n",
       "  <thead>\n",
       "    <tr style=\"text-align: right;\">\n",
       "      <th></th>\n",
       "      <th>minutes_late</th>\n",
       "      <th>minutes_early</th>\n",
       "      <th>on_time</th>\n",
       "      <th>fifteen_early</th>\n",
       "      <th>very_early</th>\n",
       "      <th>fifteen_late</th>\n",
       "      <th>very_late</th>\n",
       "      <th>has_issue</th>\n",
       "      <th>order_num</th>\n",
       "      <th>refunded</th>\n",
       "      <th>replaced</th>\n",
       "      <th>target</th>\n",
       "    </tr>\n",
       "  </thead>\n",
       "  <tbody>\n",
       "    <tr>\n",
       "      <th>count</th>\n",
       "      <td> 12712.000000</td>\n",
       "      <td> 12712.000000</td>\n",
       "      <td> 12712.000000</td>\n",
       "      <td> 12712.000000</td>\n",
       "      <td> 12712.000000</td>\n",
       "      <td> 12712.000000</td>\n",
       "      <td> 12712.000000</td>\n",
       "      <td> 12712.000000</td>\n",
       "      <td> 12712.000000</td>\n",
       "      <td> 12712.000000</td>\n",
       "      <td> 12712.000000</td>\n",
       "      <td> 12712.000000</td>\n",
       "    </tr>\n",
       "    <tr>\n",
       "      <th>mean</th>\n",
       "      <td>     3.069343</td>\n",
       "      <td>     2.585830</td>\n",
       "      <td>     0.685415</td>\n",
       "      <td>     0.116583</td>\n",
       "      <td>     0.068675</td>\n",
       "      <td>     0.067574</td>\n",
       "      <td>     0.061753</td>\n",
       "      <td>     0.184865</td>\n",
       "      <td>     9.669132</td>\n",
       "      <td>     0.102401</td>\n",
       "      <td>     0.109144</td>\n",
       "      <td>     0.643172</td>\n",
       "    </tr>\n",
       "    <tr>\n",
       "      <th>std</th>\n",
       "      <td>    13.196158</td>\n",
       "      <td>     7.531821</td>\n",
       "      <td>     0.464369</td>\n",
       "      <td>     0.320935</td>\n",
       "      <td>     0.252911</td>\n",
       "      <td>     0.251023</td>\n",
       "      <td>     0.240715</td>\n",
       "      <td>     0.388203</td>\n",
       "      <td>    15.127763</td>\n",
       "      <td>     0.119706</td>\n",
       "      <td>     0.116004</td>\n",
       "      <td>     0.479082</td>\n",
       "    </tr>\n",
       "    <tr>\n",
       "      <th>min</th>\n",
       "      <td>     0.000000</td>\n",
       "      <td>     0.000000</td>\n",
       "      <td>     0.000000</td>\n",
       "      <td>     0.000000</td>\n",
       "      <td>     0.000000</td>\n",
       "      <td>     0.000000</td>\n",
       "      <td>     0.000000</td>\n",
       "      <td>     0.000000</td>\n",
       "      <td>     1.000000</td>\n",
       "      <td>     0.000000</td>\n",
       "      <td>     0.000000</td>\n",
       "      <td>     0.000000</td>\n",
       "    </tr>\n",
       "    <tr>\n",
       "      <th>25%</th>\n",
       "      <td>     0.000000</td>\n",
       "      <td>     0.000000</td>\n",
       "      <td>     0.000000</td>\n",
       "      <td>     0.000000</td>\n",
       "      <td>     0.000000</td>\n",
       "      <td>     0.000000</td>\n",
       "      <td>     0.000000</td>\n",
       "      <td>     0.000000</td>\n",
       "      <td>     2.000000</td>\n",
       "      <td>     0.000000</td>\n",
       "      <td>     0.000000</td>\n",
       "      <td>     0.000000</td>\n",
       "    </tr>\n",
       "    <tr>\n",
       "      <th>50%</th>\n",
       "      <td>     0.000000</td>\n",
       "      <td>     0.000000</td>\n",
       "      <td>     1.000000</td>\n",
       "      <td>     0.000000</td>\n",
       "      <td>     0.000000</td>\n",
       "      <td>     0.000000</td>\n",
       "      <td>     0.000000</td>\n",
       "      <td>     0.000000</td>\n",
       "      <td>     5.000000</td>\n",
       "      <td>     0.071429</td>\n",
       "      <td>     0.090909</td>\n",
       "      <td>     1.000000</td>\n",
       "    </tr>\n",
       "    <tr>\n",
       "      <th>75%</th>\n",
       "      <td>     0.000000</td>\n",
       "      <td>     0.000000</td>\n",
       "      <td>     1.000000</td>\n",
       "      <td>     0.000000</td>\n",
       "      <td>     0.000000</td>\n",
       "      <td>     0.000000</td>\n",
       "      <td>     0.000000</td>\n",
       "      <td>     0.000000</td>\n",
       "      <td>    11.000000</td>\n",
       "      <td>     0.153846</td>\n",
       "      <td>     0.166667</td>\n",
       "      <td>     1.000000</td>\n",
       "    </tr>\n",
       "    <tr>\n",
       "      <th>max</th>\n",
       "      <td>   289.614104</td>\n",
       "      <td>    86.596930</td>\n",
       "      <td>     1.000000</td>\n",
       "      <td>     1.000000</td>\n",
       "      <td>     1.000000</td>\n",
       "      <td>     1.000000</td>\n",
       "      <td>     1.000000</td>\n",
       "      <td>     1.000000</td>\n",
       "      <td>   196.000000</td>\n",
       "      <td>     1.000000</td>\n",
       "      <td>     1.000000</td>\n",
       "      <td>     1.000000</td>\n",
       "    </tr>\n",
       "  </tbody>\n",
       "</table>\n",
       "</div>"
      ],
      "text/plain": [
       "       minutes_late  minutes_early       on_time  fifteen_early    very_early  \\\n",
       "count  12712.000000   12712.000000  12712.000000   12712.000000  12712.000000   \n",
       "mean       3.069343       2.585830      0.685415       0.116583      0.068675   \n",
       "std       13.196158       7.531821      0.464369       0.320935      0.252911   \n",
       "min        0.000000       0.000000      0.000000       0.000000      0.000000   \n",
       "25%        0.000000       0.000000      0.000000       0.000000      0.000000   \n",
       "50%        0.000000       0.000000      1.000000       0.000000      0.000000   \n",
       "75%        0.000000       0.000000      1.000000       0.000000      0.000000   \n",
       "max      289.614104      86.596930      1.000000       1.000000      1.000000   \n",
       "\n",
       "       fifteen_late     very_late     has_issue     order_num      refunded  \\\n",
       "count  12712.000000  12712.000000  12712.000000  12712.000000  12712.000000   \n",
       "mean       0.067574      0.061753      0.184865      9.669132      0.102401   \n",
       "std        0.251023      0.240715      0.388203     15.127763      0.119706   \n",
       "min        0.000000      0.000000      0.000000      1.000000      0.000000   \n",
       "25%        0.000000      0.000000      0.000000      2.000000      0.000000   \n",
       "50%        0.000000      0.000000      0.000000      5.000000      0.071429   \n",
       "75%        0.000000      0.000000      0.000000     11.000000      0.153846   \n",
       "max        1.000000      1.000000      1.000000    196.000000      1.000000   \n",
       "\n",
       "           replaced        target  \n",
       "count  12712.000000  12712.000000  \n",
       "mean       0.109144      0.643172  \n",
       "std        0.116004      0.479082  \n",
       "min        0.000000      0.000000  \n",
       "25%        0.000000      0.000000  \n",
       "50%        0.090909      1.000000  \n",
       "75%        0.166667      1.000000  \n",
       "max        1.000000      1.000000  "
      ]
     },
     "execution_count": 103,
     "metadata": {},
     "output_type": "execute_result"
    }
   ],
   "source": [
    "dataclf.describe()"
   ]
  },
  {
   "cell_type": "code",
   "execution_count": 113,
   "metadata": {
    "collapsed": false
   },
   "outputs": [
    {
     "data": {
      "image/png": "[encoded data removed]",
      "text/plain": [
       "<IPython.core.display.Image object>"
      ]
     },
     "execution_count": 113,
     "metadata": {},
     "output_type": "execute_result"
    }
   ],
   "source": [
    "# Visualize the decision tree\n",
    "dot_data = StringIO() \n",
    "tree.export_graphviz(clf, out_file=dot_data, feature_names=features.columns, max_depth=3) \n",
    "graph = pydot.graph_from_dot_data(dot_data.getvalue()) \n",
    "Image(graph.create_png())"
   ]
  },
  {
   "cell_type": "code",
   "execution_count": 105,
   "metadata": {
    "collapsed": false
   },
   "outputs": [
    {
     "name": "stdout",
     "output_type": "stream",
     "text": [
      "id             234669459\n",
      "minutes_late    0.000000\n",
      "minutes_early   0.000000\n",
      "on_time         1.000000\n",
      "fifteen_early   0.000000\n",
      "very_early      0.000000\n",
      "fifteen_late    0.000000\n",
      "very_late       0.000000\n",
      "has_issue       0.000000\n",
      "order_num       4.000000\n",
      "refunded        0.058824\n",
      "replaced        0.058824\n",
      "Predicted class: [1]\n",
      "Accurate prediction? True\n"
     ]
    }
   ],
   "source": [
    "# Make a single prediction with test data\n",
    "pred = clf.predict(test_features)\n",
    "print(features[-1:].T)\n",
    "print('Predicted class:', pred)\n",
    "print('Accurate prediction?', pred[0] == test_label.values[0])"
   ]
  },
  {
   "cell_type": "code",
   "execution_count": 106,
   "metadata": {
    "collapsed": true
   },
   "outputs": [],
   "source": [
    "from sklearn import linear_model\n",
    "from sklearn.cross_validation import train_test_split\n",
    "from sklearn import metrics\n",
    "from sklearn.cross_validation import cross_val_score\n",
    "from sklearn.tree import DecisionTreeClassifier\n"
   ]
  },
  {
   "cell_type": "code",
   "execution_count": 107,
   "metadata": {
    "collapsed": false
   },
   "outputs": [
    {
     "data": {
      "text/plain": [
       "<matplotlib.text.Text at 0x111298c50>"
      ]
     },
     "execution_count": 107,
     "metadata": {},
     "output_type": "execute_result"
    },
    {
     "data": {
      "image/png": "[encoded data removed]",
      "text/plain": [
       "<matplotlib.figure.Figure at 0x111283f90>"
      ]
     },
     "metadata": {},
     "output_type": "display_data"
    }
   ],
   "source": [
    "## evaluate DecisionTreeClassifier\n",
    "dtc_scores = []\n",
    "for i in range(1, 50):\n",
    "    dtclf = DecisionTreeClassifier(max_depth=None, min_samples_split=i,\n",
    "       random_state=0)\n",
    "    dtclf.fit(X, y)\n",
    "    scores = cross_val_score(dtclf, X, y)\n",
    "    dtc_scores.append(scores.mean())\n",
    "    #print(i, scores.mean())\n",
    "    \n",
    "df = pd.DataFrame({'Decision Tree': dtc_scores})\n",
    "df.plot()\n",
    "plt.xlabel('Splits')\n",
    "plt.ylabel('Accuracy')"
   ]
  },
  {
   "cell_type": "code",
   "execution_count": 108,
   "metadata": {
    "collapsed": false
   },
   "outputs": [
    {
     "name": "stdout",
     "output_type": "stream",
     "text": [
      "[ 0.66666667  0.55031447  0.41352201  0.64701258  0.74056604  0.73977987\n",
      "  0.72913386  0.7519685   0.74251969  0.7511811 ]\n",
      "0.673266478483\n"
     ]
    }
   ],
   "source": [
    "# evaluate the model using 10-fold cross-validation\n",
    "scores = cross_val_score(DecisionTreeClassifier(), X, y, scoring='accuracy', cv=10)\n",
    "print(scores)\n",
    "print(scores.mean())"
   ]
  },
  {
   "cell_type": "code",
   "execution_count": 109,
   "metadata": {
    "collapsed": false
   },
   "outputs": [
    {
     "name": "stdout",
     "output_type": "stream",
     "text": [
      "0.643171806167\n"
     ]
    }
   ],
   "source": [
    "print(y.mean())"
   ]
  },
  {
   "cell_type": "markdown",
   "metadata": {},
   "source": [
    "##Evaluate test set using decision tree"
   ]
  },
  {
   "cell_type": "code",
   "execution_count": 110,
   "metadata": {
    "collapsed": false
   },
   "outputs": [
    {
     "name": "stdout",
     "output_type": "stream",
     "text": [
      "[ 1.  0.  1. ...,  0.  0.  0.]\n"
     ]
    }
   ],
   "source": [
    "# declare DTC model\n",
    "model = DecisionTreeClassifier()\n",
    "model.fit(X_train, y_train)\n",
    "\n",
    "# predict class labels for the test set\n",
    "y_pred = model.predict(X_test)\n",
    "print(y_pred)"
   ]
  },
  {
   "cell_type": "code",
   "execution_count": 111,
   "metadata": {
    "collapsed": false
   },
   "outputs": [
    {
     "name": "stdout",
     "output_type": "stream",
     "text": [
      "[[ 844  526]\n",
      " [ 534 1910]]\n",
      "             precision    recall  f1-score   support\n",
      "\n",
      "        0.0       0.61      0.62      0.61      1370\n",
      "        1.0       0.78      0.78      0.78      2444\n",
      "\n",
      "avg / total       0.72      0.72      0.72      3814\n",
      "\n"
     ]
    }
   ],
   "source": [
    "# confusion matrix\n",
    "print(metrics.confusion_matrix(y_test, y_pred))\n",
    "print(metrics.classification_report(y_test, y_pred))"
   ]
  },
  {
   "cell_type": "markdown",
   "metadata": {},
   "source": [
    "## Conclusion\n",
    "### The features most detrimental to customer rating are, in order: \n",
    "\n",
    "1. Refund rate: customers do not like when a large percentage of the items in their order are out of stock and not delivered.\n",
    "2. Has issue, i.e. customer complained. This is self-selecting...customers who complained are probably more likely to rate poorly.\n",
    "3. Percent of items replaced. Surprisingly, this was more damaging that orders that are very late.\n",
    "4. Very late (15+ minutes)\n",
    "\n",
    "## Model evaluation\n",
    "- I was able to achieve an accuracy score of 80% using the logistic regression model\n",
    "- I then attempted to use a decision tree classifier, since the target was categorical. I was only able to achieve an accurary score of 67.3% using this model. This is very poor, given that mean value of the target is 64.3%"
   ]
  },
  {
   "cell_type": "markdown",
   "metadata": {},
   "source": [
    "## OLS regression summary"
   ]
  },
  {
   "cell_type": "code",
   "execution_count": 112,
   "metadata": {
    "collapsed": false
   },
   "outputs": [
    {
     "data": {
      "text/html": [
       "<table class=\"simpletable\">\n",
       "<caption>OLS Regression Results</caption>\n",
       "<tr>\n",
       "  <th>Dep. Variable:</th>         <td>target</td>      <th>  R-squared:         </th> <td>   0.352</td> \n",
       "</tr>\n",
       "<tr>\n",
       "  <th>Model:</th>                   <td>OLS</td>       <th>  Adj. R-squared:    </th> <td>   0.352</td> \n",
       "</tr>\n",
       "<tr>\n",
       "  <th>Method:</th>             <td>Least Squares</td>  <th>  F-statistic:       </th> <td>   690.4</td> \n",
       "</tr>\n",
       "<tr>\n",
       "  <th>Date:</th>             <td>Mon, 25 May 2015</td> <th>  Prob (F-statistic):</th>  <td>  0.00</td>  \n",
       "</tr>\n",
       "<tr>\n",
       "  <th>Time:</th>                 <td>22:18:58</td>     <th>  Log-Likelihood:    </th> <td> -5923.5</td> \n",
       "</tr>\n",
       "<tr>\n",
       "  <th>No. Observations:</th>      <td> 12712</td>      <th>  AIC:               </th> <td>1.187e+04</td>\n",
       "</tr>\n",
       "<tr>\n",
       "  <th>Df Residuals:</th>          <td> 12701</td>      <th>  BIC:               </th> <td>1.195e+04</td>\n",
       "</tr>\n",
       "<tr>\n",
       "  <th>Df Model:</th>              <td>    10</td>      <th>                     </th>     <td> </td>    \n",
       "</tr>\n",
       "<tr>\n",
       "  <th>Covariance Type:</th>      <td>nonrobust</td>    <th>                     </th>     <td> </td>    \n",
       "</tr>\n",
       "</table>\n",
       "<table class=\"simpletable\">\n",
       "<tr>\n",
       "        <td></td>           <th>coef</th>     <th>std err</th>      <th>t</th>      <th>P>|t|</th> <th>[95.0% Conf. Int.]</th> \n",
       "</tr>\n",
       "<tr>\n",
       "  <th>minutes_late</th>  <td>   -0.0017</td> <td>    0.000</td> <td>   -4.130</td> <td> 0.000</td> <td>   -0.003    -0.001</td>\n",
       "</tr>\n",
       "<tr>\n",
       "  <th>minutes_early</th> <td>   -0.0023</td> <td>    0.001</td> <td>   -2.205</td> <td> 0.027</td> <td>   -0.004    -0.000</td>\n",
       "</tr>\n",
       "<tr>\n",
       "  <th>on_time</th>       <td>    0.8519</td> <td>    0.007</td> <td>  127.578</td> <td> 0.000</td> <td>    0.839     0.865</td>\n",
       "</tr>\n",
       "<tr>\n",
       "  <th>fifteen_early</th> <td>    0.8531</td> <td>    0.013</td> <td>   63.803</td> <td> 0.000</td> <td>    0.827     0.879</td>\n",
       "</tr>\n",
       "<tr>\n",
       "  <th>very_early</th>    <td>    0.8944</td> <td>    0.031</td> <td>   28.802</td> <td> 0.000</td> <td>    0.834     0.955</td>\n",
       "</tr>\n",
       "<tr>\n",
       "  <th>fifteen_late</th>  <td>    0.8192</td> <td>    0.014</td> <td>   56.719</td> <td> 0.000</td> <td>    0.791     0.848</td>\n",
       "</tr>\n",
       "<tr>\n",
       "  <th>very_late</th>     <td>    0.7942</td> <td>    0.023</td> <td>   34.529</td> <td> 0.000</td> <td>    0.749     0.839</td>\n",
       "</tr>\n",
       "<tr>\n",
       "  <th>has_issue</th>     <td>   -0.6459</td> <td>    0.009</td> <td>  -70.902</td> <td> 0.000</td> <td>   -0.664    -0.628</td>\n",
       "</tr>\n",
       "<tr>\n",
       "  <th>order_num</th>     <td>    0.0015</td> <td>    0.000</td> <td>    6.433</td> <td> 0.000</td> <td>    0.001     0.002</td>\n",
       "</tr>\n",
       "<tr>\n",
       "  <th>refunded</th>      <td>   -0.6577</td> <td>    0.030</td> <td>  -22.049</td> <td> 0.000</td> <td>   -0.716    -0.599</td>\n",
       "</tr>\n",
       "<tr>\n",
       "  <th>replaced</th>      <td>   -0.2025</td> <td>    0.030</td> <td>   -6.790</td> <td> 0.000</td> <td>   -0.261    -0.144</td>\n",
       "</tr>\n",
       "</table>\n",
       "<table class=\"simpletable\">\n",
       "<tr>\n",
       "  <th>Omnibus:</th>       <td>1523.765</td> <th>  Durbin-Watson:     </th> <td>   1.994</td>\n",
       "</tr>\n",
       "<tr>\n",
       "  <th>Prob(Omnibus):</th>  <td> 0.000</td>  <th>  Jarque-Bera (JB):  </th> <td>2138.241</td>\n",
       "</tr>\n",
       "<tr>\n",
       "  <th>Skew:</th>           <td>-0.999</td>  <th>  Prob(JB):          </th> <td>    0.00</td>\n",
       "</tr>\n",
       "<tr>\n",
       "  <th>Kurtosis:</th>       <td> 3.218</td>  <th>  Cond. No.          </th> <td>    188.</td>\n",
       "</tr>\n",
       "</table>"
      ],
      "text/plain": [
       "<class 'statsmodels.iolib.summary.Summary'>\n",
       "\"\"\"\n",
       "                            OLS Regression Results                            \n",
       "==============================================================================\n",
       "Dep. Variable:                 target   R-squared:                       0.352\n",
       "Model:                            OLS   Adj. R-squared:                  0.352\n",
       "Method:                 Least Squares   F-statistic:                     690.4\n",
       "Date:                Mon, 25 May 2015   Prob (F-statistic):               0.00\n",
       "Time:                        22:18:58   Log-Likelihood:                -5923.5\n",
       "No. Observations:               12712   AIC:                         1.187e+04\n",
       "Df Residuals:                   12701   BIC:                         1.195e+04\n",
       "Df Model:                          10                                         \n",
       "Covariance Type:            nonrobust                                         \n",
       "=================================================================================\n",
       "                    coef    std err          t      P>|t|      [95.0% Conf. Int.]\n",
       "---------------------------------------------------------------------------------\n",
       "minutes_late     -0.0017      0.000     -4.130      0.000        -0.003    -0.001\n",
       "minutes_early    -0.0023      0.001     -2.205      0.027        -0.004    -0.000\n",
       "on_time           0.8519      0.007    127.578      0.000         0.839     0.865\n",
       "fifteen_early     0.8531      0.013     63.803      0.000         0.827     0.879\n",
       "very_early        0.8944      0.031     28.802      0.000         0.834     0.955\n",
       "fifteen_late      0.8192      0.014     56.719      0.000         0.791     0.848\n",
       "very_late         0.7942      0.023     34.529      0.000         0.749     0.839\n",
       "has_issue        -0.6459      0.009    -70.902      0.000        -0.664    -0.628\n",
       "order_num         0.0015      0.000      6.433      0.000         0.001     0.002\n",
       "refunded         -0.6577      0.030    -22.049      0.000        -0.716    -0.599\n",
       "replaced         -0.2025      0.030     -6.790      0.000        -0.261    -0.144\n",
       "==============================================================================\n",
       "Omnibus:                     1523.765   Durbin-Watson:                   1.994\n",
       "Prob(Omnibus):                  0.000   Jarque-Bera (JB):             2138.241\n",
       "Skew:                          -0.999   Prob(JB):                         0.00\n",
       "Kurtosis:                       3.218   Cond. No.                         188.\n",
       "==============================================================================\n",
       "\n",
       "Warnings:\n",
       "[1] Standard Errors assume that the covariance matrix of the errors is correctly specified.\n",
       "\"\"\""
      ]
     },
     "execution_count": 112,
     "metadata": {},
     "output_type": "execute_result"
    }
   ],
   "source": [
    "est = sm.OLS(y, X).fit()\n",
    "est.summary()"
   ]
  }
 ],
 "metadata": {
  "kernelspec": {
   "display_name": "Python 2",
   "language": "python",
   "name": "python2"
  },
  "language_info": {
   "codemirror_mode": {
    "name": "ipython",
    "version": 2
   },
   "file_extension": ".py",
   "mimetype": "text/x-python",
   "name": "python",
   "nbconvert_exporter": "python",
   "pygments_lexer": "ipython2",
   "version": "2.7.9"
  }
 },
 "nbformat": 4,
 "nbformat_minor": 0
}
