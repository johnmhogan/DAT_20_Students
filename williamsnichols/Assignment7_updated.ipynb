{
 "cells": [
  {
   "cell_type": "code",
   "execution_count": 66,
   "metadata": {
    "collapsed": false
   },
   "outputs": [
    {
     "data": {
      "text/html": [
       "<link rel=\"stylesheet\" href=\"http://bit.ly/1DxvcrA\">"
      ],
      "text/plain": [
       "<IPython.core.display.HTML object>"
      ]
     },
     "metadata": {},
     "output_type": "display_data"
    }
   ],
   "source": [
    "%%html \n",
    "<link rel=\"stylesheet\" href=\"http://bit.ly/1DxvcrA\">"
   ]
  },
  {
   "cell_type": "code",
   "execution_count": 79,
   "metadata": {
    "collapsed": false
   },
   "outputs": [],
   "source": [
    "%matplotlib inline\n",
    "# import sys\n",
    "import string\n",
    "import numpy as np\n",
    "import pandas as pd\n",
    "import matplotlib.pyplot as plt\n",
    "import seaborn as sns\n",
    "\n",
    "from sklearn import feature_extraction\n",
    "from sklearn import tree\n",
    "from sklearn.externals.six import StringIO  \n",
    "from IPython.core.display import Image\n",
    "import pydot\n",
    "\n",
    "import sys\n",
    "sys.path.append('/usr/lib/graphviz/python/')    # 32-bits\n",
    "sys.path.append('/usr/lib64/graphviz/python/')  # 63-bits\n",
    "\n",
    "from __future__ import print_function\n"
   ]
  },
  {
   "cell_type": "code",
   "execution_count": 68,
   "metadata": {
    "collapsed": true
   },
   "outputs": [],
   "source": [
    "# Attribute Information:\n",
    "\n",
    "# Input variables:\n",
    "# # bank client data:\n",
    "# 1 - age (numeric)\n",
    "# 2 - job : type of job (categorical: 'admin.','blue-collar','entrepreneur','housemaid','management','retired','self-employed','services','student','technician','unemployed','unknown')\n",
    "# 3 - marital : marital status (categorical: 'divorced','married','single','unknown'; note: 'divorced' means divorced or widowed)\n",
    "# 4 - education (categorical: 'basic.4y','basic.6y','basic.9y','high.school','illiterate','professional.course','university.degree','unknown')\n",
    "# 5 - default: has credit in default? (categorical: 'no','yes','unknown')\n",
    "# 6 - housing: has housing loan? (categorical: 'no','yes','unknown')\n",
    "# 7 - loan: has personal loan? (categorical: 'no','yes','unknown')\n",
    "# # related with the last contact of the current campaign:\n",
    "# 8 - contact: contact communication type (categorical: 'cellular','telephone') \n",
    "# 9 - month: last contact month of year (categorical: 'jan', 'feb', 'mar', ..., 'nov', 'dec')\n",
    "# 10 - day_of_week: last contact day of the week (categorical: 'mon','tue','wed','thu','fri')\n",
    "# 11 - duration: last contact duration, in seconds (numeric). Important note: this attribute highly affects the output target (e.g., if duration=0 then y='no'). Yet, the duration is not known before a call is performed. Also, after the end of the call y is obviously known. Thus, this input should only be included for benchmark purposes and should be discarded if the intention is to have a realistic predictive model.\n",
    "# # other attributes:\n",
    "# 12 - campaign: number of contacts performed during this campaign and for this client (numeric, includes last contact)\n",
    "# 13 - pdays: number of days that passed by after the client was last contacted from a previous campaign (numeric; 999 means client was not previously contacted)\n",
    "# 14 - previous: number of contacts performed before this campaign and for this client (numeric)\n",
    "# 15 - poutcome: outcome of the previous marketing campaign (categorical: 'failure','nonexistent','success')\n",
    "# # social and economic context attributes\n",
    "# 16 - emp.var.rate: employment variation rate - quarterly indicator (numeric)\n",
    "# 17 - cons.price.idx: consumer price index - monthly indicator (numeric) \n",
    "# 18 - cons.conf.idx: consumer confidence index - monthly indicator (numeric) \n",
    "# 19 - euribor3m: euribor 3 month rate - daily indicator (numeric)\n",
    "# 20 - nr.employed: number of employees - quarterly indicator (numeric)\n",
    "\n",
    "# Output variable (desired target):\n",
    "# 21 - y - has the client subscribed a term deposit? (binary: 'yes','no')"
   ]
  },
  {
   "cell_type": "markdown",
   "metadata": {},
   "source": [
    "## II. Homework Questions\n",
    "### Answer these questions in an iPython notebook. Show your code.\n",
    "\n",
    "- Use the file bank.csv to explore the dataset. Observe the features: Are they numbers? Are they strings? Are they binary? Are they continuous?\n",
    "- Read about label encoders from the sklearn documentation (http://scikit-learn.org/stable/modules/generated/sklearn.preprocessing.LabelEncoder.html) and use what you learn to transform the features to numerical features.\n",
    "- Build a decision tree classifier to predict whether a prospect will buy the product.\n",
    "- Evaluate the accuracy of your decision tree model using cross validation.\n"
   ]
  },
  {
   "cell_type": "code",
   "execution_count": 69,
   "metadata": {
    "collapsed": false
   },
   "outputs": [
    {
     "data": {
      "text/html": [
       "<div style=\"max-height:1000px;max-width:1500px;overflow:auto;\">\n",
       "<table border=\"1\" class=\"dataframe\">\n",
       "  <thead>\n",
       "    <tr style=\"text-align: right;\">\n",
       "      <th></th>\n",
       "      <th>age</th>\n",
       "      <th>job</th>\n",
       "      <th>marital</th>\n",
       "      <th>education</th>\n",
       "      <th>default</th>\n",
       "      <th>balance</th>\n",
       "      <th>housing</th>\n",
       "      <th>loan</th>\n",
       "      <th>contact</th>\n",
       "      <th>day</th>\n",
       "      <th>month</th>\n",
       "      <th>duration</th>\n",
       "      <th>campaign</th>\n",
       "      <th>pdays</th>\n",
       "      <th>previous</th>\n",
       "      <th>poutcome</th>\n",
       "      <th>y</th>\n",
       "    </tr>\n",
       "  </thead>\n",
       "  <tbody>\n",
       "    <tr>\n",
       "      <th>0</th>\n",
       "      <td> 30</td>\n",
       "      <td>  unemployed</td>\n",
       "      <td> married</td>\n",
       "      <td>   primary</td>\n",
       "      <td> no</td>\n",
       "      <td> 1787</td>\n",
       "      <td>  no</td>\n",
       "      <td>  no</td>\n",
       "      <td> cellular</td>\n",
       "      <td> 19</td>\n",
       "      <td> oct</td>\n",
       "      <td>  79</td>\n",
       "      <td> 1</td>\n",
       "      <td>  -1</td>\n",
       "      <td> 0</td>\n",
       "      <td> unknown</td>\n",
       "      <td> no</td>\n",
       "    </tr>\n",
       "    <tr>\n",
       "      <th>1</th>\n",
       "      <td> 33</td>\n",
       "      <td>    services</td>\n",
       "      <td> married</td>\n",
       "      <td> secondary</td>\n",
       "      <td> no</td>\n",
       "      <td> 4789</td>\n",
       "      <td> yes</td>\n",
       "      <td> yes</td>\n",
       "      <td> cellular</td>\n",
       "      <td> 11</td>\n",
       "      <td> may</td>\n",
       "      <td> 220</td>\n",
       "      <td> 1</td>\n",
       "      <td> 339</td>\n",
       "      <td> 4</td>\n",
       "      <td> failure</td>\n",
       "      <td> no</td>\n",
       "    </tr>\n",
       "    <tr>\n",
       "      <th>2</th>\n",
       "      <td> 35</td>\n",
       "      <td>  management</td>\n",
       "      <td>  single</td>\n",
       "      <td>  tertiary</td>\n",
       "      <td> no</td>\n",
       "      <td> 1350</td>\n",
       "      <td> yes</td>\n",
       "      <td>  no</td>\n",
       "      <td> cellular</td>\n",
       "      <td> 16</td>\n",
       "      <td> apr</td>\n",
       "      <td> 185</td>\n",
       "      <td> 1</td>\n",
       "      <td> 330</td>\n",
       "      <td> 1</td>\n",
       "      <td> failure</td>\n",
       "      <td> no</td>\n",
       "    </tr>\n",
       "    <tr>\n",
       "      <th>3</th>\n",
       "      <td> 30</td>\n",
       "      <td>  management</td>\n",
       "      <td> married</td>\n",
       "      <td>  tertiary</td>\n",
       "      <td> no</td>\n",
       "      <td> 1476</td>\n",
       "      <td> yes</td>\n",
       "      <td> yes</td>\n",
       "      <td>  unknown</td>\n",
       "      <td>  3</td>\n",
       "      <td> jun</td>\n",
       "      <td> 199</td>\n",
       "      <td> 4</td>\n",
       "      <td>  -1</td>\n",
       "      <td> 0</td>\n",
       "      <td> unknown</td>\n",
       "      <td> no</td>\n",
       "    </tr>\n",
       "    <tr>\n",
       "      <th>4</th>\n",
       "      <td> 59</td>\n",
       "      <td> blue-collar</td>\n",
       "      <td> married</td>\n",
       "      <td> secondary</td>\n",
       "      <td> no</td>\n",
       "      <td>    0</td>\n",
       "      <td> yes</td>\n",
       "      <td>  no</td>\n",
       "      <td>  unknown</td>\n",
       "      <td>  5</td>\n",
       "      <td> may</td>\n",
       "      <td> 226</td>\n",
       "      <td> 1</td>\n",
       "      <td>  -1</td>\n",
       "      <td> 0</td>\n",
       "      <td> unknown</td>\n",
       "      <td> no</td>\n",
       "    </tr>\n",
       "  </tbody>\n",
       "</table>\n",
       "</div>"
      ],
      "text/plain": [
       "   age          job  marital  education default  balance housing loan  \\\n",
       "0   30   unemployed  married    primary      no     1787      no   no   \n",
       "1   33     services  married  secondary      no     4789     yes  yes   \n",
       "2   35   management   single   tertiary      no     1350     yes   no   \n",
       "3   30   management  married   tertiary      no     1476     yes  yes   \n",
       "4   59  blue-collar  married  secondary      no        0     yes   no   \n",
       "\n",
       "    contact  day month  duration  campaign  pdays  previous poutcome   y  \n",
       "0  cellular   19   oct        79         1     -1         0  unknown  no  \n",
       "1  cellular   11   may       220         1    339         4  failure  no  \n",
       "2  cellular   16   apr       185         1    330         1  failure  no  \n",
       "3   unknown    3   jun       199         4     -1         0  unknown  no  \n",
       "4   unknown    5   may       226         1     -1         0  unknown  no  "
      ]
     },
     "execution_count": 69,
     "metadata": {},
     "output_type": "execute_result"
    }
   ],
   "source": [
    "# read data set\n",
    "data = pd.read_csv('data/bank/bank.csv', delimiter=';')\n",
    "data.head()"
   ]
  },
  {
   "cell_type": "markdown",
   "metadata": {},
   "source": [
    "##Feature Extraction"
   ]
  },
  {
   "cell_type": "code",
   "execution_count": 70,
   "metadata": {
    "collapsed": false
   },
   "outputs": [
    {
     "data": {
      "text/html": [
       "<div style=\"max-height:1000px;max-width:1500px;overflow:auto;\">\n",
       "<table border=\"1\" class=\"dataframe\">\n",
       "  <thead>\n",
       "    <tr style=\"text-align: right;\">\n",
       "      <th></th>\n",
       "      <th>age</th>\n",
       "      <th>balance</th>\n",
       "      <th>day</th>\n",
       "      <th>campaign</th>\n",
       "      <th>pdays</th>\n",
       "      <th>previous</th>\n",
       "      <th>y</th>\n",
       "      <th>contact=cellular</th>\n",
       "      <th>contact=telephone</th>\n",
       "      <th>contact=unknown</th>\n",
       "      <th>...</th>\n",
       "      <th>month=jun</th>\n",
       "      <th>month=mar</th>\n",
       "      <th>month=may</th>\n",
       "      <th>month=nov</th>\n",
       "      <th>month=oct</th>\n",
       "      <th>month=sep</th>\n",
       "      <th>poutcome=failure</th>\n",
       "      <th>poutcome=other</th>\n",
       "      <th>poutcome=success</th>\n",
       "      <th>poutcome=unknown</th>\n",
       "    </tr>\n",
       "  </thead>\n",
       "  <tbody>\n",
       "    <tr>\n",
       "      <th>0</th>\n",
       "      <td> 30</td>\n",
       "      <td> 1787</td>\n",
       "      <td> 19</td>\n",
       "      <td> 1</td>\n",
       "      <td>  -1</td>\n",
       "      <td> 0</td>\n",
       "      <td> no</td>\n",
       "      <td> 1</td>\n",
       "      <td> 0</td>\n",
       "      <td> 0</td>\n",
       "      <td>...</td>\n",
       "      <td> 0</td>\n",
       "      <td> 0</td>\n",
       "      <td> 0</td>\n",
       "      <td> 0</td>\n",
       "      <td> 1</td>\n",
       "      <td> 0</td>\n",
       "      <td> 0</td>\n",
       "      <td> 0</td>\n",
       "      <td> 0</td>\n",
       "      <td> 1</td>\n",
       "    </tr>\n",
       "    <tr>\n",
       "      <th>1</th>\n",
       "      <td> 33</td>\n",
       "      <td> 4789</td>\n",
       "      <td> 11</td>\n",
       "      <td> 1</td>\n",
       "      <td> 339</td>\n",
       "      <td> 4</td>\n",
       "      <td> no</td>\n",
       "      <td> 1</td>\n",
       "      <td> 0</td>\n",
       "      <td> 0</td>\n",
       "      <td>...</td>\n",
       "      <td> 0</td>\n",
       "      <td> 0</td>\n",
       "      <td> 1</td>\n",
       "      <td> 0</td>\n",
       "      <td> 0</td>\n",
       "      <td> 0</td>\n",
       "      <td> 1</td>\n",
       "      <td> 0</td>\n",
       "      <td> 0</td>\n",
       "      <td> 0</td>\n",
       "    </tr>\n",
       "    <tr>\n",
       "      <th>2</th>\n",
       "      <td> 35</td>\n",
       "      <td> 1350</td>\n",
       "      <td> 16</td>\n",
       "      <td> 1</td>\n",
       "      <td> 330</td>\n",
       "      <td> 1</td>\n",
       "      <td> no</td>\n",
       "      <td> 1</td>\n",
       "      <td> 0</td>\n",
       "      <td> 0</td>\n",
       "      <td>...</td>\n",
       "      <td> 0</td>\n",
       "      <td> 0</td>\n",
       "      <td> 0</td>\n",
       "      <td> 0</td>\n",
       "      <td> 0</td>\n",
       "      <td> 0</td>\n",
       "      <td> 1</td>\n",
       "      <td> 0</td>\n",
       "      <td> 0</td>\n",
       "      <td> 0</td>\n",
       "    </tr>\n",
       "    <tr>\n",
       "      <th>3</th>\n",
       "      <td> 30</td>\n",
       "      <td> 1476</td>\n",
       "      <td>  3</td>\n",
       "      <td> 4</td>\n",
       "      <td>  -1</td>\n",
       "      <td> 0</td>\n",
       "      <td> no</td>\n",
       "      <td> 0</td>\n",
       "      <td> 0</td>\n",
       "      <td> 1</td>\n",
       "      <td>...</td>\n",
       "      <td> 1</td>\n",
       "      <td> 0</td>\n",
       "      <td> 0</td>\n",
       "      <td> 0</td>\n",
       "      <td> 0</td>\n",
       "      <td> 0</td>\n",
       "      <td> 0</td>\n",
       "      <td> 0</td>\n",
       "      <td> 0</td>\n",
       "      <td> 1</td>\n",
       "    </tr>\n",
       "    <tr>\n",
       "      <th>4</th>\n",
       "      <td> 59</td>\n",
       "      <td>    0</td>\n",
       "      <td>  5</td>\n",
       "      <td> 1</td>\n",
       "      <td>  -1</td>\n",
       "      <td> 0</td>\n",
       "      <td> no</td>\n",
       "      <td> 0</td>\n",
       "      <td> 0</td>\n",
       "      <td> 1</td>\n",
       "      <td>...</td>\n",
       "      <td> 0</td>\n",
       "      <td> 0</td>\n",
       "      <td> 1</td>\n",
       "      <td> 0</td>\n",
       "      <td> 0</td>\n",
       "      <td> 0</td>\n",
       "      <td> 0</td>\n",
       "      <td> 0</td>\n",
       "      <td> 0</td>\n",
       "      <td> 1</td>\n",
       "    </tr>\n",
       "  </tbody>\n",
       "</table>\n",
       "<p>5 rows × 51 columns</p>\n",
       "</div>"
      ],
      "text/plain": [
       "   age  balance  day  campaign  pdays  previous   y  contact=cellular  \\\n",
       "0   30     1787   19         1     -1         0  no                 1   \n",
       "1   33     4789   11         1    339         4  no                 1   \n",
       "2   35     1350   16         1    330         1  no                 1   \n",
       "3   30     1476    3         4     -1         0  no                 0   \n",
       "4   59        0    5         1     -1         0  no                 0   \n",
       "\n",
       "   contact=telephone  contact=unknown        ...         month=jun  month=mar  \\\n",
       "0                  0                0        ...                 0          0   \n",
       "1                  0                0        ...                 0          0   \n",
       "2                  0                0        ...                 0          0   \n",
       "3                  0                1        ...                 1          0   \n",
       "4                  0                1        ...                 0          0   \n",
       "\n",
       "   month=may  month=nov  month=oct  month=sep  poutcome=failure  \\\n",
       "0          0          0          1          0                 0   \n",
       "1          1          0          0          0                 1   \n",
       "2          0          0          0          0                 1   \n",
       "3          0          0          0          0                 0   \n",
       "4          1          0          0          0                 0   \n",
       "\n",
       "   poutcome=other  poutcome=success  poutcome=unknown  \n",
       "0               0                 0                 1  \n",
       "1               0                 0                 0  \n",
       "2               0                 0                 0  \n",
       "3               0                 0                 1  \n",
       "4               0                 0                 1  \n",
       "\n",
       "[5 rows x 51 columns]"
      ]
     },
     "execution_count": 70,
     "metadata": {},
     "output_type": "execute_result"
    }
   ],
   "source": [
    "# drop duration column as per suggestion\n",
    "data = data.drop('duration', axis=1)\n",
    "\n",
    "# Do some feature extracting\n",
    "num_columns = ['age', 'balance', 'day',\t'duration',\t'campaign',\t'pdays', 'previous', 'y']\n",
    "cat_columns = data.columns - num_columns\n",
    "\n",
    "# turn category columns into dict\n",
    "cat_dict = data[cat_columns].to_dict(orient='records')\n",
    "\n",
    "# feature extraction\n",
    "vec = feature_extraction.DictVectorizer()\n",
    "\n",
    "cat_vector = vec.fit_transform(cat_dict).toarray()\n",
    "\n",
    "# return to dataframe\n",
    "data_vector = pd.DataFrame(cat_vector)\n",
    "# find columns\n",
    "vector_columns = vec.get_feature_names()\n",
    "# declare columns\n",
    "data_vector.columns = vector_columns\n",
    "data_vector.index = data.index\n",
    "\n",
    "# swap cat_columns for all columns?\n",
    "data = data.drop(cat_columns, axis=1)\n",
    "data = data.join(data_vector)\n",
    "data.head()"
   ]
  },
  {
   "cell_type": "code",
   "execution_count": 134,
   "metadata": {
    "collapsed": false
   },
   "outputs": [
    {
     "data": {
      "text/plain": [
       "0    4000\n",
       "1     521\n",
       "dtype: int64"
      ]
     },
     "execution_count": 134,
     "metadata": {},
     "output_type": "execute_result"
    }
   ],
   "source": [
    "# Let's convert the target variable to numerical so it's easier to work with:\n",
    "y = data['target'] = data['y'].map(\n",
    "{\n",
    "    'yes': 1, \n",
    "    'no': 0\n",
    "})\n",
    "data = data.drop('y', axis=1)\n",
    "data.target.value_counts()\n"
   ]
  },
  {
   "cell_type": "markdown",
   "metadata": {},
   "source": [
    "## Building the Decision Tree Classifier"
   ]
  },
  {
   "cell_type": "code",
   "execution_count": 136,
   "metadata": {
    "collapsed": false
   },
   "outputs": [
    {
     "data": {
      "text/plain": [
       "DecisionTreeClassifier(compute_importances=None, criterion='entropy',\n",
       "            max_depth=None, max_features=None, max_leaf_nodes=None,\n",
       "            min_density=None, min_samples_leaf=1, min_samples_split=2,\n",
       "            random_state=None, splitter='best')"
      ]
     },
     "execution_count": 136,
     "metadata": {},
     "output_type": "execute_result"
    }
   ],
   "source": [
    "# Split the data set in features and labels\n",
    "features = X = data.drop(['target'], axis=1)\n",
    "labels = y = data.target\n",
    "\n",
    "test_features = features[-1:]\n",
    "test_label = labels[-1:]\n",
    "\n",
    "# Train the decision tree based on the entropy criterion\n",
    "clf = tree.DecisionTreeClassifier(criterion='entropy')\n",
    "clf = clf.fit(features[:-1], labels[:-1])\n",
    "clf"
   ]
  },
  {
   "cell_type": "code",
   "execution_count": 137,
   "metadata": {
    "collapsed": false
   },
   "outputs": [
    {
     "data": {
      "text/html": [
       "<div style=\"max-height:1000px;max-width:1500px;overflow:auto;\">\n",
       "<table border=\"1\" class=\"dataframe\">\n",
       "  <thead>\n",
       "    <tr style=\"text-align: right;\">\n",
       "      <th></th>\n",
       "      <th>age</th>\n",
       "      <th>balance</th>\n",
       "      <th>day</th>\n",
       "      <th>campaign</th>\n",
       "      <th>pdays</th>\n",
       "      <th>previous</th>\n",
       "      <th>contact=cellular</th>\n",
       "      <th>contact=telephone</th>\n",
       "      <th>contact=unknown</th>\n",
       "      <th>default=no</th>\n",
       "      <th>...</th>\n",
       "      <th>month=mar</th>\n",
       "      <th>month=may</th>\n",
       "      <th>month=nov</th>\n",
       "      <th>month=oct</th>\n",
       "      <th>month=sep</th>\n",
       "      <th>poutcome=failure</th>\n",
       "      <th>poutcome=other</th>\n",
       "      <th>poutcome=success</th>\n",
       "      <th>poutcome=unknown</th>\n",
       "      <th>target</th>\n",
       "    </tr>\n",
       "  </thead>\n",
       "  <tbody>\n",
       "    <tr>\n",
       "      <th>0</th>\n",
       "      <td> 30</td>\n",
       "      <td> 1787</td>\n",
       "      <td> 19</td>\n",
       "      <td> 1</td>\n",
       "      <td>  -1</td>\n",
       "      <td> 0</td>\n",
       "      <td> 1</td>\n",
       "      <td> 0</td>\n",
       "      <td> 0</td>\n",
       "      <td> 1</td>\n",
       "      <td>...</td>\n",
       "      <td> 0</td>\n",
       "      <td> 0</td>\n",
       "      <td> 0</td>\n",
       "      <td> 1</td>\n",
       "      <td> 0</td>\n",
       "      <td> 0</td>\n",
       "      <td> 0</td>\n",
       "      <td> 0</td>\n",
       "      <td> 1</td>\n",
       "      <td> 0</td>\n",
       "    </tr>\n",
       "    <tr>\n",
       "      <th>1</th>\n",
       "      <td> 33</td>\n",
       "      <td> 4789</td>\n",
       "      <td> 11</td>\n",
       "      <td> 1</td>\n",
       "      <td> 339</td>\n",
       "      <td> 4</td>\n",
       "      <td> 1</td>\n",
       "      <td> 0</td>\n",
       "      <td> 0</td>\n",
       "      <td> 1</td>\n",
       "      <td>...</td>\n",
       "      <td> 0</td>\n",
       "      <td> 1</td>\n",
       "      <td> 0</td>\n",
       "      <td> 0</td>\n",
       "      <td> 0</td>\n",
       "      <td> 1</td>\n",
       "      <td> 0</td>\n",
       "      <td> 0</td>\n",
       "      <td> 0</td>\n",
       "      <td> 0</td>\n",
       "    </tr>\n",
       "    <tr>\n",
       "      <th>2</th>\n",
       "      <td> 35</td>\n",
       "      <td> 1350</td>\n",
       "      <td> 16</td>\n",
       "      <td> 1</td>\n",
       "      <td> 330</td>\n",
       "      <td> 1</td>\n",
       "      <td> 1</td>\n",
       "      <td> 0</td>\n",
       "      <td> 0</td>\n",
       "      <td> 1</td>\n",
       "      <td>...</td>\n",
       "      <td> 0</td>\n",
       "      <td> 0</td>\n",
       "      <td> 0</td>\n",
       "      <td> 0</td>\n",
       "      <td> 0</td>\n",
       "      <td> 1</td>\n",
       "      <td> 0</td>\n",
       "      <td> 0</td>\n",
       "      <td> 0</td>\n",
       "      <td> 0</td>\n",
       "    </tr>\n",
       "    <tr>\n",
       "      <th>3</th>\n",
       "      <td> 30</td>\n",
       "      <td> 1476</td>\n",
       "      <td>  3</td>\n",
       "      <td> 4</td>\n",
       "      <td>  -1</td>\n",
       "      <td> 0</td>\n",
       "      <td> 0</td>\n",
       "      <td> 0</td>\n",
       "      <td> 1</td>\n",
       "      <td> 1</td>\n",
       "      <td>...</td>\n",
       "      <td> 0</td>\n",
       "      <td> 0</td>\n",
       "      <td> 0</td>\n",
       "      <td> 0</td>\n",
       "      <td> 0</td>\n",
       "      <td> 0</td>\n",
       "      <td> 0</td>\n",
       "      <td> 0</td>\n",
       "      <td> 1</td>\n",
       "      <td> 0</td>\n",
       "    </tr>\n",
       "    <tr>\n",
       "      <th>4</th>\n",
       "      <td> 59</td>\n",
       "      <td>    0</td>\n",
       "      <td>  5</td>\n",
       "      <td> 1</td>\n",
       "      <td>  -1</td>\n",
       "      <td> 0</td>\n",
       "      <td> 0</td>\n",
       "      <td> 0</td>\n",
       "      <td> 1</td>\n",
       "      <td> 1</td>\n",
       "      <td>...</td>\n",
       "      <td> 0</td>\n",
       "      <td> 1</td>\n",
       "      <td> 0</td>\n",
       "      <td> 0</td>\n",
       "      <td> 0</td>\n",
       "      <td> 0</td>\n",
       "      <td> 0</td>\n",
       "      <td> 0</td>\n",
       "      <td> 1</td>\n",
       "      <td> 0</td>\n",
       "    </tr>\n",
       "  </tbody>\n",
       "</table>\n",
       "<p>5 rows × 51 columns</p>\n",
       "</div>"
      ],
      "text/plain": [
       "   age  balance  day  campaign  pdays  previous  contact=cellular  \\\n",
       "0   30     1787   19         1     -1         0                 1   \n",
       "1   33     4789   11         1    339         4                 1   \n",
       "2   35     1350   16         1    330         1                 1   \n",
       "3   30     1476    3         4     -1         0                 0   \n",
       "4   59        0    5         1     -1         0                 0   \n",
       "\n",
       "   contact=telephone  contact=unknown  default=no   ...    month=mar  \\\n",
       "0                  0                0           1   ...            0   \n",
       "1                  0                0           1   ...            0   \n",
       "2                  0                0           1   ...            0   \n",
       "3                  0                1           1   ...            0   \n",
       "4                  0                1           1   ...            0   \n",
       "\n",
       "   month=may  month=nov  month=oct  month=sep  poutcome=failure  \\\n",
       "0          0          0          1          0                 0   \n",
       "1          1          0          0          0                 1   \n",
       "2          0          0          0          0                 1   \n",
       "3          0          0          0          0                 0   \n",
       "4          1          0          0          0                 0   \n",
       "\n",
       "   poutcome=other  poutcome=success  poutcome=unknown  target  \n",
       "0               0                 0                 1       0  \n",
       "1               0                 0                 0       0  \n",
       "2               0                 0                 0       0  \n",
       "3               0                 0                 1       0  \n",
       "4               0                 0                 1       0  \n",
       "\n",
       "[5 rows x 51 columns]"
      ]
     },
     "execution_count": 137,
     "metadata": {},
     "output_type": "execute_result"
    }
   ],
   "source": [
    "data.head()"
   ]
  },
  {
   "cell_type": "code",
   "execution_count": 145,
   "metadata": {
    "collapsed": false
   },
   "outputs": [
    {
     "data": {
      "image/png": "[encoded data removed]",
      "text/plain": [
       "<IPython.core.display.Image object>"
      ]
     },
     "execution_count": 145,
     "metadata": {},
     "output_type": "execute_result"
    }
   ],
   "source": [
    "# Visualize the decision tree\n",
    "dot_data = StringIO() \n",
    "tree.export_graphviz(clf, out_file=dot_data, feature_names=features.columns, max_depth=3) \n",
    "graph = pydot.graph_from_dot_data(dot_data.getvalue()) \n",
    "Image(graph.create_png())"
   ]
  },
  {
   "cell_type": "code",
   "execution_count": 139,
   "metadata": {
    "collapsed": false
   },
   "outputs": [
    {
     "name": "stdout",
     "output_type": "stream",
     "text": [
      "                     4520\n",
      "age                    44\n",
      "balance              1136\n",
      "day                     3\n",
      "campaign                2\n",
      "pdays                 249\n",
      "previous                7\n",
      "contact=cellular        1\n",
      "contact=telephone       0\n",
      "contact=unknown         0\n",
      "default=no              1\n",
      "default=yes             0\n",
      "education=primary       0\n",
      "education=secondary     0\n",
      "education=tertiary      1\n",
      "education=unknown       0\n",
      "housing=no              0\n",
      "housing=yes             1\n",
      "job=admin.              0\n",
      "job=blue-collar         0\n",
      "job=entrepreneur        1\n",
      "job=housemaid           0\n",
      "job=management          0\n",
      "job=retired             0\n",
      "job=self-employed       0\n",
      "job=services            0\n",
      "job=student             0\n",
      "job=technician          0\n",
      "job=unemployed          0\n",
      "job=unknown             0\n",
      "loan=no                 0\n",
      "loan=yes                1\n",
      "marital=divorced        0\n",
      "marital=married         0\n",
      "marital=single          1\n",
      "month=apr               1\n",
      "month=aug               0\n",
      "month=dec               0\n",
      "month=feb               0\n",
      "month=jan               0\n",
      "month=jul               0\n",
      "month=jun               0\n",
      "month=mar               0\n",
      "month=may               0\n",
      "month=nov               0\n",
      "month=oct               0\n",
      "month=sep               0\n",
      "poutcome=failure        0\n",
      "poutcome=other          1\n",
      "poutcome=success        0\n",
      "poutcome=unknown        0\n",
      "Predicted class: [0]\n",
      "Accurate prediction? True\n"
     ]
    }
   ],
   "source": [
    "# Make a single prediction with test data\n",
    "pred = clf.predict(test_features)\n",
    "print(features[-1:].T)\n",
    "print('Predicted class:', pred)\n",
    "print('Accurate prediction?', pred[0] == test_label.values[0])"
   ]
  },
  {
   "cell_type": "code",
   "execution_count": 76,
   "metadata": {
    "collapsed": true
   },
   "outputs": [],
   "source": [
    "from sklearn import linear_model\n",
    "from sklearn.cross_validation import train_test_split\n",
    "from sklearn import metrics\n",
    "from sklearn.cross_validation import cross_val_score\n",
    "from sklearn.tree import DecisionTreeClassifier\n"
   ]
  },
  {
   "cell_type": "code",
   "execution_count": 140,
   "metadata": {
    "collapsed": true
   },
   "outputs": [],
   "source": [
    "# evaluate the model by splitting into train and test sets\n",
    "X_train, X_test, y_train, y_test = train_test_split(X, y, test_size=0.3, \\\n",
    "                                                    random_state=0)\n",
    "# flatten y into a 1-D array\n",
    "y = np.ravel(y)"
   ]
  },
  {
   "cell_type": "code",
   "execution_count": 154,
   "metadata": {
    "collapsed": false
   },
   "outputs": [
    {
     "data": {
      "text/plain": [
       "<matplotlib.text.Text at 0x10e8ff750>"
      ]
     },
     "execution_count": 154,
     "metadata": {},
     "output_type": "execute_result"
    },
    {
     "data": {
      "image/png": "[encoded data removed]",
      "text/plain": [
       "<matplotlib.figure.Figure at 0x10d93a8d0>"
      ]
     },
     "metadata": {},
     "output_type": "display_data"
    }
   ],
   "source": [
    "## evaluate DecisionTreeClassifier\n",
    "dtc_scores = []\n",
    "for i in range(1, 50):\n",
    "    dtclf = DecisionTreeClassifier(max_depth=None, min_samples_split=i,\n",
    "       random_state=0)\n",
    "    dtclf.fit(X, y)\n",
    "    scores = cross_val_score(dtclf, X, y)\n",
    "    dtc_scores.append(scores.mean())\n",
    "    #print(i, scores.mean())\n",
    "    \n",
    "df = pd.DataFrame({'Decision Tree': dtc_scores})\n",
    "plt.style.use('fivethirtyeight')    \n",
    "df.plot()\n",
    "plt.xlabel('Splits')\n",
    "plt.ylabel('Accuracy')"
   ]
  },
  {
   "cell_type": "code",
   "execution_count": 161,
   "metadata": {
    "collapsed": false
   },
   "outputs": [
    {
     "name": "stdout",
     "output_type": "stream",
     "text": [
      "[ 0.82781457  0.82522124  0.81637168  0.8340708   0.81637168  0.8119469\n",
      "  0.84292035  0.81858407  0.81858407  0.82522124]\n",
      "0.823710660493\n"
     ]
    }
   ],
   "source": [
    "# evaluate the model using 10-fold cross-validation\n",
    "scores = cross_val_score(DecisionTreeClassifier(), X, y, scoring='accuracy', cv=10)\n",
    "print(scores)\n",
    "print(scores.mean())"
   ]
  },
  {
   "cell_type": "markdown",
   "metadata": {},
   "source": [
    "## Evaulate test set"
   ]
  },
  {
   "cell_type": "code",
   "execution_count": 182,
   "metadata": {
    "collapsed": false
   },
   "outputs": [
    {
     "name": "stdout",
     "output_type": "stream",
     "text": [
      "[0 0 0 ..., 0 0 0]\n"
     ]
    }
   ],
   "source": [
    "# declare DTC model\n",
    "model = DecisionTreeClassifier()\n",
    "model.fit(X_train, y_train)\n",
    "\n",
    "# predict class labels for the test set\n",
    "y_pred = model.predict(X_test)\n",
    "print(y_pred)"
   ]
  },
  {
   "cell_type": "code",
   "execution_count": 183,
   "metadata": {
    "collapsed": false,
    "scrolled": true
   },
   "outputs": [
    {
     "name": "stdout",
     "output_type": "stream",
     "text": [
      "[[1066  124]\n",
      " [ 131   36]]\n",
      "             precision    recall  f1-score   support\n",
      "\n",
      "          0       0.89      0.90      0.89      1190\n",
      "          1       0.23      0.22      0.22       167\n",
      "\n",
      "avg / total       0.81      0.81      0.81      1357\n",
      "\n"
     ]
    }
   ],
   "source": [
    "# confusion matrix\n",
    "print(metrics.confusion_matrix(y_test, y_pred))\n",
    "print(metrics.classification_report(y_test, y_pred))"
   ]
  },
  {
   "cell_type": "markdown",
   "metadata": {},
   "source": [
    "- How do I interpret this? Predicting positives accurately but negatives poorly?"
   ]
  }
 ],
 "metadata": {
  "kernelspec": {
   "display_name": "Python 2",
   "language": "python",
   "name": "python2"
  },
  "language_info": {
   "codemirror_mode": {
    "name": "ipython",
    "version": 2
   },
   "file_extension": ".py",
   "mimetype": "text/x-python",
   "name": "python",
   "nbconvert_exporter": "python",
   "pygments_lexer": "ipython2",
   "version": "2.7.9"
  }
 },
 "nbformat": 4,
 "nbformat_minor": 0
}
