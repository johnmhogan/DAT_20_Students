{
 "metadata": {
  "name": "",
  "signature": "sha256:64818be9f660282c4fc4d85b7afae80b0fcfd8dda5cdc1adc7e937eccb61d6a9"
 },
 "nbformat": 3,
 "nbformat_minor": 0,
 "worksheets": []
}