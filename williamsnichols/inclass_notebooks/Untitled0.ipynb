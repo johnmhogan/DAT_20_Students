{
 "metadata": {
  "name": "",
  "signature": "sha256:39373428caa30f6a54a348cd932d9239d1070f53826edd84057266ca60a34018"
 },
 "nbformat": 3,
 "nbformat_minor": 0,
 "worksheets": [
  {
   "cells": [
    {
     "cell_type": "code",
     "collapsed": false,
     "input": [
      "%%html \n",
      "<link rel=\"stylesheet\" href=\"../css/custom.css\">"
     ],
     "language": "python",
     "metadata": {},
     "outputs": [
      {
       "html": [
        "<link rel=\"stylesheet\" href=\"../css/custom.css\">"
       ],
       "metadata": {},
       "output_type": "display_data",
       "text": [
        "<IPython.core.display.HTML at 0x10436c450>"
       ]
      }
     ],
     "prompt_number": 3
    },
    {
     "cell_type": "markdown",
     "metadata": {},
     "source": [
      "# title\n",
      "##sdfsdfds"
     ]
    }
   ],
   "metadata": {}
  }
 ]
}