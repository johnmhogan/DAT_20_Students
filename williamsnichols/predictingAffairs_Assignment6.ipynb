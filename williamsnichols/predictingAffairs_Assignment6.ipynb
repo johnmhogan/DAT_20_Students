{
 "cells": [
  {
   "cell_type": "markdown",
   "metadata": {},
   "source": [
    "# Assignment 6: Predicting affairs in marriages\n",
    "\n",
    "*Due: 4/16*\n",
    "\n",
    "**Work through the following code and complete the instructions are at the end**\n",
    "\n",
    "## Step 1: Load and explore the data"
   ]
  },
  {
   "cell_type": "code",
   "execution_count": 34,
   "metadata": {
    "collapsed": false
   },
   "outputs": [],
   "source": [
    "import numpy as np\n",
    "import pandas as pd\n",
    "import statsmodels.api as sm\n",
    "import matplotlib.pyplot as plt\n",
    "\n",
    "from sklearn.linear_model import LogisticRegression\n",
    "from sklearn.cross_validation import train_test_split\n",
    "\n",
    "%matplotlib inline"
   ]
  },
  {
   "cell_type": "code",
   "execution_count": 35,
   "metadata": {
    "collapsed": false
   },
   "outputs": [
    {
     "data": {
      "text/html": [
       "<div style=\"max-height:1000px;max-width:1500px;overflow:auto;\">\n",
       "<table border=\"1\" class=\"dataframe\">\n",
       "  <thead>\n",
       "    <tr style=\"text-align: right;\">\n",
       "      <th></th>\n",
       "      <th>rate_marriage</th>\n",
       "      <th>age</th>\n",
       "      <th>yrs_married</th>\n",
       "      <th>children</th>\n",
       "      <th>religious</th>\n",
       "      <th>educ</th>\n",
       "      <th>occupation</th>\n",
       "      <th>occupation_husb</th>\n",
       "      <th>affairs</th>\n",
       "      <th>affair</th>\n",
       "    </tr>\n",
       "  </thead>\n",
       "  <tbody>\n",
       "    <tr>\n",
       "      <th>0</th>\n",
       "      <td> 3</td>\n",
       "      <td> 32</td>\n",
       "      <td>  9.0</td>\n",
       "      <td> 3</td>\n",
       "      <td> 3</td>\n",
       "      <td> 17</td>\n",
       "      <td> 2</td>\n",
       "      <td> 5</td>\n",
       "      <td> 0.111111</td>\n",
       "      <td> 1</td>\n",
       "    </tr>\n",
       "    <tr>\n",
       "      <th>1</th>\n",
       "      <td> 3</td>\n",
       "      <td> 27</td>\n",
       "      <td> 13.0</td>\n",
       "      <td> 3</td>\n",
       "      <td> 1</td>\n",
       "      <td> 14</td>\n",
       "      <td> 3</td>\n",
       "      <td> 4</td>\n",
       "      <td> 3.230769</td>\n",
       "      <td> 1</td>\n",
       "    </tr>\n",
       "    <tr>\n",
       "      <th>2</th>\n",
       "      <td> 4</td>\n",
       "      <td> 22</td>\n",
       "      <td>  2.5</td>\n",
       "      <td> 0</td>\n",
       "      <td> 1</td>\n",
       "      <td> 16</td>\n",
       "      <td> 3</td>\n",
       "      <td> 5</td>\n",
       "      <td> 1.400000</td>\n",
       "      <td> 1</td>\n",
       "    </tr>\n",
       "    <tr>\n",
       "      <th>3</th>\n",
       "      <td> 4</td>\n",
       "      <td> 37</td>\n",
       "      <td> 16.5</td>\n",
       "      <td> 4</td>\n",
       "      <td> 3</td>\n",
       "      <td> 16</td>\n",
       "      <td> 5</td>\n",
       "      <td> 5</td>\n",
       "      <td> 0.727273</td>\n",
       "      <td> 1</td>\n",
       "    </tr>\n",
       "    <tr>\n",
       "      <th>4</th>\n",
       "      <td> 5</td>\n",
       "      <td> 27</td>\n",
       "      <td>  9.0</td>\n",
       "      <td> 1</td>\n",
       "      <td> 1</td>\n",
       "      <td> 14</td>\n",
       "      <td> 3</td>\n",
       "      <td> 4</td>\n",
       "      <td> 4.666666</td>\n",
       "      <td> 1</td>\n",
       "    </tr>\n",
       "  </tbody>\n",
       "</table>\n",
       "</div>"
      ],
      "text/plain": [
       "   rate_marriage  age  yrs_married  children  religious  educ  occupation  \\\n",
       "0              3   32          9.0         3          3    17           2   \n",
       "1              3   27         13.0         3          1    14           3   \n",
       "2              4   22          2.5         0          1    16           3   \n",
       "3              4   37         16.5         4          3    16           5   \n",
       "4              5   27          9.0         1          1    14           3   \n",
       "\n",
       "   occupation_husb   affairs  affair  \n",
       "0                5  0.111111       1  \n",
       "1                4  3.230769       1  \n",
       "2                5  1.400000       1  \n",
       "3                5  0.727273       1  \n",
       "4                4  4.666666       1  "
      ]
     },
     "execution_count": 35,
     "metadata": {},
     "output_type": "execute_result"
    }
   ],
   "source": [
    "# Load the affairs dataset from statsmodels. You can find details on the dataset here:\n",
    "# http://statsmodels.sourceforge.net/0.5.0/datasets/generated/fair.html\n",
    "dta = sm.datasets.fair.load_pandas().data\n",
    "\n",
    "# Let's \"affair\" column: 1 represents a marriage with an affairs, 0 represents no affair\n",
    "dta['affair'] = (dta.affairs > 0).astype(int)\n",
    "\n",
    "# Always preview the data to make sure the structure of the data frame is as you expect..\n",
    "dta.head()"
   ]
  },
  {
   "cell_type": "code",
   "execution_count": 36,
   "metadata": {
    "collapsed": false
   },
   "outputs": [
    {
     "data": {
      "text/html": [
       "<div style=\"max-height:1000px;max-width:1500px;overflow:auto;\">\n",
       "<table border=\"1\" class=\"dataframe\">\n",
       "  <thead>\n",
       "    <tr style=\"text-align: right;\">\n",
       "      <th></th>\n",
       "      <th>rate_marriage</th>\n",
       "      <th>age</th>\n",
       "      <th>yrs_married</th>\n",
       "      <th>children</th>\n",
       "      <th>religious</th>\n",
       "      <th>educ</th>\n",
       "      <th>occupation</th>\n",
       "      <th>occupation_husb</th>\n",
       "      <th>affairs</th>\n",
       "      <th>affair</th>\n",
       "    </tr>\n",
       "  </thead>\n",
       "  <tbody>\n",
       "    <tr>\n",
       "      <th>count</th>\n",
       "      <td> 6366.000000</td>\n",
       "      <td> 6366.000000</td>\n",
       "      <td> 6366.000000</td>\n",
       "      <td> 6366.000000</td>\n",
       "      <td> 6366.000000</td>\n",
       "      <td> 6366.000000</td>\n",
       "      <td> 6366.000000</td>\n",
       "      <td> 6366.000000</td>\n",
       "      <td> 6366.000000</td>\n",
       "      <td> 6366.000000</td>\n",
       "    </tr>\n",
       "    <tr>\n",
       "      <th>mean</th>\n",
       "      <td>    4.109645</td>\n",
       "      <td>   29.082862</td>\n",
       "      <td>    9.009425</td>\n",
       "      <td>    1.396874</td>\n",
       "      <td>    2.426170</td>\n",
       "      <td>   14.209865</td>\n",
       "      <td>    3.424128</td>\n",
       "      <td>    3.850141</td>\n",
       "      <td>    0.705374</td>\n",
       "      <td>    0.322495</td>\n",
       "    </tr>\n",
       "    <tr>\n",
       "      <th>std</th>\n",
       "      <td>    0.961430</td>\n",
       "      <td>    6.847882</td>\n",
       "      <td>    7.280120</td>\n",
       "      <td>    1.433471</td>\n",
       "      <td>    0.878369</td>\n",
       "      <td>    2.178003</td>\n",
       "      <td>    0.942399</td>\n",
       "      <td>    1.346435</td>\n",
       "      <td>    2.203374</td>\n",
       "      <td>    0.467468</td>\n",
       "    </tr>\n",
       "    <tr>\n",
       "      <th>min</th>\n",
       "      <td>    1.000000</td>\n",
       "      <td>   17.500000</td>\n",
       "      <td>    0.500000</td>\n",
       "      <td>    0.000000</td>\n",
       "      <td>    1.000000</td>\n",
       "      <td>    9.000000</td>\n",
       "      <td>    1.000000</td>\n",
       "      <td>    1.000000</td>\n",
       "      <td>    0.000000</td>\n",
       "      <td>    0.000000</td>\n",
       "    </tr>\n",
       "    <tr>\n",
       "      <th>25%</th>\n",
       "      <td>    4.000000</td>\n",
       "      <td>   22.000000</td>\n",
       "      <td>    2.500000</td>\n",
       "      <td>    0.000000</td>\n",
       "      <td>    2.000000</td>\n",
       "      <td>   12.000000</td>\n",
       "      <td>    3.000000</td>\n",
       "      <td>    3.000000</td>\n",
       "      <td>    0.000000</td>\n",
       "      <td>    0.000000</td>\n",
       "    </tr>\n",
       "    <tr>\n",
       "      <th>50%</th>\n",
       "      <td>    4.000000</td>\n",
       "      <td>   27.000000</td>\n",
       "      <td>    6.000000</td>\n",
       "      <td>    1.000000</td>\n",
       "      <td>    2.000000</td>\n",
       "      <td>   14.000000</td>\n",
       "      <td>    3.000000</td>\n",
       "      <td>    4.000000</td>\n",
       "      <td>    0.000000</td>\n",
       "      <td>    0.000000</td>\n",
       "    </tr>\n",
       "    <tr>\n",
       "      <th>75%</th>\n",
       "      <td>    5.000000</td>\n",
       "      <td>   32.000000</td>\n",
       "      <td>   16.500000</td>\n",
       "      <td>    2.000000</td>\n",
       "      <td>    3.000000</td>\n",
       "      <td>   16.000000</td>\n",
       "      <td>    4.000000</td>\n",
       "      <td>    5.000000</td>\n",
       "      <td>    0.484848</td>\n",
       "      <td>    1.000000</td>\n",
       "    </tr>\n",
       "    <tr>\n",
       "      <th>max</th>\n",
       "      <td>    5.000000</td>\n",
       "      <td>   42.000000</td>\n",
       "      <td>   23.000000</td>\n",
       "      <td>    5.500000</td>\n",
       "      <td>    4.000000</td>\n",
       "      <td>   20.000000</td>\n",
       "      <td>    6.000000</td>\n",
       "      <td>    6.000000</td>\n",
       "      <td>   57.599991</td>\n",
       "      <td>    1.000000</td>\n",
       "    </tr>\n",
       "  </tbody>\n",
       "</table>\n",
       "</div>"
      ],
      "text/plain": [
       "       rate_marriage          age  yrs_married     children    religious  \\\n",
       "count    6366.000000  6366.000000  6366.000000  6366.000000  6366.000000   \n",
       "mean        4.109645    29.082862     9.009425     1.396874     2.426170   \n",
       "std         0.961430     6.847882     7.280120     1.433471     0.878369   \n",
       "min         1.000000    17.500000     0.500000     0.000000     1.000000   \n",
       "25%         4.000000    22.000000     2.500000     0.000000     2.000000   \n",
       "50%         4.000000    27.000000     6.000000     1.000000     2.000000   \n",
       "75%         5.000000    32.000000    16.500000     2.000000     3.000000   \n",
       "max         5.000000    42.000000    23.000000     5.500000     4.000000   \n",
       "\n",
       "              educ   occupation  occupation_husb      affairs       affair  \n",
       "count  6366.000000  6366.000000      6366.000000  6366.000000  6366.000000  \n",
       "mean     14.209865     3.424128         3.850141     0.705374     0.322495  \n",
       "std       2.178003     0.942399         1.346435     2.203374     0.467468  \n",
       "min       9.000000     1.000000         1.000000     0.000000     0.000000  \n",
       "25%      12.000000     3.000000         3.000000     0.000000     0.000000  \n",
       "50%      14.000000     3.000000         4.000000     0.000000     0.000000  \n",
       "75%      16.000000     4.000000         5.000000     0.484848     1.000000  \n",
       "max      20.000000     6.000000         6.000000    57.599991     1.000000  "
      ]
     },
     "execution_count": 36,
     "metadata": {},
     "output_type": "execute_result"
    }
   ],
   "source": [
    "# We have a lot of discrete and categorical variables, which makes plotting less reliable. Try \n",
    "#  displaying a `scatter_matrix` to see for yourself.\n",
    "\n",
    "#  Let's take a look at the summary statistics:\n",
    "\n",
    "dta.describe()"
   ]
  },
  {
   "cell_type": "code",
   "execution_count": 37,
   "metadata": {
    "collapsed": false
   },
   "outputs": [
    {
     "data": {
      "image/png": "[encoded data removed]",
      "text/plain": [
       "<matplotlib.figure.Figure at 0x112449210>"
      ]
     },
     "metadata": {},
     "output_type": "display_data"
    }
   ],
   "source": [
    "# scatter matrix\n",
    "from pandas.tools.plotting import scatter_matrix\n",
    "\n",
    "scatter_matrix(dta, alpha=0.2, figsize=(10, 10), diagonal='kde');"
   ]
  },
  {
   "cell_type": "code",
   "execution_count": 38,
   "metadata": {
    "collapsed": false
   },
   "outputs": [
    {
     "data": {
      "text/html": [
       "<div style=\"max-height:1000px;max-width:1500px;overflow:auto;\">\n",
       "<table border=\"1\" class=\"dataframe\">\n",
       "  <thead>\n",
       "    <tr style=\"text-align: right;\">\n",
       "      <th></th>\n",
       "      <th>rate_marriage</th>\n",
       "      <th>age</th>\n",
       "      <th>yrs_married</th>\n",
       "      <th>children</th>\n",
       "      <th>religious</th>\n",
       "      <th>educ</th>\n",
       "      <th>occupation</th>\n",
       "      <th>occupation_husb</th>\n",
       "      <th>affairs</th>\n",
       "    </tr>\n",
       "    <tr>\n",
       "      <th>affair</th>\n",
       "      <th></th>\n",
       "      <th></th>\n",
       "      <th></th>\n",
       "      <th></th>\n",
       "      <th></th>\n",
       "      <th></th>\n",
       "      <th></th>\n",
       "      <th></th>\n",
       "      <th></th>\n",
       "    </tr>\n",
       "  </thead>\n",
       "  <tbody>\n",
       "    <tr>\n",
       "      <th>0</th>\n",
       "      <td> 4.329701</td>\n",
       "      <td> 28.390679</td>\n",
       "      <td>  7.989335</td>\n",
       "      <td> 1.238813</td>\n",
       "      <td> 2.504521</td>\n",
       "      <td> 14.322977</td>\n",
       "      <td> 3.405286</td>\n",
       "      <td> 3.833758</td>\n",
       "      <td> 0.000000</td>\n",
       "    </tr>\n",
       "    <tr>\n",
       "      <th>1</th>\n",
       "      <td> 3.647345</td>\n",
       "      <td> 30.537019</td>\n",
       "      <td> 11.152460</td>\n",
       "      <td> 1.728933</td>\n",
       "      <td> 2.261568</td>\n",
       "      <td> 13.972236</td>\n",
       "      <td> 3.463712</td>\n",
       "      <td> 3.884559</td>\n",
       "      <td> 2.187243</td>\n",
       "    </tr>\n",
       "  </tbody>\n",
       "</table>\n",
       "</div>"
      ],
      "text/plain": [
       "        rate_marriage        age  yrs_married  children  religious       educ  \\\n",
       "affair                                                                          \n",
       "0            4.329701  28.390679     7.989335  1.238813   2.504521  14.322977   \n",
       "1            3.647345  30.537019    11.152460  1.728933   2.261568  13.972236   \n",
       "\n",
       "        occupation  occupation_husb   affairs  \n",
       "affair                                         \n",
       "0         3.405286         3.833758  0.000000  \n",
       "1         3.463712         3.884559  2.187243  "
      ]
     },
     "execution_count": 38,
     "metadata": {},
     "output_type": "execute_result"
    }
   ],
   "source": [
    "dta.groupby('affair').mean()"
   ]
  },
  {
   "cell_type": "code",
   "execution_count": 39,
   "metadata": {
    "collapsed": false
   },
   "outputs": [
    {
     "data": {
      "text/html": [
       "<div style=\"max-height:1000px;max-width:1500px;overflow:auto;\">\n",
       "<table border=\"1\" class=\"dataframe\">\n",
       "  <thead>\n",
       "    <tr style=\"text-align: right;\">\n",
       "      <th></th>\n",
       "      <th>age</th>\n",
       "      <th>yrs_married</th>\n",
       "      <th>children</th>\n",
       "      <th>religious</th>\n",
       "      <th>educ</th>\n",
       "      <th>occupation</th>\n",
       "      <th>occupation_husb</th>\n",
       "      <th>affairs</th>\n",
       "      <th>affair</th>\n",
       "    </tr>\n",
       "    <tr>\n",
       "      <th>rate_marriage</th>\n",
       "      <th></th>\n",
       "      <th></th>\n",
       "      <th></th>\n",
       "      <th></th>\n",
       "      <th></th>\n",
       "      <th></th>\n",
       "      <th></th>\n",
       "      <th></th>\n",
       "      <th></th>\n",
       "    </tr>\n",
       "  </thead>\n",
       "  <tbody>\n",
       "    <tr>\n",
       "      <th>1</th>\n",
       "      <td> 33.823232</td>\n",
       "      <td> 13.914141</td>\n",
       "      <td> 2.308081</td>\n",
       "      <td> 2.343434</td>\n",
       "      <td> 13.848485</td>\n",
       "      <td> 3.232323</td>\n",
       "      <td> 3.838384</td>\n",
       "      <td> 1.201671</td>\n",
       "      <td> 0.747475</td>\n",
       "    </tr>\n",
       "    <tr>\n",
       "      <th>2</th>\n",
       "      <td> 30.471264</td>\n",
       "      <td> 10.727011</td>\n",
       "      <td> 1.735632</td>\n",
       "      <td> 2.330460</td>\n",
       "      <td> 13.864943</td>\n",
       "      <td> 3.327586</td>\n",
       "      <td> 3.764368</td>\n",
       "      <td> 1.615745</td>\n",
       "      <td> 0.635057</td>\n",
       "    </tr>\n",
       "    <tr>\n",
       "      <th>3</th>\n",
       "      <td> 30.008056</td>\n",
       "      <td> 10.239174</td>\n",
       "      <td> 1.638469</td>\n",
       "      <td> 2.308157</td>\n",
       "      <td> 14.001007</td>\n",
       "      <td> 3.402820</td>\n",
       "      <td> 3.798590</td>\n",
       "      <td> 1.371281</td>\n",
       "      <td> 0.550856</td>\n",
       "    </tr>\n",
       "    <tr>\n",
       "      <th>4</th>\n",
       "      <td> 28.856601</td>\n",
       "      <td>  8.816905</td>\n",
       "      <td> 1.369536</td>\n",
       "      <td> 2.400981</td>\n",
       "      <td> 14.144514</td>\n",
       "      <td> 3.420161</td>\n",
       "      <td> 3.835861</td>\n",
       "      <td> 0.674837</td>\n",
       "      <td> 0.322926</td>\n",
       "    </tr>\n",
       "    <tr>\n",
       "      <th>5</th>\n",
       "      <td> 28.574702</td>\n",
       "      <td>  8.311662</td>\n",
       "      <td> 1.252794</td>\n",
       "      <td> 2.506334</td>\n",
       "      <td> 14.399776</td>\n",
       "      <td> 3.454918</td>\n",
       "      <td> 3.892697</td>\n",
       "      <td> 0.348174</td>\n",
       "      <td> 0.181446</td>\n",
       "    </tr>\n",
       "  </tbody>\n",
       "</table>\n",
       "</div>"
      ],
      "text/plain": [
       "                     age  yrs_married  children  religious       educ  \\\n",
       "rate_marriage                                                           \n",
       "1              33.823232    13.914141  2.308081   2.343434  13.848485   \n",
       "2              30.471264    10.727011  1.735632   2.330460  13.864943   \n",
       "3              30.008056    10.239174  1.638469   2.308157  14.001007   \n",
       "4              28.856601     8.816905  1.369536   2.400981  14.144514   \n",
       "5              28.574702     8.311662  1.252794   2.506334  14.399776   \n",
       "\n",
       "               occupation  occupation_husb   affairs    affair  \n",
       "rate_marriage                                                   \n",
       "1                3.232323         3.838384  1.201671  0.747475  \n",
       "2                3.327586         3.764368  1.615745  0.635057  \n",
       "3                3.402820         3.798590  1.371281  0.550856  \n",
       "4                3.420161         3.835861  0.674837  0.322926  \n",
       "5                3.454918         3.892697  0.348174  0.181446  "
      ]
     },
     "execution_count": 39,
     "metadata": {},
     "output_type": "execute_result"
    }
   ],
   "source": [
    "dta.groupby('rate_marriage').mean()"
   ]
  },
  {
   "cell_type": "code",
   "execution_count": 40,
   "metadata": {
    "collapsed": false
   },
   "outputs": [
    {
     "data": {
      "image/png": "[encoded data removed]",
      "text/plain": [
       "<matplotlib.figure.Figure at 0x1109fb690>"
      ]
     },
     "metadata": {},
     "output_type": "display_data"
    }
   ],
   "source": [
    "# Due to the quantization of our data, the distributions offer better insight than the scatter plots.\n",
    "dta.hist(layout=(2, 5), figsize=(18, 18));"
   ]
  },
  {
   "cell_type": "code",
   "execution_count": 41,
   "metadata": {
    "collapsed": false
   },
   "outputs": [],
   "source": [
    "# rate_marriage   : How rate marriage, 1 = very poor, 2 = poor, 3 = fair,\n",
    "#                   4 = good, 5 = very good\n",
    "# age             : Age\n",
    "# yrs_married     : No. years married. Interval approximations. See\n",
    "#                   original paper for detailed explanation.\n",
    "# children        : No. children\n",
    "# religious       : How relgious, 1 = not, 2 = mildly, 3 = fairly,\n",
    "#                   4 = strongly\n",
    "# educ            : Level of education, 9 = grade school, 12 = high school,\n",
    "#                   14 = some college, 16 = college graduate, 17 = some\n",
    "#                   graduate school, 20 = advanced degree\n",
    "# occupation      : 1 = student, 2 = farming, agriculture; semi-skilled,\n",
    "#                   or unskilled worker; 3 = white-collar; 4 = teacher\n",
    "#                   counselor social worker, nurse; artist, writers;\n",
    "#                   technician, skilled worker, 5 = managerial,\n",
    "#                   administrative, business, 6 = professional with\n",
    "#                   advanced degree\n",
    "# occupation_husb : Husband's occupation. Same as occupation.\n",
    "# affairs         : measure of time spent in extramarital affairs"
   ]
  },
  {
   "cell_type": "code",
   "execution_count": 42,
   "metadata": {
    "collapsed": false
   },
   "outputs": [
    {
     "data": {
      "text/html": [
       "<div style=\"max-height:1000px;max-width:1500px;overflow:auto;\">\n",
       "<table border=\"1\" class=\"dataframe\">\n",
       "  <thead>\n",
       "    <tr style=\"text-align: right;\">\n",
       "      <th>affair</th>\n",
       "      <th>False</th>\n",
       "      <th>True</th>\n",
       "    </tr>\n",
       "    <tr>\n",
       "      <th>rate_marriage</th>\n",
       "      <th></th>\n",
       "      <th></th>\n",
       "    </tr>\n",
       "  </thead>\n",
       "  <tbody>\n",
       "    <tr>\n",
       "      <th>1</th>\n",
       "      <td>   25</td>\n",
       "      <td>  74</td>\n",
       "    </tr>\n",
       "    <tr>\n",
       "      <th>2</th>\n",
       "      <td>  127</td>\n",
       "      <td> 221</td>\n",
       "    </tr>\n",
       "    <tr>\n",
       "      <th>3</th>\n",
       "      <td>  446</td>\n",
       "      <td> 547</td>\n",
       "    </tr>\n",
       "    <tr>\n",
       "      <th>4</th>\n",
       "      <td> 1518</td>\n",
       "      <td> 724</td>\n",
       "    </tr>\n",
       "    <tr>\n",
       "      <th>5</th>\n",
       "      <td> 2197</td>\n",
       "      <td> 487</td>\n",
       "    </tr>\n",
       "  </tbody>\n",
       "</table>\n",
       "</div>"
      ],
      "text/plain": [
       "affair         False  True \n",
       "rate_marriage              \n",
       "1                 25     74\n",
       "2                127    221\n",
       "3                446    547\n",
       "4               1518    724\n",
       "5               2197    487"
      ]
     },
     "execution_count": 42,
     "metadata": {},
     "output_type": "execute_result"
    },
    {
     "data": {
      "image/png": "[encoded data removed]",
      "text/plain": [
       "<matplotlib.figure.Figure at 0x10e2ce490>"
      ]
     },
     "metadata": {},
     "output_type": "display_data"
    }
   ],
   "source": [
    "# crosstab is a very powerful function. Play around with it to see what it does \n",
    "#   you should know it well!\n",
    "affairs_by_marriage_rating = pd.crosstab(dta.rate_marriage, dta.affair.astype(bool))\n",
    "\n",
    "affairs_by_marriage_rating.plot(kind='bar', title='Affairs By Rating');\n",
    "\n",
    "affairs_by_marriage_rating"
   ]
  },
  {
   "cell_type": "code",
   "execution_count": 43,
   "metadata": {
    "collapsed": false
   },
   "outputs": [
    {
     "data": {
      "text/html": [
       "<div style=\"max-height:1000px;max-width:1500px;overflow:auto;\">\n",
       "<table border=\"1\" class=\"dataframe\">\n",
       "  <thead>\n",
       "    <tr style=\"text-align: right;\">\n",
       "      <th>affair</th>\n",
       "      <th>False</th>\n",
       "      <th>True</th>\n",
       "    </tr>\n",
       "    <tr>\n",
       "      <th>educ</th>\n",
       "      <th></th>\n",
       "      <th></th>\n",
       "    </tr>\n",
       "  </thead>\n",
       "  <tbody>\n",
       "    <tr>\n",
       "      <th>9 </th>\n",
       "      <td>   27</td>\n",
       "      <td>  21</td>\n",
       "    </tr>\n",
       "    <tr>\n",
       "      <th>12</th>\n",
       "      <td> 1361</td>\n",
       "      <td> 723</td>\n",
       "    </tr>\n",
       "    <tr>\n",
       "      <th>14</th>\n",
       "      <td> 1469</td>\n",
       "      <td> 808</td>\n",
       "    </tr>\n",
       "    <tr>\n",
       "      <th>16</th>\n",
       "      <td>  844</td>\n",
       "      <td> 273</td>\n",
       "    </tr>\n",
       "    <tr>\n",
       "      <th>17</th>\n",
       "      <td>  370</td>\n",
       "      <td> 140</td>\n",
       "    </tr>\n",
       "    <tr>\n",
       "      <th>20</th>\n",
       "      <td>  242</td>\n",
       "      <td>  88</td>\n",
       "    </tr>\n",
       "  </tbody>\n",
       "</table>\n",
       "</div>"
      ],
      "text/plain": [
       "affair  False  True \n",
       "educ                \n",
       "9          27     21\n",
       "12       1361    723\n",
       "14       1469    808\n",
       "16        844    273\n",
       "17        370    140\n",
       "20        242     88"
      ]
     },
     "execution_count": 43,
     "metadata": {},
     "output_type": "execute_result"
    },
    {
     "data": {
      "image/png": "[encoded data removed]",
      "text/plain": [
       "<matplotlib.figure.Figure at 0x10e3138d0>"
      ]
     },
     "metadata": {},
     "output_type": "display_data"
    }
   ],
   "source": [
    "# crosstab for education level\n",
    "affairs_by_education = pd.crosstab(dta.educ, dta.affair.astype(bool))\n",
    "\n",
    "affairs_by_education.plot(kind='bar', title='Affairs By Education');\n",
    "\n",
    "affairs_by_education"
   ]
  },
  {
   "cell_type": "code",
   "execution_count": 44,
   "metadata": {
    "collapsed": false
   },
   "outputs": [
    {
     "data": {
      "text/plain": [
       "<matplotlib.axes._subplots.AxesSubplot at 0x114d14490>"
      ]
     },
     "execution_count": 44,
     "metadata": {},
     "output_type": "execute_result"
    },
    {
     "data": {
      "image/png": "[encoded data removed]",
      "text/plain": [
       "<matplotlib.figure.Figure at 0x114d46890>"
      ]
     },
     "metadata": {},
     "output_type": "display_data"
    }
   ],
   "source": [
    "# Explore the following line of code and explain what it does in your own words\n",
    "percent_cheating = affairs_by_marriage_rating.div(affairs_by_marriage_rating.sum(1), axis=0)\n",
    "\n",
    "percent_cheating.plot(kind='bar', stacked=True);\n",
    "# the .div functions creates a percent of total bar chart segmented by the categories defined in the crosstag function."
   ]
  },
  {
   "cell_type": "code",
   "execution_count": 45,
   "metadata": {
    "collapsed": false
   },
   "outputs": [
    {
     "data": {
      "image/png": "[encoded data removed]",
      "text/plain": [
       "<matplotlib.figure.Figure at 0x1143dc3d0>"
      ]
     },
     "metadata": {},
     "output_type": "display_data"
    }
   ],
   "source": [
    "# Explore the following line of code and explain what it does in your own words\n",
    "percent_cheating = affairs_by_education.div(affairs_by_education.sum(1), axis=0)\n",
    "\n",
    "percent_cheating.plot(kind='bar', stacked=True);"
   ]
  },
  {
   "cell_type": "markdown",
   "metadata": {},
   "source": [
    "## Step 2: Training and validating the model\n"
   ]
  },
  {
   "cell_type": "code",
   "execution_count": 64,
   "metadata": {
    "collapsed": false
   },
   "outputs": [
    {
     "name": "stdout",
     "output_type": "stream",
     "text": [
      "\n"
     ]
    }
   ],
   "source": [
    "# Training the model:\n",
    "\n",
    "X = dta.drop(['affairs', 'affair'], axis=1)\n",
    "\n",
    "y = dta['affair']\n",
    "\n",
    "# Use 33% of our dataset for testing\n",
    "X_train, X_test, y_train, y_test = train_test_split(X, y, test_size=0.33, random_state=123)\n",
    "\n",
    "model = LogisticRegression()\n",
    "model = model.fit(X_train, y_train)"
   ]
  },
  {
   "cell_type": "code",
   "execution_count": 65,
   "metadata": {
    "collapsed": false
   },
   "outputs": [
    {
     "name": "stdout",
     "output_type": "stream",
     "text": [
      "Score on training data:  0.727315357562\n",
      "Score on test data:  0.713945740124\n"
     ]
    }
   ],
   "source": [
    "# Evaluating the model:\n",
    "# Which of these is lower and why?\n",
    "\n",
    "print \"Score on training data: \", model.score(X_train, y_train)\n",
    "print \"Score on test data: \", model.score(X_test, y_test)"
   ]
  },
  {
   "cell_type": "code",
   "execution_count": null,
   "metadata": {
    "collapsed": true
   },
   "outputs": [],
   "source": []
  },
  {
   "cell_type": "markdown",
   "metadata": {},
   "source": [
    "# Assignment:\n",
    "\n",
    "## Part I: Analyzing the model\n",
    "\n",
    "From the results of the above model, calculate the following:\n",
    "\n",
    "- **# of True positives:** Marriages with affairs which were properly classified as having an affair\n",
    "- **# of True negatives:** Marriages without affairs which were properly classified as not having an affair\n",
    "- **# of False positives:** Predicting an affair when there was none\n",
    "- **# of False negatives:** Not Predicting an affair when there was an affair\n",
    "\n",
    "*Hint:* You should use the **`model.predict`** function to calculate these.\n",
    "\n",
    "Based on the above compute the following:\n",
    "- Confusion matrix\n",
    "- Precision\n",
    "- Accuracy\n",
    "- F1 score\n",
    "\n",
    "State in your own words which each of these mean and the significance of each."
   ]
  },
  {
   "cell_type": "code",
   "execution_count": 48,
   "metadata": {
    "collapsed": false
   },
   "outputs": [],
   "source": [
    "# Your code here!\n"
   ]
  },
  {
   "cell_type": "code",
   "execution_count": 67,
   "metadata": {
    "collapsed": false
   },
   "outputs": [
    {
     "name": "stdout",
     "output_type": "stream",
     "text": [
      "(2101,)\n"
     ]
    }
   ],
   "source": [
    "# predictions = results.predict(data[half:])\n",
    "# predictions_train = model.predict(X_train)\n",
    "predictions_test = model.predict(X_test)\n",
    "\n",
    "# print \"Predictions train: \"\n",
    "# print predictions_train.shape\n",
    "# print \"Predictions test: \"\n",
    "print predictions_test.shape\n",
    "# print \"X_train: \"\n",
    "# print X_train.shape\n",
    "# print \"X_test: \"\n",
    "# print X_test.shape\n",
    "# print \"y train: \"\n",
    "# print y_train.shape\n",
    "# print  \"y_test: \"\n",
    "# print y_test.shape"
   ]
  },
  {
   "cell_type": "code",
   "execution_count": 68,
   "metadata": {
    "collapsed": false
   },
   "outputs": [],
   "source": [
    "# # manual calculation of confusion matrix\n",
    "# conf = predictions_train + (y_train * 2)\n",
    "\n",
    "# print conf\n",
    "# from collections import Counter\n",
    "# Counter(conf)"
   ]
  },
  {
   "cell_type": "markdown",
   "metadata": {},
   "source": [
    "\n",
    "- **# of True pos:** 492\n",
    "- **# of False pos:** 284\n",
    "- **# of True neg:** 2610\n",
    "- **# of False neg:** 879"
   ]
  },
  {
   "cell_type": "code",
   "execution_count": 69,
   "metadata": {
    "collapsed": false
   },
   "outputs": [
    {
     "name": "stdout",
     "output_type": "stream",
     "text": [
      "[[1285  134]\n",
      " [ 467  215]]\n"
     ]
    }
   ],
   "source": [
    "# confusion matrix\n",
    "from sklearn.metrics import confusion_matrix\n",
    "\n",
    "# print confusion_matrix(y_train, predictions_train)\n",
    "print confusion_matrix(y_test, predictions_test)\n"
   ]
  },
  {
   "cell_type": "code",
   "execution_count": 70,
   "metadata": {
    "collapsed": false
   },
   "outputs": [
    {
     "data": {
      "text/html": [
       "<div style=\"max-height:1000px;max-width:1500px;overflow:auto;\">\n",
       "<table border=\"1\" class=\"dataframe\">\n",
       "  <thead>\n",
       "    <tr style=\"text-align: right;\">\n",
       "      <th>Predicted</th>\n",
       "      <th>0</th>\n",
       "      <th>1</th>\n",
       "      <th>All</th>\n",
       "    </tr>\n",
       "    <tr>\n",
       "      <th>True</th>\n",
       "      <th></th>\n",
       "      <th></th>\n",
       "      <th></th>\n",
       "    </tr>\n",
       "  </thead>\n",
       "  <tbody>\n",
       "    <tr>\n",
       "      <th>0</th>\n",
       "      <td> 1285</td>\n",
       "      <td> 134</td>\n",
       "      <td> 1419</td>\n",
       "    </tr>\n",
       "    <tr>\n",
       "      <th>1</th>\n",
       "      <td>  467</td>\n",
       "      <td> 215</td>\n",
       "      <td>  682</td>\n",
       "    </tr>\n",
       "    <tr>\n",
       "      <th>All</th>\n",
       "      <td> 1752</td>\n",
       "      <td> 349</td>\n",
       "      <td> 2101</td>\n",
       "    </tr>\n",
       "  </tbody>\n",
       "</table>\n",
       "</div>"
      ],
      "text/plain": [
       "Predicted     0    1   All\n",
       "True                      \n",
       "0          1285  134  1419\n",
       "1           467  215   682\n",
       "All        1752  349  2101"
      ]
     },
     "execution_count": 70,
     "metadata": {},
     "output_type": "execute_result"
    }
   ],
   "source": [
    "# crosstab method to create confusion matrix\n",
    "pd.crosstab(y_test, predictions_test, rownames=['True'], colnames=['Predicted'], margins=True)\n"
   ]
  },
  {
   "cell_type": "code",
   "execution_count": 73,
   "metadata": {
    "collapsed": false
   },
   "outputs": [
    {
     "data": {
      "text/plain": [
       "0.61604584527220629"
      ]
     },
     "execution_count": 73,
     "metadata": {},
     "output_type": "execute_result"
    }
   ],
   "source": [
    "# calculate precision score: tp / (tp + fp)\n",
    "from sklearn.metrics import precision_score\n",
    "\n",
    "precision_score(y_test, predictions_test, labels=None, pos_label=1, sample_weight=None)"
   ]
  },
  {
   "cell_type": "code",
   "execution_count": 74,
   "metadata": {
    "collapsed": false
   },
   "outputs": [
    {
     "data": {
      "text/plain": [
       "0.71394574012375056"
      ]
     },
     "execution_count": 74,
     "metadata": {},
     "output_type": "execute_result"
    }
   ],
   "source": [
    "from sklearn.metrics import accuracy_score\n",
    "\n",
    "accuracy_score(y_test, predictions_test, normalize=True, sample_weight=None)"
   ]
  },
  {
   "cell_type": "code",
   "execution_count": 75,
   "metadata": {
    "collapsed": false
   },
   "outputs": [
    {
     "data": {
      "text/plain": [
       "array([ 0.81046988,  0.41707081])"
      ]
     },
     "execution_count": 75,
     "metadata": {},
     "output_type": "execute_result"
    }
   ],
   "source": [
    "# f1 = weighted avg of precision and recall\n",
    "from sklearn.metrics import f1_score\n",
    "\n",
    "f1_score(y_test, predictions_test, labels=None, pos_label=1, average=None, sample_weight=None)"
   ]
  },
  {
   "cell_type": "markdown",
   "metadata": {},
   "source": [
    "## Part II: Improving the model\n",
    "\n",
    "Our model achieved a score of roughly 71.3% accuracy on the test dataset. This may not seem too bad, but our average affair rate is about 32%, so a model that always predicted \"no\" would have an accuracy of `100*(1 - y.mean())` or about 68 percent. So we're not much better off than the null error rate.\n",
    "\n",
    "Your job is to improve the accuracy model without overfitting the data. To prevent overfitting, be sure to split your data so 70% of the dataset is used for testing and 30% of the dataset is used for training (so you should have 1909 samples in the testing dataset and 4457 samples in the training dataset). You should be able to achieve higher than 72.6% accuracy on the **test** dataset. **Be sure to calculate both the training and test error and strive for the highest accuracy possible.**\n",
    "\n",
    "**Consider applying the following techniques:**\n",
    "- Removing features\n",
    "- Regularization techniques (Look at the 'C' attribute in the `LogisticRegression` function)\n",
    "- Using a non-linear model"
   ]
  },
  {
   "cell_type": "code",
   "execution_count": 56,
   "metadata": {
    "collapsed": false
   },
   "outputs": [
    {
     "data": {
      "text/html": [
       "<div style=\"max-height:1000px;max-width:1500px;overflow:auto;\">\n",
       "<table border=\"1\" class=\"dataframe\">\n",
       "  <thead>\n",
       "    <tr style=\"text-align: right;\">\n",
       "      <th></th>\n",
       "      <th>rate_marriage</th>\n",
       "      <th>age</th>\n",
       "      <th>yrs_married</th>\n",
       "      <th>children</th>\n",
       "      <th>religious</th>\n",
       "      <th>educ</th>\n",
       "      <th>occupation</th>\n",
       "      <th>occupation_husb</th>\n",
       "    </tr>\n",
       "  </thead>\n",
       "  <tbody>\n",
       "    <tr>\n",
       "      <th>0</th>\n",
       "      <td> 3</td>\n",
       "      <td> 32</td>\n",
       "      <td>  9.0</td>\n",
       "      <td> 3</td>\n",
       "      <td> 3</td>\n",
       "      <td> 17</td>\n",
       "      <td> 2</td>\n",
       "      <td> 5</td>\n",
       "    </tr>\n",
       "    <tr>\n",
       "      <th>1</th>\n",
       "      <td> 3</td>\n",
       "      <td> 27</td>\n",
       "      <td> 13.0</td>\n",
       "      <td> 3</td>\n",
       "      <td> 1</td>\n",
       "      <td> 14</td>\n",
       "      <td> 3</td>\n",
       "      <td> 4</td>\n",
       "    </tr>\n",
       "    <tr>\n",
       "      <th>2</th>\n",
       "      <td> 4</td>\n",
       "      <td> 22</td>\n",
       "      <td>  2.5</td>\n",
       "      <td> 0</td>\n",
       "      <td> 1</td>\n",
       "      <td> 16</td>\n",
       "      <td> 3</td>\n",
       "      <td> 5</td>\n",
       "    </tr>\n",
       "    <tr>\n",
       "      <th>3</th>\n",
       "      <td> 4</td>\n",
       "      <td> 37</td>\n",
       "      <td> 16.5</td>\n",
       "      <td> 4</td>\n",
       "      <td> 3</td>\n",
       "      <td> 16</td>\n",
       "      <td> 5</td>\n",
       "      <td> 5</td>\n",
       "    </tr>\n",
       "    <tr>\n",
       "      <th>4</th>\n",
       "      <td> 5</td>\n",
       "      <td> 27</td>\n",
       "      <td>  9.0</td>\n",
       "      <td> 1</td>\n",
       "      <td> 1</td>\n",
       "      <td> 14</td>\n",
       "      <td> 3</td>\n",
       "      <td> 4</td>\n",
       "    </tr>\n",
       "  </tbody>\n",
       "</table>\n",
       "</div>"
      ],
      "text/plain": [
       "   rate_marriage  age  yrs_married  children  religious  educ  occupation  \\\n",
       "0              3   32          9.0         3          3    17           2   \n",
       "1              3   27         13.0         3          1    14           3   \n",
       "2              4   22          2.5         0          1    16           3   \n",
       "3              4   37         16.5         4          3    16           5   \n",
       "4              5   27          9.0         1          1    14           3   \n",
       "\n",
       "   occupation_husb  \n",
       "0                5  \n",
       "1                4  \n",
       "2                5  \n",
       "3                5  \n",
       "4                4  "
      ]
     },
     "execution_count": 56,
     "metadata": {},
     "output_type": "execute_result"
    }
   ],
   "source": [
    "# Training the model:\n",
    "# 'educ', 'age', 'occupation', 'yrs_married', 'religious', 'occupation_husb', \n",
    "X = dta.drop(['affairs', 'affair'], axis=1)\n",
    "\n",
    "y = dta['affair']\n",
    "\n",
    "# Use 33% of our dataset for testing\n",
    "X_train, X_test, y_train, y_test = train_test_split(X, y, test_size=0.3, random_state=123)\n",
    "\n",
    "model = LogisticRegression()\n",
    "model = model.fit(X_train, y_train)\n",
    "\n",
    "X.head()"
   ]
  },
  {
   "cell_type": "code",
   "execution_count": 57,
   "metadata": {
    "collapsed": false
   },
   "outputs": [
    {
     "name": "stdout",
     "output_type": "stream",
     "text": [
      "Score on training data:  0.726660682226\n",
      "Score on test data:  0.713089005236\n",
      "Accuracy score on training data:  0.726660682226\n",
      "Accuracy score on test data:  0.713089005236\n"
     ]
    }
   ],
   "source": [
    "print \"Score on training data: \", model.score(X_train, y_train)\n",
    "print \"Score on test data: \", model.score(X_test, y_test)\n",
    "\n",
    "predictions_train = model.predict(X_train)\n",
    "predictions_test = model.predict(X_test)\n",
    "\n",
    "print \"Accuracy score on training data: \", accuracy_score(predictions_train, y_train, normalize=True, sample_weight=None)\n",
    "print \"Accuracy score on test data: \", accuracy_score(predictions_test, y_test, normalize=True, sample_weight=None)"
   ]
  },
  {
   "cell_type": "code",
   "execution_count": 58,
   "metadata": {
    "collapsed": false
   },
   "outputs": [
    {
     "data": {
      "text/plain": [
       "[<matplotlib.lines.Line2D at 0x10febcb90>]"
      ]
     },
     "execution_count": 58,
     "metadata": {},
     "output_type": "execute_result"
    },
    {
     "data": {
      "image/png": "[encoded data removed]",
      "text/plain": [
       "<matplotlib.figure.Figure at 0x10fd12450>"
      ]
     },
     "metadata": {},
     "output_type": "display_data"
    }
   ],
   "source": [
    "# try non-linear model....KNN? where do I go from here?\n",
    "\n",
    "from matplotlib.colors import ListedColormap\n",
    "from sklearn.cross_validation import train_test_split, cross_val_score\n",
    "from sklearn import neighbors, datasets, feature_selection\n",
    "\n",
    "X_train, X_test, y_train, y_test = train_test_split(dta, dta.affair, test_size=0.4, random_state=12)\n",
    "\n",
    "scores = []\n",
    "\n",
    "n_neighbors = range(1, 80)\n",
    "for k in n_neighbors:\n",
    "    clf = neighbors.KNeighborsClassifier(k, weights='distance')\n",
    "    clf.fit(X_train, y_train)\n",
    "    score = clf.score(X_test, y_test)\n",
    "    scores.append(score)\n",
    "\n",
    "plt.plot(range(1, 80), scores)\n"
   ]
  }
 ],
 "metadata": {
  "kernelspec": {
   "display_name": "Python 2",
   "language": "python",
   "name": "python2"
  },
  "language_info": {
   "codemirror_mode": {
    "name": "ipython",
    "version": 2
   },
   "file_extension": ".py",
   "mimetype": "text/x-python",
   "name": "python",
   "nbconvert_exporter": "python",
   "pygments_lexer": "ipython2",
   "version": "2.7.9"
  }
 },
 "nbformat": 4,
 "nbformat_minor": 0
}
